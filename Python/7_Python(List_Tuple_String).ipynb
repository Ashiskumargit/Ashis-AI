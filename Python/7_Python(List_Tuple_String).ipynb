{
  "cells": [
    {
      "cell_type": "markdown",
      "metadata": {
        "id": "view-in-github",
        "colab_type": "text"
      },
      "source": [
        "<a href=\"https://colab.research.google.com/github/Ashiskumargit/Divine-AI-Data-Science/blob/main/Python/7_Python(List_Tuple_String).ipynb\" target=\"_parent\"><img src=\"https://colab.research.google.com/assets/colab-badge.svg\" alt=\"Open In Colab\"/></a>"
      ]
    },
    {
      "cell_type": "code",
      "execution_count": null,
      "id": "bd25bd64",
      "metadata": {
        "id": "bd25bd64"
      },
      "outputs": [],
      "source": [
        ""
      ]
    },
    {
      "cell_type": "code",
      "execution_count": null,
      "id": "9c3ba6a2",
      "metadata": {
        "id": "9c3ba6a2",
        "outputId": "0792414e-a262-49c1-f5bf-fa408b3201c0"
      },
      "outputs": [
        {
          "name": "stdout",
          "output_type": "stream",
          "text": [
            "spam\n",
            "['spam', 'eggs', 100, 1234]\n",
            "<class 'str'>\n",
            "<class 'list'>\n"
          ]
        }
      ],
      "source": [
        "a = ['spam', 'eggs', 100, 1234, 2*2]\n",
        "print(a[0])\n",
        "print(a[0:4])\n",
        "print(type(a[0]))\n",
        "print(type(a[0:4]))"
      ]
    },
    {
      "cell_type": "code",
      "execution_count": null,
      "id": "0a87592f",
      "metadata": {
        "id": "0a87592f"
      },
      "outputs": [],
      "source": [
        "a[2]+=23      # a[2] = a[2] + 23"
      ]
    },
    {
      "cell_type": "code",
      "execution_count": null,
      "id": "d7875aa5",
      "metadata": {
        "id": "d7875aa5",
        "outputId": "ac0b526e-0975-43d2-8714-ae79b511be40"
      },
      "outputs": [
        {
          "data": {
            "text/plain": [
              "['spam', 'eggs', 123, 1234, 4]"
            ]
          },
          "execution_count": 5,
          "metadata": {},
          "output_type": "execute_result"
        }
      ],
      "source": [
        "a"
      ]
    },
    {
      "cell_type": "code",
      "execution_count": null,
      "id": "2688fc6b",
      "metadata": {
        "id": "2688fc6b"
      },
      "outputs": [],
      "source": [
        "a[0:2] = [2,56]"
      ]
    },
    {
      "cell_type": "code",
      "execution_count": null,
      "id": "8f2e43d5",
      "metadata": {
        "id": "8f2e43d5",
        "outputId": "abf391e1-9f0f-4789-e433-a50f9dab115d"
      },
      "outputs": [
        {
          "data": {
            "text/plain": [
              "[2, 56, 123, 1234, 4]"
            ]
          },
          "execution_count": 7,
          "metadata": {},
          "output_type": "execute_result"
        }
      ],
      "source": [
        "a"
      ]
    },
    {
      "cell_type": "code",
      "execution_count": null,
      "id": "4f8041c9",
      "metadata": {
        "id": "4f8041c9"
      },
      "outputs": [],
      "source": [
        "a[0:1] = []"
      ]
    },
    {
      "cell_type": "code",
      "execution_count": null,
      "id": "567ad968",
      "metadata": {
        "id": "567ad968",
        "outputId": "5d5e6936-b1a5-40d2-803a-1a2f37ce58ea"
      },
      "outputs": [
        {
          "name": "stdout",
          "output_type": "stream",
          "text": [
            "[56, 123, 1234, 4]\n"
          ]
        }
      ],
      "source": [
        "print(a)"
      ]
    },
    {
      "cell_type": "code",
      "execution_count": null,
      "id": "9354fe0b",
      "metadata": {
        "id": "9354fe0b",
        "outputId": "976ca704-f659-40ac-8238-2d58cae3d9a5"
      },
      "outputs": [
        {
          "name": "stdout",
          "output_type": "stream",
          "text": [
            "6\n"
          ]
        }
      ],
      "source": [
        "lis = [ 1, [5, 6], 7]\n",
        "print(lis[1][1])"
      ]
    },
    {
      "cell_type": "code",
      "execution_count": null,
      "id": "5de0e2be",
      "metadata": {
        "id": "5de0e2be"
      },
      "outputs": [],
      "source": [
        "list = range(3)"
      ]
    },
    {
      "cell_type": "code",
      "execution_count": null,
      "id": "35efa0f2",
      "metadata": {
        "id": "35efa0f2",
        "outputId": "b69772df-1eec-4060-ad03-ce4c76595a06"
      },
      "outputs": [
        {
          "data": {
            "text/plain": [
              "range(0, 3)"
            ]
          },
          "execution_count": 15,
          "metadata": {},
          "output_type": "execute_result"
        }
      ],
      "source": [
        "list"
      ]
    },
    {
      "cell_type": "code",
      "execution_count": null,
      "id": "5f8f676f",
      "metadata": {
        "id": "5f8f676f",
        "outputId": "331ce38c-33ec-442e-d962-36e84959983e"
      },
      "outputs": [
        {
          "name": "stdout",
          "output_type": "stream",
          "text": [
            "range(0, 3)\n"
          ]
        }
      ],
      "source": [
        "print(list)"
      ]
    },
    {
      "cell_type": "code",
      "execution_count": null,
      "id": "de2694c1",
      "metadata": {
        "id": "de2694c1"
      },
      "outputs": [],
      "source": [
        "lst1 = range(10,23)"
      ]
    },
    {
      "cell_type": "code",
      "execution_count": null,
      "id": "ebd9aee7",
      "metadata": {
        "id": "ebd9aee7",
        "outputId": "032f04c2-4654-47cf-dde9-97eee410a581"
      },
      "outputs": [
        {
          "data": {
            "text/plain": [
              "range(10, 23)"
            ]
          },
          "execution_count": 18,
          "metadata": {},
          "output_type": "execute_result"
        }
      ],
      "source": [
        "lst1"
      ]
    },
    {
      "cell_type": "code",
      "execution_count": null,
      "id": "0d329deb",
      "metadata": {
        "id": "0d329deb"
      },
      "outputs": [],
      "source": [
        "lst2 = range(-3)"
      ]
    },
    {
      "cell_type": "code",
      "execution_count": null,
      "id": "aee56d4d",
      "metadata": {
        "id": "aee56d4d",
        "outputId": "765a8392-bbca-4c84-ac1f-f4be7b377ac5"
      },
      "outputs": [
        {
          "data": {
            "text/plain": [
              "range(0, -3)"
            ]
          },
          "execution_count": 20,
          "metadata": {},
          "output_type": "execute_result"
        }
      ],
      "source": [
        "lst2"
      ]
    },
    {
      "cell_type": "code",
      "execution_count": null,
      "id": "aacb395b",
      "metadata": {
        "id": "aacb395b",
        "outputId": "11346c39-1a97-49c4-f781-ef68b85c1379"
      },
      "outputs": [
        {
          "name": "stdout",
          "output_type": "stream",
          "text": [
            "Happy New Year: Joseph\n",
            "Happy New Year: Glenn\n",
            "Happy New Year: Sally\n"
          ]
        }
      ],
      "source": [
        "friends = ['Joseph', 'Glenn', 'Sally']\n",
        "for i in friends :\n",
        "    print('Happy New Year:',  i)"
      ]
    },
    {
      "cell_type": "code",
      "execution_count": null,
      "id": "e17fa20f",
      "metadata": {
        "id": "e17fa20f",
        "outputId": "878e0e8c-95e9-4772-be49-45b252a9b7e0"
      },
      "outputs": [
        {
          "name": "stdout",
          "output_type": "stream",
          "text": [
            "<list_iterator object at 0x000000B4E12FC9D0>\n",
            "<class 'list_iterator'>\n"
          ]
        }
      ],
      "source": [
        "f_iterator = iter(friends)\n",
        "print(f_iterator)\n",
        "print(type(f_iterator))"
      ]
    },
    {
      "cell_type": "code",
      "execution_count": null,
      "id": "044ac659",
      "metadata": {
        "id": "044ac659",
        "outputId": "805372dc-8a13-4363-84a5-2dbb7403c04e"
      },
      "outputs": [
        {
          "data": {
            "text/plain": [
              "'Joseph'"
            ]
          },
          "execution_count": 40,
          "metadata": {},
          "output_type": "execute_result"
        }
      ],
      "source": [
        "next(f_iterator)"
      ]
    },
    {
      "cell_type": "code",
      "execution_count": null,
      "id": "7a38e0fb",
      "metadata": {
        "id": "7a38e0fb"
      },
      "outputs": [],
      "source": [
        "for i in range(len(friends)) :\n",
        "    friend = i\n",
        "    print('Happy New Year:',  friend)"
      ]
    },
    {
      "cell_type": "code",
      "execution_count": null,
      "id": "ac5e98f9",
      "metadata": {
        "id": "ac5e98f9",
        "outputId": "2ba400f0-97f6-428e-e898-370cc53fbaca"
      },
      "outputs": [
        {
          "name": "stdout",
          "output_type": "stream",
          "text": [
            "Happy New Year: Joseph\n",
            "Happy New Year: Glenn\n",
            "Happy New Year: Sally\n"
          ]
        }
      ],
      "source": [
        "for i in range(len(friends)) :\n",
        "    friend =   friends[i]\n",
        "    print('Happy New Year:',  friend)"
      ]
    },
    {
      "cell_type": "code",
      "execution_count": null,
      "id": "6fc860e5",
      "metadata": {
        "id": "6fc860e5",
        "outputId": "9a08c2cf-0d64-49bf-829f-161dc58ba08b"
      },
      "outputs": [
        {
          "name": "stdout",
          "output_type": "stream",
          "text": [
            "['Sally', 'Joseph', 'Glenn']\n",
            "Sally\n"
          ]
        }
      ],
      "source": [
        "friends.sort(reverse=True)\n",
        "print(friends)\n",
        "print(friends[0])"
      ]
    },
    {
      "cell_type": "code",
      "execution_count": null,
      "id": "a945f21c",
      "metadata": {
        "id": "a945f21c"
      },
      "outputs": [],
      "source": [
        "L = [9, 41, 12, 3, 74, 15]\n",
        "L[::-2]"
      ]
    },
    {
      "cell_type": "code",
      "execution_count": null,
      "id": "b9af2d2a",
      "metadata": {
        "id": "b9af2d2a",
        "outputId": "eccf3144-e7ea-46ef-88f9-f8fa88143b90"
      },
      "outputs": [
        {
          "ename": "TypeError",
          "evalue": "'range' object is not callable",
          "output_type": "error",
          "traceback": [
            "\u001b[1;31m---------------------------------------------------------------------------\u001b[0m",
            "\u001b[1;31mTypeError\u001b[0m                                 Traceback (most recent call last)",
            "\u001b[1;32m~\\AppData\\Local\\Temp/ipykernel_6156/2685368048.py\u001b[0m in \u001b[0;36m<module>\u001b[1;34m\u001b[0m\n\u001b[1;32m----> 1\u001b[1;33m \u001b[0mlily\u001b[0m \u001b[1;33m=\u001b[0m \u001b[0mlist\u001b[0m\u001b[1;33m(\u001b[0m\u001b[1;33m)\u001b[0m\u001b[1;33m\u001b[0m\u001b[1;33m\u001b[0m\u001b[0m\n\u001b[0m\u001b[0;32m      2\u001b[0m \u001b[0mlily\u001b[0m\u001b[1;33m.\u001b[0m\u001b[0mappend\u001b[0m\u001b[1;33m(\u001b[0m\u001b[1;34m'book'\u001b[0m\u001b[1;33m)\u001b[0m\u001b[1;33m\u001b[0m\u001b[1;33m\u001b[0m\u001b[0m\n\u001b[0;32m      3\u001b[0m \u001b[0mlily\u001b[0m\u001b[1;33m.\u001b[0m\u001b[0mappend\u001b[0m\u001b[1;33m(\u001b[0m\u001b[1;36m99\u001b[0m\u001b[1;33m)\u001b[0m\u001b[1;33m\u001b[0m\u001b[1;33m\u001b[0m\u001b[0m\n\u001b[0;32m      4\u001b[0m \u001b[1;33m\u001b[0m\u001b[0m\n\u001b[0;32m      5\u001b[0m \u001b[0mprint\u001b[0m\u001b[1;33m(\u001b[0m\u001b[0mlily\u001b[0m\u001b[1;33m)\u001b[0m\u001b[1;33m\u001b[0m\u001b[1;33m\u001b[0m\u001b[0m\n",
            "\u001b[1;31mTypeError\u001b[0m: 'range' object is not callable"
          ]
        }
      ],
      "source": [
        "lily = list()\n",
        "lily.append('book')\n",
        "lily.append(99)\n",
        "\n",
        "print(lily)"
      ]
    },
    {
      "cell_type": "code",
      "execution_count": null,
      "id": "3831b8eb",
      "metadata": {
        "id": "3831b8eb",
        "outputId": "b52750a0-ea46-40fd-91c1-060bc649616b"
      },
      "outputs": [
        {
          "name": "stdout",
          "output_type": "stream",
          "text": [
            "banana\n"
          ]
        }
      ],
      "source": [
        "fruit = 'Banana'\n",
        "x = fruit.lower()\n",
        "print(x)"
      ]
    },
    {
      "cell_type": "code",
      "execution_count": null,
      "id": "cf8c2e44",
      "metadata": {
        "id": "cf8c2e44",
        "outputId": "e2c43b86-5179-428c-c297-356d0d581bc8"
      },
      "outputs": [
        {
          "name": "stdout",
          "output_type": "stream",
          "text": [
            "banana\n"
          ]
        }
      ],
      "source": [
        "fruit = 'Banana'\n",
        "#fruit[0] = 'b'\n",
        "x = fruit.lower()\n",
        "print(x)"
      ]
    },
    {
      "cell_type": "code",
      "execution_count": null,
      "id": "a6507ae4",
      "metadata": {
        "id": "a6507ae4",
        "outputId": "486673f4-bc73-466a-a24d-ce525b3b08e5"
      },
      "outputs": [
        {
          "name": "stdout",
          "output_type": "stream",
          "text": [
            "BANANA\n"
          ]
        }
      ],
      "source": [
        "fruit = 'Banana'\n",
        "x = fruit.upper()\n",
        "print(x)"
      ]
    },
    {
      "cell_type": "code",
      "execution_count": null,
      "id": "7848a82d",
      "metadata": {
        "id": "7848a82d",
        "outputId": "2238adbe-2e81-465e-ec37-9b071799c870"
      },
      "outputs": [
        {
          "name": "stdout",
          "output_type": "stream",
          "text": [
            "Enter a number: 45\n",
            "Enter a number: 15\n",
            "Enter a number: 30\n",
            "Enter a number: done\n",
            "Average: 30.0\n"
          ]
        }
      ],
      "source": [
        "total = 0\n",
        "count = 0\n",
        "while True :\n",
        "    inp = input('Enter a number: ')\n",
        "    if inp == 'done' : \n",
        "        break\n",
        "    value = float(inp)\n",
        "    total = total + value     \n",
        "    count = count + 1\n",
        "average = total / count\n",
        "print('Average:', average)"
      ]
    },
    {
      "cell_type": "code",
      "execution_count": null,
      "id": "e9ad69e5",
      "metadata": {
        "id": "e9ad69e5"
      },
      "outputs": [],
      "source": [
        "nums = [3, 41, 12, 9, 74, 15]\n",
        "print(len(nums))\n",
        "print(max(nums))\n",
        "print(min(nums))\n",
        "print(sum(nums))\n",
        "print(sum(nums)/len(nums))"
      ]
    }
  ],
  "metadata": {
    "kernelspec": {
      "display_name": "Python 3 (ipykernel)",
      "language": "python",
      "name": "python3"
    },
    "language_info": {
      "codemirror_mode": {
        "name": "ipython",
        "version": 3
      },
      "file_extension": ".py",
      "mimetype": "text/x-python",
      "name": "python",
      "nbconvert_exporter": "python",
      "pygments_lexer": "ipython3",
      "version": "3.8.12"
    },
    "colab": {
      "name": "7. Python(List-Tuple-String).ipynb",
      "provenance": [],
      "include_colab_link": true
    }
  },
  "nbformat": 4,
  "nbformat_minor": 5
}