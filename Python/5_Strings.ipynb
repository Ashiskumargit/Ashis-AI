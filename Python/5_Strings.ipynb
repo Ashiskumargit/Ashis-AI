{
  "cells": [
    {
      "cell_type": "markdown",
      "metadata": {
        "id": "view-in-github",
        "colab_type": "text"
      },
      "source": [
        "<a href=\"https://colab.research.google.com/github/Ashiskumargit/Divine-AI-Data-Science/blob/main/Python/5_Strings.ipynb\" target=\"_parent\"><img src=\"https://colab.research.google.com/assets/colab-badge.svg\" alt=\"Open In Colab\"/></a>"
      ]
    },
    {
      "cell_type": "markdown",
      "id": "58543e85",
      "metadata": {
        "id": "58543e85"
      },
      "source": [
        "# Creating a String\n",
        "\n",
        "To create a string in Python you need to use either single quotes or double quotes. For example:"
      ]
    },
    {
      "cell_type": "code",
      "execution_count": null,
      "id": "fde4ed8d",
      "metadata": {
        "id": "fde4ed8d"
      },
      "outputs": [],
      "source": [
        "# Single word\n",
        "'hello'"
      ]
    },
    {
      "cell_type": "code",
      "execution_count": null,
      "id": "78b0f97a",
      "metadata": {
        "id": "78b0f97a"
      },
      "outputs": [],
      "source": [
        "# Entire phrase \n",
        "'This is also a string"
      ]
    },
    {
      "cell_type": "code",
      "execution_count": null,
      "id": "76963ff7",
      "metadata": {
        "id": "76963ff7"
      },
      "outputs": [],
      "source": [
        "# We can also use double quote\n",
        "\"String built with double quotes\""
      ]
    },
    {
      "cell_type": "code",
      "execution_count": null,
      "id": "caf388c3",
      "metadata": {
        "id": "caf388c3"
      },
      "outputs": [],
      "source": [
        "# Be careful with quotes!\n",
        "'I'm using single quotes, but this will create an error'"
      ]
    },
    {
      "cell_type": "code",
      "execution_count": null,
      "id": "ca6b4d71",
      "metadata": {
        "id": "ca6b4d71"
      },
      "outputs": [],
      "source": [
        "\"Now I'm ready to use the single quotes inside a string!\""
      ]
    },
    {
      "cell_type": "markdown",
      "id": "406ecca7",
      "metadata": {
        "id": "406ecca7"
      },
      "source": [
        "### Printing a String"
      ]
    },
    {
      "cell_type": "code",
      "execution_count": null,
      "id": "0015ff89",
      "metadata": {
        "id": "0015ff89",
        "outputId": "35e00db1-aa61-4e46-a809-b97d918ecc90"
      },
      "outputs": [
        {
          "data": {
            "text/plain": [
              "'Hello World'"
            ]
          },
          "execution_count": 2,
          "metadata": {},
          "output_type": "execute_result"
        }
      ],
      "source": [
        "# We can simply declare a string\n",
        "'Hello World'"
      ]
    },
    {
      "cell_type": "code",
      "execution_count": null,
      "id": "7b474a18",
      "metadata": {
        "id": "7b474a18",
        "outputId": "b556c814-87ec-4c65-fad0-2d42c991e1d5"
      },
      "outputs": [
        {
          "data": {
            "text/plain": [
              "'Hello World 2'"
            ]
          },
          "execution_count": 1,
          "metadata": {},
          "output_type": "execute_result"
        }
      ],
      "source": [
        "# Note that we can't output multiple strings this way\n",
        "'Hello World 1'\n",
        "'Hello World 2'"
      ]
    },
    {
      "cell_type": "markdown",
      "id": "6e55a201",
      "metadata": {
        "id": "6e55a201"
      },
      "source": [
        "### We can use a print statement to print a string. "
      ]
    },
    {
      "cell_type": "code",
      "execution_count": null,
      "id": "788e701f",
      "metadata": {
        "id": "788e701f"
      },
      "outputs": [],
      "source": [
        "print('Hello World 1')\n",
        "print('Hello World 2')\n",
        "print('Use \\n to print a new line')\n",
        "print('\\n')\n",
        "print('See what I mean?')"
      ]
    },
    {
      "cell_type": "markdown",
      "id": "04109d15",
      "metadata": {
        "id": "04109d15"
      },
      "source": [
        "### String Basics "
      ]
    },
    {
      "cell_type": "code",
      "execution_count": null,
      "id": "5e99ad53",
      "metadata": {
        "id": "5e99ad53",
        "outputId": "3bc83933-ad26-4652-ca7d-cad62b9d95dd"
      },
      "outputs": [
        {
          "data": {
            "text/plain": [
              "11"
            ]
          },
          "execution_count": 3,
          "metadata": {},
          "output_type": "execute_result"
        }
      ],
      "source": [
        "len('Hello World')"
      ]
    },
    {
      "cell_type": "markdown",
      "id": "5d41b487",
      "metadata": {
        "id": "5d41b487"
      },
      "source": [
        "### String Indexing "
      ]
    },
    {
      "cell_type": "code",
      "execution_count": null,
      "id": "29b41e6f",
      "metadata": {
        "id": "29b41e6f"
      },
      "outputs": [],
      "source": [
        "# Assign s as a string\n",
        "s = 'Hello World'"
      ]
    },
    {
      "cell_type": "code",
      "execution_count": null,
      "id": "362ac62d",
      "metadata": {
        "id": "362ac62d",
        "outputId": "57f77e75-7a90-4e60-c9e9-c5dd2729e78f"
      },
      "outputs": [
        {
          "data": {
            "text/plain": [
              "'Hello World'"
            ]
          },
          "execution_count": 2,
          "metadata": {},
          "output_type": "execute_result"
        }
      ],
      "source": [
        "#Check\n",
        "s"
      ]
    },
    {
      "cell_type": "code",
      "execution_count": null,
      "id": "5203bb72",
      "metadata": {
        "id": "5203bb72"
      },
      "outputs": [],
      "source": [
        "# Print the object\n",
        "print(s) "
      ]
    },
    {
      "cell_type": "markdown",
      "id": "03c0f987",
      "metadata": {
        "id": "03c0f987"
      },
      "source": [
        "Let's start indexing!"
      ]
    },
    {
      "cell_type": "code",
      "execution_count": null,
      "id": "d0ccfb07",
      "metadata": {
        "id": "d0ccfb07",
        "outputId": "aad25fd7-ca94-4082-c325-6c024c27094e"
      },
      "outputs": [
        {
          "data": {
            "text/plain": [
              "'H'"
            ]
          },
          "execution_count": 3,
          "metadata": {},
          "output_type": "execute_result"
        }
      ],
      "source": [
        "# Show first element (in this case a letter)\n",
        "s[0]"
      ]
    },
    {
      "cell_type": "code",
      "execution_count": null,
      "id": "4a5bc5a7",
      "metadata": {
        "id": "4a5bc5a7",
        "outputId": "a0503ad9-eece-4ab1-b823-6d6f52054f2e"
      },
      "outputs": [
        {
          "data": {
            "text/plain": [
              "'d'"
            ]
          },
          "execution_count": 4,
          "metadata": {},
          "output_type": "execute_result"
        }
      ],
      "source": [
        "# Last letter (one index behind 0 so it loops back around)\n",
        "s[-1]"
      ]
    },
    {
      "cell_type": "code",
      "execution_count": null,
      "id": "941e2516",
      "metadata": {
        "id": "941e2516",
        "outputId": "acc0da01-ca9e-4279-a458-0900a713e6f8"
      },
      "outputs": [
        {
          "data": {
            "text/plain": [
              "'Hello World'"
            ]
          },
          "execution_count": 5,
          "metadata": {},
          "output_type": "execute_result"
        }
      ],
      "source": [
        "# Note that there is no change to the original s\n",
        "s"
      ]
    },
    {
      "cell_type": "code",
      "execution_count": null,
      "id": "412263b1",
      "metadata": {
        "id": "412263b1",
        "outputId": "5d1cd52e-8375-476b-93bc-e81f0672ca98"
      },
      "outputs": [
        {
          "data": {
            "text/plain": [
              "'ello World'"
            ]
          },
          "execution_count": 6,
          "metadata": {},
          "output_type": "execute_result"
        }
      ],
      "source": [
        "# Grab everything past the first term all the way to the length of s which is len(s)\n",
        "s[1:]"
      ]
    },
    {
      "cell_type": "code",
      "execution_count": null,
      "id": "b8060ed6",
      "metadata": {
        "id": "b8060ed6",
        "outputId": "6c21877f-15d8-4446-bf4b-85c1891e437e"
      },
      "outputs": [
        {
          "data": {
            "text/plain": [
              "'Hel'"
            ]
          },
          "execution_count": 7,
          "metadata": {},
          "output_type": "execute_result"
        }
      ],
      "source": [
        "# Grab everything UP TO the 3rd index\n",
        "s[:3]"
      ]
    },
    {
      "cell_type": "code",
      "execution_count": null,
      "id": "8ba77e9e",
      "metadata": {
        "id": "8ba77e9e",
        "outputId": "b8df2830-0aeb-459e-cf9e-abf27c973469"
      },
      "outputs": [
        {
          "data": {
            "text/plain": [
              "'Hello Worl'"
            ]
          },
          "execution_count": 9,
          "metadata": {},
          "output_type": "execute_result"
        }
      ],
      "source": [
        "# Grab everything but the last letter\n",
        "s[:-1]"
      ]
    },
    {
      "cell_type": "code",
      "execution_count": null,
      "id": "eec36baa",
      "metadata": {
        "id": "eec36baa",
        "outputId": "af760751-09a8-4819-a56b-0b5a3a423231"
      },
      "outputs": [
        {
          "data": {
            "text/plain": [
              "'Hello World'"
            ]
          },
          "execution_count": 11,
          "metadata": {},
          "output_type": "execute_result"
        }
      ],
      "source": [
        "#Everything\n",
        "s[:]"
      ]
    },
    {
      "cell_type": "code",
      "execution_count": null,
      "id": "841222b8",
      "metadata": {
        "id": "841222b8"
      },
      "outputs": [],
      "source": [
        "# Grab everything, but go in steps size of 1\n",
        "s[::1]"
      ]
    },
    {
      "cell_type": "code",
      "execution_count": null,
      "id": "59f43119",
      "metadata": {
        "id": "59f43119"
      },
      "outputs": [],
      "source": [
        "# Grab everything, but go in steps size of 1\n",
        "s[::2]"
      ]
    },
    {
      "cell_type": "code",
      "execution_count": null,
      "id": "defa2dab",
      "metadata": {
        "id": "defa2dab"
      },
      "outputs": [],
      "source": [
        "# We can use this to print a string backwards\n",
        "s[::-1]"
      ]
    },
    {
      "cell_type": "code",
      "execution_count": null,
      "id": "7c7c88ce",
      "metadata": {
        "id": "7c7c88ce",
        "outputId": "49d690aa-f3f3-4e81-a6a6-fba9cb3eedb5"
      },
      "outputs": [
        {
          "data": {
            "text/plain": [
              "'dlroW'"
            ]
          },
          "execution_count": 15,
          "metadata": {},
          "output_type": "execute_result"
        }
      ],
      "source": [
        "s[:5:-1]"
      ]
    },
    {
      "cell_type": "code",
      "execution_count": null,
      "id": "c1c1258d",
      "metadata": {
        "id": "c1c1258d",
        "outputId": "bd3c37c6-b1e0-4465-da12-4782e9e15327"
      },
      "outputs": [
        {
          "data": {
            "text/plain": [
              "'Hello World'"
            ]
          },
          "execution_count": 16,
          "metadata": {},
          "output_type": "execute_result"
        }
      ],
      "source": [
        "s "
      ]
    },
    {
      "cell_type": "code",
      "execution_count": null,
      "id": "4c75f1d9",
      "metadata": {
        "id": "4c75f1d9",
        "outputId": "9d66afca-e452-43ab-a55d-40a31948e207"
      },
      "outputs": [
        {
          "ename": "TypeError",
          "evalue": "'str' object does not support item assignment",
          "output_type": "error",
          "traceback": [
            "\u001b[1;31m---------------------------------------------------------------------------\u001b[0m",
            "\u001b[1;31mTypeError\u001b[0m                                 Traceback (most recent call last)",
            "\u001b[1;32m~\\AppData\\Local\\Temp/ipykernel_7304/2138848189.py\u001b[0m in \u001b[0;36m<module>\u001b[1;34m\u001b[0m\n\u001b[0;32m      1\u001b[0m \u001b[1;31m# Let's try to change the first letter to 'x'\u001b[0m\u001b[1;33m\u001b[0m\u001b[1;33m\u001b[0m\u001b[1;33m\u001b[0m\u001b[0m\n\u001b[1;32m----> 2\u001b[1;33m \u001b[0ms\u001b[0m\u001b[1;33m[\u001b[0m\u001b[1;36m0\u001b[0m\u001b[1;33m]\u001b[0m \u001b[1;33m=\u001b[0m \u001b[1;34m'x'\u001b[0m\u001b[1;33m\u001b[0m\u001b[1;33m\u001b[0m\u001b[0m\n\u001b[0m",
            "\u001b[1;31mTypeError\u001b[0m: 'str' object does not support item assignment"
          ]
        }
      ],
      "source": [
        "# Let's try to change the first letter to 'x'\n",
        "s[0] = 'x'"
      ]
    },
    {
      "cell_type": "markdown",
      "id": "f7ebc407",
      "metadata": {
        "id": "f7ebc407"
      },
      "source": [
        "### Notice how the error tells us directly what we can't do, change the item assignment!\n",
        "\n",
        "Something we can do is concatenate strings!"
      ]
    },
    {
      "cell_type": "code",
      "execution_count": null,
      "id": "69e72482",
      "metadata": {
        "id": "69e72482"
      },
      "outputs": [],
      "source": [
        "s "
      ]
    },
    {
      "cell_type": "code",
      "execution_count": null,
      "id": "e47e6b42",
      "metadata": {
        "id": "e47e6b42",
        "outputId": "3e8421e2-018e-444f-a524-36100a260fee"
      },
      "outputs": [
        {
          "data": {
            "text/plain": [
              "'Hello World concatenate me!'"
            ]
          },
          "execution_count": 18,
          "metadata": {},
          "output_type": "execute_result"
        }
      ],
      "source": [
        "# Concatenate strings!\n",
        "s + ' concatenate me!'"
      ]
    },
    {
      "cell_type": "code",
      "execution_count": null,
      "id": "e2080f0c",
      "metadata": {
        "id": "e2080f0c"
      },
      "outputs": [],
      "source": [
        "# We can reassign s completely though!\n",
        "s = s + ' concatenate me!'"
      ]
    },
    {
      "cell_type": "code",
      "execution_count": null,
      "id": "e2b5a6da",
      "metadata": {
        "id": "e2b5a6da"
      },
      "outputs": [],
      "source": [
        "print(s)"
      ]
    },
    {
      "cell_type": "code",
      "execution_count": null,
      "id": "3b0fcec8",
      "metadata": {
        "id": "3b0fcec8"
      },
      "outputs": [],
      "source": [
        "s"
      ]
    },
    {
      "cell_type": "markdown",
      "id": "981da9cd",
      "metadata": {
        "id": "981da9cd"
      },
      "source": [
        "### We can use the multiplication symbol to create repetition! "
      ]
    },
    {
      "cell_type": "code",
      "execution_count": null,
      "id": "e16ffc1d",
      "metadata": {
        "id": "e16ffc1d"
      },
      "outputs": [],
      "source": [
        "letter = 'z'"
      ]
    },
    {
      "cell_type": "code",
      "execution_count": null,
      "id": "7f6da723",
      "metadata": {
        "id": "7f6da723"
      },
      "outputs": [],
      "source": [
        "letter*10"
      ]
    },
    {
      "cell_type": "code",
      "execution_count": null,
      "id": "a2783939",
      "metadata": {
        "id": "a2783939",
        "outputId": "0a8d3c08-dc03-4a6c-df72-6ea4da94b092"
      },
      "outputs": [
        {
          "data": {
            "text/plain": [
              "'Hello World'"
            ]
          },
          "execution_count": 19,
          "metadata": {},
          "output_type": "execute_result"
        }
      ],
      "source": [
        "s"
      ]
    },
    {
      "cell_type": "code",
      "execution_count": null,
      "id": "16866873",
      "metadata": {
        "id": "16866873",
        "outputId": "25c99037-96fa-4dbe-c41e-5b90f5786edb"
      },
      "outputs": [
        {
          "data": {
            "text/plain": [
              "'HELLO WORLD'"
            ]
          },
          "execution_count": 20,
          "metadata": {},
          "output_type": "execute_result"
        }
      ],
      "source": [
        "# Upper Case a string\n",
        "s.upper()\n",
        "\n"
      ]
    },
    {
      "cell_type": "code",
      "execution_count": null,
      "id": "cc47349c",
      "metadata": {
        "id": "cc47349c"
      },
      "outputs": [],
      "source": [
        "# Lower case\n",
        "s.lower()"
      ]
    },
    {
      "cell_type": "code",
      "execution_count": null,
      "id": "63b52172",
      "metadata": {
        "id": "63b52172",
        "outputId": "1ac8674b-db27-40fa-9646-73c90d99be16"
      },
      "outputs": [
        {
          "data": {
            "text/plain": [
              "['Hello', 'World']"
            ]
          },
          "execution_count": 21,
          "metadata": {},
          "output_type": "execute_result"
        }
      ],
      "source": [
        "# Split a string by blank space (this is the default) # return to a list\n",
        "s.split()\n",
        "#Write one program to find all email id in a text document"
      ]
    },
    {
      "cell_type": "code",
      "execution_count": null,
      "id": "742a9745",
      "metadata": {
        "id": "742a9745",
        "outputId": "ccd7eecc-c6e3-4de4-900b-77b04a984bec"
      },
      "outputs": [
        {
          "data": {
            "text/plain": [
              "['Hello ', 'orld']"
            ]
          },
          "execution_count": 22,
          "metadata": {},
          "output_type": "execute_result"
        }
      ],
      "source": [
        "# Split by a specific element (doesn't include the element that was split on)\n",
        "s.split('W')"
      ]
    },
    {
      "cell_type": "code",
      "execution_count": null,
      "id": "83d9f042",
      "metadata": {
        "id": "83d9f042",
        "outputId": "13577dfa-0e1f-482d-a89f-801de30cc785"
      },
      "outputs": [
        {
          "data": {
            "text/plain": [
              "'Insert another string with curly brackets: The inserted string'"
            ]
          },
          "execution_count": 23,
          "metadata": {},
          "output_type": "execute_result"
        }
      ],
      "source": [
        "'Insert another string with curly brackets: {}'.format('The inserted string')"
      ]
    },
    {
      "cell_type": "code",
      "execution_count": null,
      "id": "a19107f2",
      "metadata": {
        "id": "a19107f2",
        "outputId": "590c88a0-2df9-4cbd-8d59-1ecd8e531433"
      },
      "outputs": [
        {
          "name": "stdout",
          "output_type": "stream",
          "text": [
            "Enter number :20\n",
            "20\n",
            "Enter name : Ashis\n",
            "Ashis\n",
            "type of number <class 'int'>\n",
            "type of name <class 'str'>\n"
          ]
        }
      ],
      "source": [
        "num = int(input (\"Enter number :\"))\n",
        "print(num)\n",
        "name1 = input(\"Enter name : \")\n",
        "print(name1)\n",
        "  \n",
        "# Printing type of input value\n",
        "print (\"type of number\", type(num))\n",
        "print (\"type of name\", type(name1))"
      ]
    },
    {
      "cell_type": "code",
      "execution_count": null,
      "id": "3f7ce0f6",
      "metadata": {
        "id": "3f7ce0f6",
        "outputId": "065d4d80-142a-470c-eae9-fcdd13c726eb"
      },
      "outputs": [
        {
          "name": "stdout",
          "output_type": "stream",
          "text": [
            "y = a^x\n",
            "\n",
            "Enter 'a' 2\n",
            "\n"
          ]
        },
        {
          "ename": "AttributeError",
          "evalue": "'Spine' object has no attribute 'set_smart_bounds'",
          "output_type": "error",
          "traceback": [
            "\u001b[1;31m---------------------------------------------------------------------------\u001b[0m",
            "\u001b[1;31mAttributeError\u001b[0m                            Traceback (most recent call last)",
            "\u001b[1;32m~\\AppData\\Local\\Temp/ipykernel_7304/3038816519.py\u001b[0m in \u001b[0;36m<module>\u001b[1;34m\u001b[0m\n\u001b[0;32m     29\u001b[0m     \u001b[0max\u001b[0m\u001b[1;33m.\u001b[0m\u001b[0mspines\u001b[0m\u001b[1;33m[\u001b[0m\u001b[1;34m'bottom'\u001b[0m\u001b[1;33m]\u001b[0m\u001b[1;33m.\u001b[0m\u001b[0mset_position\u001b[0m\u001b[1;33m(\u001b[0m\u001b[1;34m'zero'\u001b[0m\u001b[1;33m)\u001b[0m\u001b[1;33m\u001b[0m\u001b[1;33m\u001b[0m\u001b[0m\n\u001b[0;32m     30\u001b[0m     \u001b[0max\u001b[0m\u001b[1;33m.\u001b[0m\u001b[0mspines\u001b[0m\u001b[1;33m[\u001b[0m\u001b[1;34m'top'\u001b[0m\u001b[1;33m]\u001b[0m\u001b[1;33m.\u001b[0m\u001b[0mset_color\u001b[0m\u001b[1;33m(\u001b[0m\u001b[1;34m'none'\u001b[0m\u001b[1;33m)\u001b[0m\u001b[1;33m\u001b[0m\u001b[1;33m\u001b[0m\u001b[0m\n\u001b[1;32m---> 31\u001b[1;33m     \u001b[0max\u001b[0m\u001b[1;33m.\u001b[0m\u001b[0mspines\u001b[0m\u001b[1;33m[\u001b[0m\u001b[1;34m'left'\u001b[0m\u001b[1;33m]\u001b[0m\u001b[1;33m.\u001b[0m\u001b[0mset_smart_bounds\u001b[0m\u001b[1;33m(\u001b[0m\u001b[1;32mTrue\u001b[0m\u001b[1;33m)\u001b[0m\u001b[1;33m\u001b[0m\u001b[1;33m\u001b[0m\u001b[0m\n\u001b[0m\u001b[0;32m     32\u001b[0m     \u001b[0max\u001b[0m\u001b[1;33m.\u001b[0m\u001b[0mspines\u001b[0m\u001b[1;33m[\u001b[0m\u001b[1;34m'bottom'\u001b[0m\u001b[1;33m]\u001b[0m\u001b[1;33m.\u001b[0m\u001b[0mset_smart_bounds\u001b[0m\u001b[1;33m(\u001b[0m\u001b[1;32mTrue\u001b[0m\u001b[1;33m)\u001b[0m\u001b[1;33m\u001b[0m\u001b[1;33m\u001b[0m\u001b[0m\n\u001b[0;32m     33\u001b[0m     \u001b[0max\u001b[0m\u001b[1;33m.\u001b[0m\u001b[0mxaxis\u001b[0m\u001b[1;33m.\u001b[0m\u001b[0mset_ticks_position\u001b[0m\u001b[1;33m(\u001b[0m\u001b[1;34m'bottom'\u001b[0m\u001b[1;33m)\u001b[0m\u001b[1;33m\u001b[0m\u001b[1;33m\u001b[0m\u001b[0m\n",
            "\u001b[1;31mAttributeError\u001b[0m: 'Spine' object has no attribute 'set_smart_bounds'"
          ]
        },
        {
          "data": {
            "image/png": "[encoded data removed]",
            "text/plain": [
              "<Figure size 432x288 with 1 Axes>"
            ]
          },
          "metadata": {
            "needs_background": "light"
          },
          "output_type": "display_data"
        }
      ],
      "source": [
        "import time\n",
        "import math\n",
        "import sys\n",
        "import os\n",
        "import subprocess\n",
        "import matplotlib.pyplot as plt\n",
        "print (\"y = a^x\")\n",
        "print (\"\")\n",
        "a = input (\"Enter 'a' \")\n",
        "print (\"\")\n",
        "if int(a) < 0:\n",
        "    print (\"'a' is negative, no solution\")\n",
        "elif int(a) == 1:\n",
        "    print (\"'a' is equal with 1, no solution\")\n",
        "else:\n",
        "    fig = plt.figure ()\n",
        "    x = [-2,-1.75,-1.5,-1.25,-1,-0.75,-0.5,-0.25,0,0.25,0.5,0.75,1,1.25,1.5,1.75,2]\n",
        "    y = [int(a)**(-2),int(a)**(-1.75),int(a)**(-1.5),int(a)**(-1.25),\n",
        "            int(a)**(-1),int(a)**(-0.75),int(a)**(-0.5),int(a)**(-0.25),\n",
        "            int(a)**(0),int(a)**(0.25),int(a)**(0.5),int(a)**(0.75),\n",
        "            int(a)**1,int(a)**(1.25),int(a)**(1.5),int(a)**(1.75), int(a)**(2)]\n",
        "\n",
        "\n",
        "    ax = fig.add_subplot(1,1,1)\n",
        "    ax.set_title('y = a**x')\n",
        "    ax.plot(x,y)\n",
        "    ax.spines['left'].set_position('zero')\n",
        "    ax.spines['right'].set_color('none')\n",
        "    ax.spines['bottom'].set_position('zero')\n",
        "    ax.spines['top'].set_color('none')\n",
        "    ax.spines['left'].set_smart_bounds(True)\n",
        "    ax.spines['bottom'].set_smart_bounds(True)\n",
        "    ax.xaxis.set_ticks_position('bottom')\n",
        "    ax.yaxis.set_ticks_position('left')\n",
        "\n",
        "\n",
        "    plt.savefig(\"graph.png\")\n",
        "    subprocess.Popen('explorer \"graph.png\"')\n",
        "\n",
        "def restart_program(): \n",
        "    python = sys.executable\n",
        "    os.execl(python, python, * sys.argv)\n",
        "\n",
        "if __name__ == \"__main__\":\n",
        "    answer = input(\"Restart program? \")\n",
        "    if answer.strip() in \"YES yes Yes y Y\".split():\n",
        "        restart_program()\n",
        "    else:\n",
        "        os.remove(\"graph.png\")"
      ]
    },
    {
      "cell_type": "code",
      "execution_count": null,
      "id": "073a5143",
      "metadata": {
        "id": "073a5143"
      },
      "outputs": [],
      "source": [
        ""
      ]
    },
    {
      "cell_type": "code",
      "execution_count": null,
      "id": "a11f1acd",
      "metadata": {
        "id": "a11f1acd"
      },
      "outputs": [],
      "source": [
        ""
      ]
    }
  ],
  "metadata": {
    "kernelspec": {
      "display_name": "Python 3 (ipykernel)",
      "language": "python",
      "name": "python3"
    },
    "language_info": {
      "codemirror_mode": {
        "name": "ipython",
        "version": 3
      },
      "file_extension": ".py",
      "mimetype": "text/x-python",
      "name": "python",
      "nbconvert_exporter": "python",
      "pygments_lexer": "ipython3",
      "version": "3.8.12"
    },
    "colab": {
      "name": "5. Strings.ipynb",
      "provenance": [],
      "include_colab_link": true
    }
  },
  "nbformat": 4,
  "nbformat_minor": 5
}