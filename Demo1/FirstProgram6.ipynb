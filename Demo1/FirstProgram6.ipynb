{
  "cells": [
    {
      "cell_type": "markdown",
      "metadata": {
        "id": "view-in-github",
        "colab_type": "text"
      },
      "source": [
        "<a href=\"https://colab.research.google.com/github/Ashiskumargit/Ashis-AI/blob/main/Demo1/FirstProgram6.ipynb\" target=\"_parent\"><img src=\"https://colab.research.google.com/assets/colab-badge.svg\" alt=\"Open In Colab\"/></a>"
      ]
    },
    {
      "cell_type": "code",
      "execution_count": null,
      "id": "d77c774e",
      "metadata": {
        "id": "d77c774e",
        "outputId": "1bb437e5-9d37-4d4d-f3d1-a59934395577"
      },
      "outputs": [
        {
          "name": "stdout",
          "output_type": "stream",
          "text": [
            "Built a AI\n"
          ]
        }
      ],
      "source": [
        "import os\n",
        "print('Built a AI')"
      ]
    },
    {
      "cell_type": "code",
      "execution_count": null,
      "id": "d2871f11",
      "metadata": {
        "id": "d2871f11",
        "outputId": "d1155244-83da-4c86-fccb-7b4e88466925"
      },
      "outputs": [
        {
          "data": {
            "text/plain": [
              "'this is first program'"
            ]
          },
          "execution_count": 2,
          "metadata": {},
          "output_type": "execute_result"
        }
      ],
      "source": [
        "(\"this is first program\")"
      ]
    },
    {
      "cell_type": "code",
      "execution_count": null,
      "id": "beda348b",
      "metadata": {
        "id": "beda348b",
        "outputId": "4ad9a5d5-4164-4ff5-d7f4-aceda48400b1"
      },
      "outputs": [
        {
          "name": "stdout",
          "output_type": "stream",
          "text": [
            "11\n"
          ]
        }
      ],
      "source": [
        "A=10\n",
        "A=A+1\n",
        "print(A)"
      ]
    },
    {
      "cell_type": "code",
      "execution_count": null,
      "id": "1d37336b",
      "metadata": {
        "id": "1d37336b",
        "outputId": "7ecfe73b-29ca-4d34-b123-c2027d90b939"
      },
      "outputs": [
        {
          "name": "stdout",
          "output_type": "stream",
          "text": [
            "101\n"
          ]
        }
      ],
      "source": [
        "A='10'\n",
        "A=A+'1'\n",
        "print(A)"
      ]
    },
    {
      "cell_type": "code",
      "execution_count": null,
      "id": "a9a06fe4",
      "metadata": {
        "id": "a9a06fe4",
        "outputId": "039077af-49dd-4ef9-e760-23afcfdbabf9"
      },
      "outputs": [
        {
          "name": "stdout",
          "output_type": "stream",
          "text": [
            "152\n"
          ]
        }
      ],
      "source": [
        "B='15'\n",
        "B=B+'2'\n",
        "print(B)"
      ]
    },
    {
      "cell_type": "code",
      "execution_count": null,
      "id": "d2dccbca",
      "metadata": {
        "id": "d2dccbca",
        "outputId": "0f207230-1c42-4797-a97e-5f981e38a07d"
      },
      "outputs": [
        {
          "name": "stdout",
          "output_type": "stream",
          "text": [
            "115\n"
          ]
        }
      ],
      "source": [
        "A='10'\n",
        "B=A+'5'\n",
        "C=int(A)+int(B)\n",
        "print(C)"
      ]
    },
    {
      "cell_type": "code",
      "execution_count": null,
      "id": "5f7af4a9",
      "metadata": {
        "id": "5f7af4a9",
        "outputId": "b629ad03-446c-44b9-b6cf-77b4e747e1a3"
      },
      "outputs": [
        {
          "name": "stdout",
          "output_type": "stream",
          "text": [
            "10105\n"
          ]
        }
      ],
      "source": [
        "A='10'\n",
        "B=A+'5'\n",
        "C=A+B\n",
        "print(C)"
      ]
    },
    {
      "cell_type": "code",
      "execution_count": null,
      "id": "4e2751ba",
      "metadata": {
        "id": "4e2751ba"
      },
      "outputs": [],
      "source": [
        ""
      ]
    }
  ],
  "metadata": {
    "kernelspec": {
      "display_name": "Python 3 (ipykernel)",
      "language": "python",
      "name": "python3"
    },
    "language_info": {
      "codemirror_mode": {
        "name": "ipython",
        "version": 3
      },
      "file_extension": ".py",
      "mimetype": "text/x-python",
      "name": "python",
      "nbconvert_exporter": "python",
      "pygments_lexer": "ipython3",
      "version": "3.8.12"
    },
    "colab": {
      "name": "FirstProgram6.ipynb",
      "provenance": [],
      "include_colab_link": true
    }
  },
  "nbformat": 4,
  "nbformat_minor": 5
}