{
  "cells": [
    {
      "cell_type": "markdown",
      "metadata": {
        "id": "view-in-github",
        "colab_type": "text"
      },
      "source": [
        "<a href=\"https://colab.research.google.com/github/Ashiskumargit/Divine-AI-Data-Science/blob/main/Demo1/python_for_beginner_3.ipynb\" target=\"_parent\"><img src=\"https://colab.research.google.com/assets/colab-badge.svg\" alt=\"Open In Colab\"/></a>"
      ]
    },
    {
      "cell_type": "markdown",
      "id": "6a5f7860",
      "metadata": {
        "id": "6a5f7860"
      },
      "source": [
        "# 3. Control Flow"
      ]
    },
    {
      "cell_type": "markdown",
      "id": "06f0c1bd",
      "metadata": {
        "id": "06f0c1bd"
      },
      "source": [
        "## 1. Comparison Operators"
      ]
    },
    {
      "cell_type": "code",
      "execution_count": null,
      "id": "90b9914d",
      "metadata": {
        "scrolled": true,
        "id": "90b9914d",
        "outputId": "73cd41fe-bb83-4298-cbbc-b87dab2d8738"
      },
      "outputs": [
        {
          "name": "stdout",
          "output_type": "stream",
          "text": [
            "False\n",
            "True\n",
            "True\n",
            "False\n",
            "True\n",
            "True\n"
          ]
        }
      ],
      "source": [
        "print(10 < 3) # Here we get boolean value\n",
        "print(10 >= 3)\n",
        "print(10 <= 20)\n",
        "print(10 == 105)\n",
        "print(10 != 15)\n",
        "\n",
        "\n",
        "\n",
        "x = 10\n",
        "print(x == 10)\n"
      ]
    },
    {
      "cell_type": "code",
      "execution_count": null,
      "id": "37766128",
      "metadata": {
        "id": "37766128",
        "outputId": "507908cc-6f41-42ba-e227-518af187c32a"
      },
      "outputs": [
        {
          "name": "stdout",
          "output_type": "stream",
          "text": [
            "10\n"
          ]
        },
        {
          "data": {
            "text/plain": [
              "True"
            ]
          },
          "execution_count": 6,
          "metadata": {},
          "output_type": "execute_result"
        }
      ],
      "source": [
        "student = 10\n",
        "print(student)\n",
        "student == 10"
      ]
    },
    {
      "cell_type": "code",
      "execution_count": null,
      "id": "b9763fcc",
      "metadata": {
        "id": "b9763fcc"
      },
      "outputs": [],
      "source": [
        "boy= 55\n"
      ]
    },
    {
      "cell_type": "code",
      "execution_count": null,
      "id": "701c17db",
      "metadata": {
        "id": "701c17db",
        "outputId": "2ab07ec8-1320-4885-b61f-847309da4da1"
      },
      "outputs": [
        {
          "data": {
            "text/plain": [
              "True"
            ]
          },
          "execution_count": 5,
          "metadata": {},
          "output_type": "execute_result"
        }
      ],
      "source": [
        "boy == 55"
      ]
    },
    {
      "cell_type": "code",
      "execution_count": null,
      "id": "b8bb418b",
      "metadata": {
        "id": "b8bb418b",
        "outputId": "a281abd3-2bb6-4695-c55f-bd3645128cd8"
      },
      "outputs": [
        {
          "data": {
            "text/plain": [
              "False"
            ]
          },
          "execution_count": 7,
          "metadata": {},
          "output_type": "execute_result"
        }
      ],
      "source": [
        "10 == \"10\" "
      ]
    },
    {
      "cell_type": "code",
      "execution_count": null,
      "id": "fbfbef69",
      "metadata": {
        "id": "fbfbef69",
        "outputId": "66bd01bc-27ae-49a5-954d-6829ba598a25"
      },
      "outputs": [
        {
          "data": {
            "text/plain": [
              "True"
            ]
          },
          "execution_count": 8,
          "metadata": {},
          "output_type": "execute_result"
        }
      ],
      "source": [
        "10 != '10'"
      ]
    },
    {
      "cell_type": "code",
      "execution_count": null,
      "id": "0c172df6",
      "metadata": {
        "id": "0c172df6",
        "outputId": "c92a7ca9-a4a3-4edc-bb46-bfca1dee57c2"
      },
      "outputs": [
        {
          "data": {
            "text/plain": [
              "True"
            ]
          },
          "execution_count": 11,
          "metadata": {},
          "output_type": "execute_result"
        }
      ],
      "source": [
        "'abc'<'dcb'"
      ]
    },
    {
      "cell_type": "code",
      "execution_count": null,
      "id": "430be18d",
      "metadata": {
        "id": "430be18d",
        "outputId": "d44e7f1b-7aed-41bd-acd9-53b7b139246a"
      },
      "outputs": [
        {
          "data": {
            "text/plain": [
              "97"
            ]
          },
          "execution_count": 24,
          "metadata": {},
          "output_type": "execute_result"
        }
      ],
      "source": [
        "ord('a')"
      ]
    },
    {
      "cell_type": "code",
      "execution_count": null,
      "id": "9601ad6f",
      "metadata": {
        "id": "9601ad6f",
        "outputId": "08df2c0d-a9dd-4f89-df48-99ac3eab08fb"
      },
      "outputs": [
        {
          "data": {
            "text/plain": [
              "100"
            ]
          },
          "execution_count": 21,
          "metadata": {},
          "output_type": "execute_result"
        }
      ],
      "source": [
        "ord('d')"
      ]
    },
    {
      "cell_type": "code",
      "execution_count": null,
      "id": "b5f7eb79",
      "metadata": {
        "id": "b5f7eb79",
        "outputId": "928a630f-202d-40bf-96da-0cc8524b455f"
      },
      "outputs": [
        {
          "ename": "TypeError",
          "evalue": "ord() expected a character, but string of length 3 found",
          "output_type": "error",
          "traceback": [
            "\u001b[1;31m---------------------------------------------------------------------------\u001b[0m",
            "\u001b[1;31mTypeError\u001b[0m                                 Traceback (most recent call last)",
            "\u001b[1;32m~\\AppData\\Local\\Temp/ipykernel_1004/3638110274.py\u001b[0m in \u001b[0;36m<module>\u001b[1;34m\u001b[0m\n\u001b[1;32m----> 1\u001b[1;33m \u001b[0mord\u001b[0m\u001b[1;33m(\u001b[0m\u001b[1;34m\"dcb\"\u001b[0m\u001b[1;33m)\u001b[0m\u001b[1;33m\u001b[0m\u001b[1;33m\u001b[0m\u001b[0m\n\u001b[0m",
            "\u001b[1;31mTypeError\u001b[0m: ord() expected a character, but string of length 3 found"
          ]
        }
      ],
      "source": [
        "ord(\"dcb\")"
      ]
    },
    {
      "cell_type": "code",
      "execution_count": null,
      "id": "a259ecf8",
      "metadata": {
        "id": "a259ecf8",
        "outputId": "cc6aa750-80f4-4a10-a80b-499b1d2655b4"
      },
      "outputs": [
        {
          "data": {
            "text/plain": [
              "True"
            ]
          },
          "execution_count": 25,
          "metadata": {},
          "output_type": "execute_result"
        }
      ],
      "source": [
        "'abc'>'ab'"
      ]
    },
    {
      "cell_type": "code",
      "execution_count": null,
      "id": "f4520f7a",
      "metadata": {
        "scrolled": true,
        "id": "f4520f7a",
        "outputId": "1647ad33-ef93-4506-e8f8-f60a3ffa3145"
      },
      "outputs": [
        {
          "data": {
            "text/plain": [
              "True"
            ]
          },
          "execution_count": 29,
          "metadata": {},
          "output_type": "execute_result"
        }
      ],
      "source": [
        "'fag' < 'fga'"
      ]
    },
    {
      "cell_type": "code",
      "execution_count": null,
      "id": "0d6ae3bf",
      "metadata": {
        "id": "0d6ae3bf",
        "outputId": "ee1a50c1-b678-48dc-8c00-3e92bb830487"
      },
      "outputs": [
        {
          "data": {
            "text/plain": [
              "97"
            ]
          },
          "execution_count": 31,
          "metadata": {},
          "output_type": "execute_result"
        }
      ],
      "source": [
        "ord('a')"
      ]
    },
    {
      "cell_type": "code",
      "execution_count": null,
      "id": "c23b1e76",
      "metadata": {
        "scrolled": true,
        "id": "c23b1e76",
        "outputId": "3586e937-3b1a-42a4-d443-70f48a730952"
      },
      "outputs": [
        {
          "data": {
            "text/plain": [
              "103"
            ]
          },
          "execution_count": 32,
          "metadata": {},
          "output_type": "execute_result"
        }
      ],
      "source": [
        "ord('g')"
      ]
    },
    {
      "cell_type": "code",
      "execution_count": null,
      "id": "8fa3af56",
      "metadata": {
        "id": "8fa3af56",
        "outputId": "18cd8fc4-423e-4432-e110-9e310f538c41"
      },
      "outputs": [
        {
          "data": {
            "text/plain": [
              "False"
            ]
          },
          "execution_count": 33,
          "metadata": {},
          "output_type": "execute_result"
        }
      ],
      "source": [
        "'pool' < '' # False beacuse every character has a numeric representation. lets see next step"
      ]
    },
    {
      "cell_type": "code",
      "execution_count": null,
      "id": "1dc3bd56",
      "metadata": {
        "id": "1dc3bd56"
      },
      "outputs": [],
      "source": [
        "ord('s')"
      ]
    },
    {
      "cell_type": "code",
      "execution_count": null,
      "id": "d2932a69",
      "metadata": {
        "id": "d2932a69",
        "outputId": "93933e5d-1c43-403c-a94a-ee0929a9758a"
      },
      "outputs": [
        {
          "data": {
            "text/plain": [
              "False"
            ]
          },
          "execution_count": 36,
          "metadata": {},
          "output_type": "execute_result"
        }
      ],
      "source": [
        "'abc'>'abcd'"
      ]
    },
    {
      "cell_type": "code",
      "execution_count": null,
      "id": "9971c670",
      "metadata": {
        "id": "9971c670",
        "outputId": "5a591294-9ac5-4b4b-9bfe-d83df24842df"
      },
      "outputs": [
        {
          "data": {
            "text/plain": [
              "116"
            ]
          },
          "execution_count": 37,
          "metadata": {},
          "output_type": "execute_result"
        }
      ],
      "source": [
        "ord('t') #converts a character into its Unicode code value.\n",
        "         #This method accepts a single character."
      ]
    },
    {
      "cell_type": "code",
      "execution_count": null,
      "id": "0f78eb18",
      "metadata": {
        "id": "0f78eb18",
        "outputId": "3bc34267-89c7-405f-b1c2-690b9c088927"
      },
      "outputs": [
        {
          "data": {
            "text/plain": [
              "True"
            ]
          },
          "execution_count": 38,
          "metadata": {},
          "output_type": "execute_result"
        }
      ],
      "source": [
        "'bag' > 'BAG'"
      ]
    },
    {
      "cell_type": "code",
      "execution_count": null,
      "id": "c8e400ad",
      "metadata": {
        "id": "c8e400ad",
        "outputId": "1bb074a5-96ef-4247-9c3e-466535c5ee76"
      },
      "outputs": [
        {
          "data": {
            "text/plain": [
              "98"
            ]
          },
          "execution_count": 45,
          "metadata": {},
          "output_type": "execute_result"
        }
      ],
      "source": [
        "ord('b')"
      ]
    },
    {
      "cell_type": "code",
      "execution_count": null,
      "id": "dc0e5248",
      "metadata": {
        "id": "dc0e5248",
        "outputId": "568b04e5-0a2d-4616-9881-00843c7605ff"
      },
      "outputs": [
        {
          "data": {
            "text/plain": [
              "98"
            ]
          },
          "execution_count": 40,
          "metadata": {},
          "output_type": "execute_result"
        }
      ],
      "source": [
        "ord(\"b\")"
      ]
    },
    {
      "cell_type": "code",
      "execution_count": null,
      "id": "d65d556f",
      "metadata": {
        "scrolled": true,
        "id": "d65d556f",
        "outputId": "7c6fb187-4089-4dbf-e27e-fe7e333a87fa"
      },
      "outputs": [
        {
          "data": {
            "text/plain": [
              "66"
            ]
          },
          "execution_count": 39,
          "metadata": {},
          "output_type": "execute_result"
        }
      ],
      "source": [
        "ord(\"B\")"
      ]
    },
    {
      "cell_type": "code",
      "execution_count": null,
      "id": "cd0f0109",
      "metadata": {
        "id": "cd0f0109",
        "outputId": "e8e98763-dda0-4038-fcb2-9c158167dfd3"
      },
      "outputs": [
        {
          "data": {
            "text/plain": [
              "False"
            ]
          },
          "execution_count": 41,
          "metadata": {},
          "output_type": "execute_result"
        }
      ],
      "source": [
        "'bag' < 'BAG'"
      ]
    },
    {
      "cell_type": "markdown",
      "id": "dde09997",
      "metadata": {
        "id": "dde09997"
      },
      "source": [
        "## 2. Conditional Statement"
      ]
    },
    {
      "cell_type": "code",
      "execution_count": null,
      "id": "6a983d72",
      "metadata": {
        "id": "6a983d72",
        "outputId": "68df499f-13b7-4765-9769-ef0c94cab2fc"
      },
      "outputs": [
        {
          "name": "stdout",
          "output_type": "stream",
          "text": [
            " please add the value of temp: 44\n",
            "drink water\n",
            "hot day\n"
          ]
        }
      ],
      "source": [
        "temperature = int(input(' please add the value of temp: '))\n",
        "if temperature > 30:\n",
        "    print(\"drink water\")\n",
        "    print(\"hot day\")\n"
      ]
    },
    {
      "cell_type": "code",
      "execution_count": null,
      "id": "b6d6c063",
      "metadata": {
        "id": "b6d6c063",
        "outputId": "1a80ecf5-888e-49fc-dc51-1a47629eacf8"
      },
      "outputs": [
        {
          "name": "stdout",
          "output_type": "stream",
          "text": [
            " please add the value of temp: 21\n",
            "it is nice day\n"
          ]
        }
      ],
      "source": [
        "temperature = int(input(' please add the value of temp: '))\n",
        "if temperature > 30:\n",
        "    print(\"it's a nice day\")\n",
        "    print(\"drink water\")\n",
        "elif temperature > 20:\n",
        "    print(\"it is nice day\")\n",
        "#elif temperature == 5:\n",
        "   #print('its very cold day')\n",
        "   #print(\"done\")"
      ]
    },
    {
      "cell_type": "code",
      "execution_count": null,
      "id": "45ae9c97",
      "metadata": {
        "id": "45ae9c97",
        "outputId": "649c3e2c-9608-4026-c959-5eb1519a2be3"
      },
      "outputs": [
        {
          "name": "stdout",
          "output_type": "stream",
          "text": [
            "its ohk\n",
            "done\n"
          ]
        }
      ],
      "source": [
        "temperature = 19\n",
        "if temperature > 30:\n",
        "    print(\"it is warm\")\n",
        "    print(\"drink water\")\n",
        "elif temperature > 20:\n",
        "    print(\"it is nice day\")\n",
        "else:\n",
        "    print(\"its ohk\")\n",
        "print(\"done\")"
      ]
    },
    {
      "cell_type": "code",
      "execution_count": null,
      "id": "4155a2e3",
      "metadata": {
        "id": "4155a2e3",
        "outputId": "8cd9043b-d4d9-414b-c9bb-0766766263a4"
      },
      "outputs": [
        {
          "name": "stdout",
          "output_type": "stream",
          "text": [
            "please add any number : 50\n",
            "the student is not eligible for next class\n"
          ]
        }
      ],
      "source": [
        "mark = int(input(\"please add any number : \"))\n",
        "if mark >50:\n",
        "    print(\"the student is eligible for next class\")\n",
        "else:\n",
        "    print(\"the student is not eligible for next class\")\n",
        "    "
      ]
    },
    {
      "cell_type": "markdown",
      "id": "ff775936",
      "metadata": {
        "id": "ff775936"
      },
      "source": [
        "## 3. Ternary Operator"
      ]
    },
    {
      "cell_type": "code",
      "execution_count": null,
      "id": "9517e985",
      "metadata": {
        "id": "9517e985",
        "outputId": "4565d958-e2d0-42f7-85d6-a6c155f4a5b7"
      },
      "outputs": [
        {
          "name": "stdout",
          "output_type": "stream",
          "text": [
            "its a cold day\n"
          ]
        }
      ],
      "source": [
        "temperature = 12                \n",
        "if temperature > 20:\n",
        "    print('its a nyc day')\n",
        "else:\n",
        "    print(\"its a cold day\")"
      ]
    },
    {
      "cell_type": "code",
      "execution_count": null,
      "id": "ee424f05",
      "metadata": {
        "id": "ee424f05",
        "outputId": "6cdbe5f5-aeb8-4ce5-a2db-7215b962c0ea"
      },
      "outputs": [
        {
          "name": "stdout",
          "output_type": "stream",
          "text": [
            "it is a nice day\n"
          ]
        }
      ],
      "source": [
        "temperature = 21                                                              #Ternary Operator or recursive \n",
        "message = \"it is a nice day\" if temperature >= 20 else \"its a cold day\"\n",
        "print(message)"
      ]
    },
    {
      "cell_type": "code",
      "execution_count": null,
      "id": "b50980ba",
      "metadata": {
        "id": "b50980ba",
        "outputId": "37d905a3-9e2d-4732-bad7-9fbdef9685b3"
      },
      "outputs": [
        {
          "name": "stdout",
          "output_type": "stream",
          "text": [
            "its a cold day\n"
          ]
        }
      ],
      "source": [
        "temperature = 12\n",
        "print(\"it is a nice day\" if temperature >=18 else \"its a cold day\")"
      ]
    },
    {
      "cell_type": "code",
      "execution_count": null,
      "id": "fee7bb6c",
      "metadata": {
        "id": "fee7bb6c",
        "outputId": "3f6d47ce-cd5f-4c7d-b9b7-1c478a23ffaf"
      },
      "outputs": [
        {
          "name": "stdout",
          "output_type": "stream",
          "text": [
            "yes am eligible for vote\n"
          ]
        }
      ],
      "source": [
        "age = 18\n",
        "if age >= 18:\n",
        "    print(\"yes am eligible for vote\")\n",
        "else:\n",
        "    print(\"am not eligible for vote\")"
      ]
    },
    {
      "cell_type": "code",
      "execution_count": null,
      "id": "cbf2585e",
      "metadata": {
        "id": "cbf2585e",
        "outputId": "7447b9cf-6b38-4fa9-f50c-184b0d14e693"
      },
      "outputs": [
        {
          "name": "stdout",
          "output_type": "stream",
          "text": [
            "am not eligible for vote\n"
          ]
        }
      ],
      "source": [
        "age = 13\n",
        "message = \"yes am eligible for vote\" if age >= 18 else \"am not eligible for vote\"\n",
        "print(message)"
      ]
    },
    {
      "cell_type": "code",
      "execution_count": null,
      "id": "f6cbd0f6",
      "metadata": {
        "id": "f6cbd0f6",
        "outputId": "bf832dc1-641d-4294-bd2d-27e2cd5dd85a"
      },
      "outputs": [
        {
          "name": "stdout",
          "output_type": "stream",
          "text": [
            "am not eligible for vote\n"
          ]
        }
      ],
      "source": [
        "age = 13\n",
        "print(\"yes am eligible for vote\" if age >= 18 else \"am not eligible for vote\")\n"
      ]
    },
    {
      "cell_type": "code",
      "execution_count": null,
      "id": "32ae6b95",
      "metadata": {
        "id": "32ae6b95",
        "outputId": "75ffc6ae-d50a-44ac-d9a5-15a26b4c238b"
      },
      "outputs": [
        {
          "name": "stdout",
          "output_type": "stream",
          "text": [
            "person is  eligible for voting\n"
          ]
        }
      ],
      "source": [
        "age = 22\n",
        "if age >= 18:\n",
        "    print(\"person is  eligible for voting\")\n",
        "else:\n",
        "    print(\"Person is not eligible for voting\")"
      ]
    },
    {
      "cell_type": "code",
      "execution_count": null,
      "id": "aeb80f00",
      "metadata": {
        "id": "aeb80f00",
        "outputId": "3d3426cd-d058-4880-ae36-800b0002c4d3"
      },
      "outputs": [
        {
          "name": "stdout",
          "output_type": "stream",
          "text": [
            "person is not eligible for voting\n"
          ]
        }
      ],
      "source": [
        "age = 16\n",
        "condition = \"person is eligible for voting\" if age >= 18 else \"person is not eligible for voting\"\n",
        "print(condition)"
      ]
    },
    {
      "cell_type": "markdown",
      "id": "f12679a9",
      "metadata": {
        "id": "f12679a9"
      },
      "source": [
        "## 4. Logical Operators"
      ]
    },
    {
      "cell_type": "code",
      "execution_count": null,
      "id": "8e5c517c",
      "metadata": {
        "id": "8e5c517c",
        "outputId": "0efe1279-01cc-4690-ade6-9f240f653dc8"
      },
      "outputs": [
        {
          "name": "stdout",
          "output_type": "stream",
          "text": [
            "not eligible for loan\n"
          ]
        }
      ],
      "source": [
        "high_income = True\n",
        "good_credit = False \n",
        "\n",
        "if high_income and good_credit:\n",
        "    print(\"eligible for loan\")\n",
        "else:\n",
        "    print(\"not eligible for loan\")"
      ]
    },
    {
      "cell_type": "code",
      "execution_count": null,
      "id": "97aee38a",
      "metadata": {
        "id": "97aee38a",
        "outputId": "8345e969-8cf7-4273-e77f-8d61594ef0c5"
      },
      "outputs": [
        {
          "name": "stdout",
          "output_type": "stream",
          "text": [
            "eligible for loan\n"
          ]
        }
      ],
      "source": [
        "high_income = False\n",
        "good_credit = True\n",
        "\n",
        "if high_income or good_credit:\n",
        "    print(\"eligible for loan\")\n",
        "else:\n",
        "    print(\"not eligible for loan\")"
      ]
    },
    {
      "cell_type": "code",
      "execution_count": null,
      "id": "3b6b69c1",
      "metadata": {
        "id": "3b6b69c1",
        "outputId": "5fa8eb7a-8d8c-4be3-ad3f-8e4ffba5ca3d"
      },
      "outputs": [
        {
          "name": "stdout",
          "output_type": "stream",
          "text": [
            "its ohk\n",
            "it is not ohk\n"
          ]
        }
      ],
      "source": [
        "high_income = True\n",
        "good_credit = False\n",
        "student = False\n",
        "\n",
        "if  good_credit:\n",
        "    print(\"eligible for loan\")\n",
        "elif  student:\n",
        "    print(\"not eligible for loan\")\n",
        "elif high_income:\n",
        "    print('its ohk')\n",
        "print(\"it is not ohk\")"
      ]
    },
    {
      "cell_type": "code",
      "execution_count": null,
      "id": "4bc363ba",
      "metadata": {
        "id": "4bc363ba",
        "outputId": "f15327dd-3792-485c-9831-9560ed28636a"
      },
      "outputs": [
        {
          "name": "stdout",
          "output_type": "stream",
          "text": [
            "eligible for loan\n"
          ]
        }
      ],
      "source": [
        "high_income = True\n",
        "good_credit = False\n",
        "student = True\n",
        "\n",
        "if (high_income and good_credit) or  student:\n",
        "    print(\"eligible for loan\")\n",
        "else:\n",
        "    print(\"not eligible for loan\")"
      ]
    },
    {
      "cell_type": "markdown",
      "id": "61512592",
      "metadata": {
        "id": "61512592"
      },
      "source": [
        "## 5. Short-circuit Evaluation"
      ]
    },
    {
      "cell_type": "code",
      "execution_count": null,
      "id": "82fe45b2",
      "metadata": {
        "id": "82fe45b2",
        "outputId": "1455aa87-3589-4f11-d6ee-17a5292bc61c"
      },
      "outputs": [
        {
          "name": "stdout",
          "output_type": "stream",
          "text": [
            "xxyyzz\n"
          ]
        }
      ],
      "source": [
        "high_income = False\n",
        "good_credit = False\n",
        "student = False\n",
        "\n",
        "if good_credit or high_income or  student:\n",
        "    print(\"eligible for loan\") \n",
        "else:\n",
        "    print(\"xxyyzz\")\n",
        "#Here if any one of the statement is true then the python interpreter stop excute the whole code."
      ]
    },
    {
      "cell_type": "code",
      "execution_count": null,
      "id": "89ad2ad5",
      "metadata": {
        "id": "89ad2ad5",
        "outputId": "c3d74907-e78c-4d0b-a865-ec8266e74e19"
      },
      "outputs": [
        {
          "name": "stdout",
          "output_type": "stream",
          "text": [
            "xxyyzz\n"
          ]
        }
      ],
      "source": [
        "high_income = True\n",
        "good_credit = False\n",
        "student = True\n",
        "\n",
        "if high_income and  good_credit and  student:\n",
        "    print(\"eligible for loan\")\n",
        "else:\n",
        "    print(\"xxyyzz\")\n",
        "#Here if any one of the statement is false then the python interpreter will stop the excute the whole program."
      ]
    },
    {
      "cell_type": "markdown",
      "id": "1dd2c502",
      "metadata": {
        "id": "1dd2c502"
      },
      "source": [
        "## 6. Chaining Comparion Operators"
      ]
    },
    {
      "cell_type": "code",
      "execution_count": null,
      "id": "7013f96f",
      "metadata": {
        "id": "7013f96f",
        "outputId": "c5b27dba-b19c-4d21-f291-d271f2ca3b2d"
      },
      "outputs": [
        {
          "name": "stdout",
          "output_type": "stream",
          "text": [
            " enter a number : 2\n",
            "not eligible\n"
          ]
        }
      ],
      "source": [
        "#Age should be in between 18 and 65\n",
        "age = int(input(\" enter a number : \"))\n",
        "if age >= 18 and age < 65:\n",
        "    print(\"eligible for loan\")\n",
        "else:\n",
        "    print(\"not eligible\")"
      ]
    },
    {
      "cell_type": "code",
      "execution_count": null,
      "id": "140bff66",
      "metadata": {
        "id": "140bff66",
        "outputId": "d4c280d2-8584-4a80-b2c1-74517805c757"
      },
      "outputs": [
        {
          "name": "stdout",
          "output_type": "stream",
          "text": [
            "plz enter the age :65\n",
            "not eligible\n"
          ]
        }
      ],
      "source": [
        "#Age should be in between 18 and 65\n",
        "age = int(input(\"plz enter the age :\")) \n",
        "if 18 <= age < 65: # This is called chaining comparison \n",
        "    print(\"eligible\")\n",
        "else:\n",
        "    print(\"not eligible\")"
      ]
    },
    {
      "cell_type": "markdown",
      "id": "02e0a963",
      "metadata": {
        "id": "02e0a963"
      },
      "source": [
        "## 7. Quiz"
      ]
    },
    {
      "cell_type": "code",
      "execution_count": null,
      "id": "2f468743",
      "metadata": {
        "id": "2f468743",
        "outputId": "d5b2f61f-ccb8-4253-aa59-2212d39c7498"
      },
      "outputs": [
        {
          "name": "stdout",
          "output_type": "stream",
          "text": [
            "c\n"
          ]
        }
      ],
      "source": [
        "if 10 == '10':\n",
        "    print('a')\n",
        "elif 'bag' > 'gpple' and 'bag' > 'bat':\n",
        "    print('b')\n",
        "else:\n",
        "    print('c')\n",
        "    "
      ]
    },
    {
      "cell_type": "code",
      "execution_count": null,
      "id": "5234f504",
      "metadata": {
        "id": "5234f504",
        "outputId": "80b40e6a-c55b-44ad-e805-3da7bfddda56"
      },
      "outputs": [
        {
          "data": {
            "text/plain": [
              "True"
            ]
          },
          "execution_count": 36,
          "metadata": {},
          "output_type": "execute_result"
        }
      ],
      "source": [
        "'bag'<'bat'"
      ]
    },
    {
      "cell_type": "markdown",
      "id": "de922417",
      "metadata": {
        "id": "de922417"
      },
      "source": [
        "## 8. For Loops"
      ]
    },
    {
      "cell_type": "code",
      "execution_count": null,
      "id": "3b39fcb1",
      "metadata": {
        "id": "3b39fcb1",
        "outputId": "dd22163f-0383-4871-d1cf-d235d7201d8d"
      },
      "outputs": [
        {
          "name": "stdout",
          "output_type": "stream",
          "text": [
            "attempt 0\n",
            "attempt 1\n",
            "attempt 2\n",
            "attempt 3\n",
            "attempt 4\n"
          ]
        }
      ],
      "source": [
        "for i in range(5):\n",
        "    print('attempt',i)"
      ]
    },
    {
      "cell_type": "code",
      "execution_count": null,
      "id": "e67266c9",
      "metadata": {
        "id": "e67266c9",
        "outputId": "cbe9eec1-b431-473b-f101-42e03ed0efa9"
      },
      "outputs": [
        {
          "name": "stdout",
          "output_type": "stream",
          "text": [
            "eligible 1\n",
            "eligible 2\n",
            "eligible 3\n",
            "eligible 4\n",
            "eligible 5\n",
            "eligible 6\n",
            "eligible 7\n",
            "eligible 8\n",
            "eligible 9\n"
          ]
        }
      ],
      "source": [
        "for number in range(1,10):\n",
        "    print('eligible',number)"
      ]
    },
    {
      "cell_type": "code",
      "execution_count": null,
      "id": "186893de",
      "metadata": {
        "id": "186893de",
        "outputId": "9384c8cd-5380-4c4e-dd75-b9137aaa4f7f"
      },
      "outputs": [
        {
          "name": "stdout",
          "output_type": "stream",
          "text": [
            "attempt 1 .\n",
            "attempt 2 ..\n",
            "attempt 3 ...\n"
          ]
        }
      ],
      "source": [
        "for number in range(0,3):\n",
        "    print('attempt', number + 1,(number + 1) * '.')"
      ]
    },
    {
      "cell_type": "code",
      "execution_count": null,
      "id": "6351a417",
      "metadata": {
        "id": "6351a417",
        "outputId": "a108d1d5-04bc-4bec-b546-02414b6a4057"
      },
      "outputs": [
        {
          "name": "stdout",
          "output_type": "stream",
          "text": [
            "attempt 1 .\n",
            "attempt 2 ..\n",
            "attempt 3 ...\n"
          ]
        }
      ],
      "source": [
        "for number in range(1, 4):\n",
        "    print('attempt',number ,number * '.')"
      ]
    },
    {
      "cell_type": "code",
      "execution_count": null,
      "id": "910cc416",
      "metadata": {
        "id": "910cc416",
        "outputId": "2bee3fce-3071-41c5-879c-72d118085023"
      },
      "outputs": [
        {
          "name": "stdout",
          "output_type": "stream",
          "text": [
            "2\n",
            "4\n",
            "4\n",
            "256\n",
            "6\n",
            "46656\n",
            "8\n",
            "16777216\n"
          ]
        }
      ],
      "source": [
        "for num in range(2,10,2):\n",
        "    print(num)\n",
        "    num = num**num\n",
        "    print(num)"
      ]
    },
    {
      "cell_type": "markdown",
      "id": "d1c109c8",
      "metadata": {
        "id": "d1c109c8"
      },
      "source": [
        "## 9. For Else"
      ]
    },
    {
      "cell_type": "code",
      "execution_count": null,
      "id": "0d3f0ab0",
      "metadata": {
        "scrolled": false,
        "id": "0d3f0ab0",
        "outputId": "b63e4bc6-559f-4afa-9003-a0e684d90635"
      },
      "outputs": [
        {
          "name": "stdout",
          "output_type": "stream",
          "text": [
            "attempt\n",
            "failed\n"
          ]
        }
      ],
      "source": [
        "successful = False\n",
        "for number in range(4):\n",
        "    print('attempt')\n",
        "    if successful:\n",
        "        print('Successful')\n",
        "        break\n",
        "    else:\n",
        "        print(\"failed\")\n",
        "        break"
      ]
    },
    {
      "cell_type": "code",
      "execution_count": null,
      "id": "9b190ceb",
      "metadata": {
        "id": "9b190ceb",
        "outputId": "f0b4de29-7e65-48c0-c098-a81ccf11d2e2"
      },
      "outputs": [
        {
          "name": "stdout",
          "output_type": "stream",
          "text": [
            "attempt\n",
            "attempt\n",
            "attempt\n",
            "attempted 3 times and failed\n"
          ]
        }
      ],
      "source": [
        "successful = False\n",
        "for number in range(3):\n",
        "    print('attempt')\n",
        "    if successful:\n",
        "        print('Successful')\n",
        "        break \n",
        "else:\n",
        "    print('attempted 3 times and failed')\n",
        "    \n",
        "        \n",
        "\n",
        "    "
      ]
    },
    {
      "cell_type": "code",
      "execution_count": null,
      "id": "7d6267e9",
      "metadata": {
        "id": "7d6267e9",
        "outputId": "ed33aa9a-7b25-46cb-eda3-e97693c9b141"
      },
      "outputs": [
        {
          "name": "stdout",
          "output_type": "stream",
          "text": [
            "attempt\n",
            "attempt\n",
            "attempt\n",
            "attempted 3 times and failed\n"
          ]
        }
      ],
      "source": [
        "successful = False\n",
        "for number in range(3):\n",
        "    print('attempt')\n",
        "    if successful:\n",
        "        print('Successful')\n",
        "        break       \n",
        "print('attempted 3 times and failed')\n",
        "    "
      ]
    },
    {
      "cell_type": "markdown",
      "id": "91fd2006",
      "metadata": {
        "id": "91fd2006"
      },
      "source": [
        "## 10. Nested Loops"
      ]
    },
    {
      "cell_type": "code",
      "execution_count": null,
      "id": "a9890e2b",
      "metadata": {
        "id": "a9890e2b",
        "outputId": "8750c904-007f-4dc2-a584-b4eb49abbf27"
      },
      "outputs": [
        {
          "name": "stdout",
          "output_type": "stream",
          "text": [
            "(0,0)\n",
            "(0,1)\n",
            "(0,2)\n",
            "(1,0)\n",
            "(1,1)\n",
            "(1,2)\n",
            "(2,0)\n",
            "(2,1)\n",
            "(2,2)\n"
          ]
        }
      ],
      "source": [
        "for x in range(3):\n",
        "    for y in range(3):\n",
        "        print(f\"({x},{y})\")"
      ]
    },
    {
      "cell_type": "markdown",
      "id": "8ab2097d",
      "metadata": {
        "id": "8ab2097d"
      },
      "source": [
        "## 11. Iterables"
      ]
    },
    {
      "cell_type": "code",
      "execution_count": null,
      "id": "73215ad7",
      "metadata": {
        "id": "73215ad7",
        "outputId": "11c9e1c8-1262-4569-b4a5-4b7b2d12fa60"
      },
      "outputs": [
        {
          "name": "stdout",
          "output_type": "stream",
          "text": [
            "p\n",
            "y\n",
            "t\n",
            "h\n",
            "o\n",
            "n\n"
          ]
        }
      ],
      "source": [
        "for x in 'python':\n",
        "    print(x)"
      ]
    },
    {
      "cell_type": "code",
      "execution_count": null,
      "id": "dbc0f2ed",
      "metadata": {
        "id": "dbc0f2ed",
        "outputId": "ab83401a-9b3f-47d3-d750-7a551c2527dc"
      },
      "outputs": [
        {
          "name": "stdout",
          "output_type": "stream",
          "text": [
            "1\n",
            "2\n",
            "3\n",
            "4\n",
            "5\n",
            "6\n",
            "7\n"
          ]
        }
      ],
      "source": [
        "for x in [1,2,3,4,5,6,7]:\n",
        "    print(x)"
      ]
    },
    {
      "cell_type": "code",
      "execution_count": null,
      "id": "55e690c1",
      "metadata": {
        "id": "55e690c1",
        "outputId": "1816064f-18c3-4616-c9fe-39644aa8dd8e"
      },
      "outputs": [
        {
          "name": "stdout",
          "output_type": "stream",
          "text": [
            "0\n",
            "1\n",
            "2\n",
            "3\n",
            "4\n",
            "5\n",
            "6\n",
            "7\n",
            "8\n",
            "9\n"
          ]
        }
      ],
      "source": [
        "for x in range(10):\n",
        "    print(x)"
      ]
    },
    {
      "cell_type": "markdown",
      "id": "0f155d98",
      "metadata": {
        "id": "0f155d98"
      },
      "source": [
        "## 12. While Loops"
      ]
    },
    {
      "cell_type": "code",
      "execution_count": null,
      "id": "72dad59a",
      "metadata": {
        "scrolled": true,
        "id": "72dad59a",
        "outputId": "41e8c72e-4829-4877-9e6e-a45178691903"
      },
      "outputs": [
        {
          "name": "stdout",
          "output_type": "stream",
          "text": [
            "100\n",
            "50\n",
            "25\n",
            "12\n",
            "6\n",
            "3\n",
            "1\n"
          ]
        }
      ],
      "source": [
        "number = 100\n",
        "while number >0:\n",
        "    print(number)\n",
        "    number //= 2"
      ]
    },
    {
      "cell_type": "code",
      "execution_count": null,
      "id": "bef61e19",
      "metadata": {
        "scrolled": true,
        "id": "bef61e19",
        "outputId": "33efdc8f-90db-4b53-8356-b27a85f3251d"
      },
      "outputs": [
        {
          "name": "stdout",
          "output_type": "stream",
          "text": [
            "1\n",
            "2\n"
          ]
        }
      ],
      "source": [
        "i = 0\n",
        "while i < 6:\n",
        "    i += 1\n",
        "    if i == 3:\n",
        "        break\n",
        "    print(i)"
      ]
    },
    {
      "cell_type": "code",
      "execution_count": null,
      "id": "3a71c870",
      "metadata": {
        "id": "3a71c870",
        "outputId": "b16e5dce-35af-4bf7-c598-b5cc069ded92"
      },
      "outputs": [
        {
          "name": "stdout",
          "output_type": "stream",
          "text": [
            "1\n",
            "2\n",
            "4\n",
            "5\n",
            "6\n",
            "7\n"
          ]
        }
      ],
      "source": [
        "i = 0 \n",
        "while i < 7:\n",
        "    i += 1\n",
        "    if i == 3:\n",
        "        continue\n",
        "    print(i)   \n",
        "        "
      ]
    },
    {
      "cell_type": "code",
      "execution_count": null,
      "id": "3ba0d4ab",
      "metadata": {
        "id": "3ba0d4ab",
        "outputId": "5338f6fd-1ce4-4daa-99d6-d795a3cd3534"
      },
      "outputs": [
        {
          "name": "stdout",
          "output_type": "stream",
          "text": [
            "1\n",
            "2\n",
            "3\n",
            "4\n",
            "5\n",
            "i is no longer less than 6\n"
          ]
        }
      ],
      "source": [
        "i = 1\n",
        "while i < 6:\n",
        "    print(i)\n",
        "    i += 1\n",
        "else:\n",
        "    print(\"i is no longer less than 6\")\n"
      ]
    },
    {
      "cell_type": "code",
      "execution_count": null,
      "id": "24dc9bbe",
      "metadata": {
        "id": "24dc9bbe"
      },
      "outputs": [],
      "source": [
        " "
      ]
    }
  ],
  "metadata": {
    "kernelspec": {
      "display_name": "Python 3 (ipykernel)",
      "language": "python",
      "name": "python3"
    },
    "language_info": {
      "codemirror_mode": {
        "name": "ipython",
        "version": 3
      },
      "file_extension": ".py",
      "mimetype": "text/x-python",
      "name": "python",
      "nbconvert_exporter": "python",
      "pygments_lexer": "ipython3",
      "version": "3.8.12"
    },
    "colab": {
      "name": "python for beginner 3.ipynb",
      "provenance": [],
      "include_colab_link": true
    }
  },
  "nbformat": 4,
  "nbformat_minor": 5
}