{
  "cells": [
    {
      "cell_type": "markdown",
      "metadata": {
        "id": "view-in-github",
        "colab_type": "text"
      },
      "source": [
        "<a href=\"https://colab.research.google.com/github/Ashiskumargit/Divine-AI-Data-Science/blob/main/Demo1/PythonClass_(Strings).ipynb\" target=\"_parent\"><img src=\"https://colab.research.google.com/assets/colab-badge.svg\" alt=\"Open In Colab\"/></a>"
      ]
    },
    {
      "cell_type": "markdown",
      "id": "9900e36a",
      "metadata": {
        "id": "9900e36a"
      },
      "source": [
        "# All Basic ex. of String"
      ]
    },
    {
      "cell_type": "code",
      "execution_count": null,
      "id": "8d61aefd",
      "metadata": {
        "id": "8d61aefd",
        "outputId": "660ad638-041e-4c93-8f33-153e6b771a87"
      },
      "outputs": [
        {
          "data": {
            "text/plain": [
              "'ram'"
            ]
          },
          "execution_count": 1,
          "metadata": {},
          "output_type": "execute_result"
        }
      ],
      "source": [
        "# single word \n",
        "'ram'"
      ]
    },
    {
      "cell_type": "code",
      "execution_count": null,
      "id": "3086d9da",
      "metadata": {
        "id": "3086d9da",
        "outputId": "a4124754-65d1-45c9-aad2-72a0a64083d7"
      },
      "outputs": [
        {
          "data": {
            "text/plain": [
              "'Shree ram'"
            ]
          },
          "execution_count": 2,
          "metadata": {},
          "output_type": "execute_result"
        }
      ],
      "source": [
        "# double word \n",
        "'Shree ram'"
      ]
    },
    {
      "cell_type": "code",
      "execution_count": null,
      "id": "439721da",
      "metadata": {
        "id": "439721da",
        "outputId": "aca7d064-bb03-4bf2-c129-78e1a3165051"
      },
      "outputs": [
        {
          "data": {
            "text/plain": [
              "'He runs very well'"
            ]
          },
          "execution_count": 3,
          "metadata": {},
          "output_type": "execute_result"
        }
      ],
      "source": [
        "# entire phrase \n",
        "'He runs very well'"
      ]
    },
    {
      "cell_type": "code",
      "execution_count": null,
      "id": "0287c260",
      "metadata": {
        "id": "0287c260",
        "outputId": "caf36fe1-0b4a-4ca5-f750-6a150efbf0e0"
      },
      "outputs": [
        {
          "data": {
            "text/plain": [
              "'ram'"
            ]
          },
          "execution_count": 4,
          "metadata": {},
          "output_type": "execute_result"
        }
      ],
      "source": [
        "# double quotaion\n",
        "\"ram\""
      ]
    },
    {
      "cell_type": "code",
      "execution_count": null,
      "id": "345e41a5",
      "metadata": {
        "id": "345e41a5",
        "outputId": "ebf894be-aca8-4b01-aeb4-aeb3bb2236b9"
      },
      "outputs": [
        {
          "data": {
            "text/plain": [
              "\"knight's\""
            ]
          },
          "execution_count": 5,
          "metadata": {},
          "output_type": "execute_result"
        }
      ],
      "source": [
        "\"knight's\""
      ]
    },
    {
      "cell_type": "code",
      "execution_count": null,
      "id": "11f6b29a",
      "metadata": {
        "id": "11f6b29a",
        "outputId": "7806a1e0-f44c-4dc3-8485-6a87a1747347"
      },
      "outputs": [
        {
          "data": {
            "text/plain": [
              "'knight\"s'"
            ]
          },
          "execution_count": 6,
          "metadata": {},
          "output_type": "execute_result"
        }
      ],
      "source": [
        "'knight\"s'"
      ]
    },
    {
      "cell_type": "code",
      "execution_count": null,
      "id": "899d798b",
      "metadata": {
        "id": "899d798b",
        "outputId": "04d392d3-22c1-49e4-9c45-e0a80e39f452"
      },
      "outputs": [
        {
          "data": {
            "text/plain": [
              "'Ram eats.'"
            ]
          },
          "execution_count": 7,
          "metadata": {},
          "output_type": "execute_result"
        }
      ],
      "source": [
        "'Ram eats.'"
      ]
    },
    {
      "cell_type": "code",
      "execution_count": null,
      "id": "7165e695",
      "metadata": {
        "id": "7165e695",
        "outputId": "29d08f88-0e72-4e1b-ba2b-92f888969771"
      },
      "outputs": [
        {
          "data": {
            "text/plain": [
              "'Ram eats.'"
            ]
          },
          "execution_count": 8,
          "metadata": {},
          "output_type": "execute_result"
        }
      ],
      "source": [
        "'I eat. '\n",
        "'Ram eats.'"
      ]
    },
    {
      "cell_type": "code",
      "execution_count": null,
      "id": "2bb8a985",
      "metadata": {
        "id": "2bb8a985",
        "outputId": "3ec96b1f-1d3f-48d9-b939-02a1df4e8907"
      },
      "outputs": [
        {
          "name": "stdout",
          "output_type": "stream",
          "text": [
            "I do it\n",
            "He also do it\n"
          ]
        }
      ],
      "source": [
        "print('I do it')\n",
        "print('He also do it')"
      ]
    },
    {
      "cell_type": "code",
      "execution_count": null,
      "id": "0503716a",
      "metadata": {
        "id": "0503716a",
        "outputId": "bf039f4e-039d-44b5-d708-4925c481dfcd"
      },
      "outputs": [
        {
          "name": "stdout",
          "output_type": "stream",
          "text": [
            "I do it\n",
            "He also do it\n",
            "Use \n",
            "   python is very easy\n",
            "\n",
            "   In programming language\n"
          ]
        }
      ],
      "source": [
        "print('I do it')\n",
        "print('He also do it')\n",
        "print('Use \\n   python is very easy')\n",
        "print('\\n   In programming language')"
      ]
    },
    {
      "cell_type": "code",
      "execution_count": null,
      "id": "a811631d",
      "metadata": {
        "id": "a811631d",
        "outputId": "c30d0f82-5b1d-41fd-a63b-5e7d639ec93f"
      },
      "outputs": [
        {
          "data": {
            "text/plain": [
              "5"
            ]
          },
          "execution_count": 11,
          "metadata": {},
          "output_type": "execute_result"
        }
      ],
      "source": [
        "len('We go')"
      ]
    },
    {
      "cell_type": "code",
      "execution_count": null,
      "id": "d3ad6f3d",
      "metadata": {
        "id": "d3ad6f3d"
      },
      "outputs": [],
      "source": [
        "A='Always respect to our mentor'"
      ]
    },
    {
      "cell_type": "code",
      "execution_count": null,
      "id": "e0c0c573",
      "metadata": {
        "id": "e0c0c573",
        "outputId": "4e50dfdd-502a-4789-9abe-ab5116b5aa39"
      },
      "outputs": [
        {
          "data": {
            "text/plain": [
              "'Always respect to our mentor'"
            ]
          },
          "execution_count": 13,
          "metadata": {},
          "output_type": "execute_result"
        }
      ],
      "source": [
        "A"
      ]
    },
    {
      "cell_type": "code",
      "execution_count": null,
      "id": "ec39f436",
      "metadata": {
        "id": "ec39f436",
        "outputId": "980fe13c-d3c0-4025-dfe6-6b9d0703343b"
      },
      "outputs": [
        {
          "name": "stdout",
          "output_type": "stream",
          "text": [
            "Always respect to our mentor\n"
          ]
        }
      ],
      "source": [
        "print(A)"
      ]
    },
    {
      "cell_type": "code",
      "execution_count": null,
      "id": "9e642610",
      "metadata": {
        "id": "9e642610"
      },
      "outputs": [],
      "source": [
        "s='Good Night'"
      ]
    },
    {
      "cell_type": "code",
      "execution_count": null,
      "id": "b6dae5f9",
      "metadata": {
        "id": "b6dae5f9",
        "outputId": "37546ba9-0a49-4e05-ae0c-f3c09c73d7f4"
      },
      "outputs": [
        {
          "data": {
            "text/plain": [
              "'Good Night'"
            ]
          },
          "execution_count": 16,
          "metadata": {},
          "output_type": "execute_result"
        }
      ],
      "source": [
        "s"
      ]
    },
    {
      "cell_type": "code",
      "execution_count": null,
      "id": "ae583d04",
      "metadata": {
        "id": "ae583d04",
        "outputId": "650229e7-f214-4907-ac6c-a7409d11df0d"
      },
      "outputs": [
        {
          "name": "stdout",
          "output_type": "stream",
          "text": [
            "Good Night\n"
          ]
        }
      ],
      "source": [
        "print(s)"
      ]
    },
    {
      "cell_type": "code",
      "execution_count": null,
      "id": "52fc4d8a",
      "metadata": {
        "id": "52fc4d8a",
        "outputId": "53b11ad9-f6bf-4119-9522-b281939dee52"
      },
      "outputs": [
        {
          "data": {
            "text/plain": [
              "'G'"
            ]
          },
          "execution_count": 18,
          "metadata": {},
          "output_type": "execute_result"
        }
      ],
      "source": [
        "s[0]"
      ]
    },
    {
      "cell_type": "code",
      "execution_count": null,
      "id": "1d04a950",
      "metadata": {
        "id": "1d04a950",
        "outputId": "4e16ae89-c118-455e-ca94-2117bf016559"
      },
      "outputs": [
        {
          "data": {
            "text/plain": [
              "'N'"
            ]
          },
          "execution_count": 19,
          "metadata": {},
          "output_type": "execute_result"
        }
      ],
      "source": [
        "s[5]"
      ]
    },
    {
      "cell_type": "code",
      "execution_count": null,
      "id": "e5a8b3a7",
      "metadata": {
        "id": "e5a8b3a7",
        "outputId": "fc019e67-cf06-4fe4-8d8b-abafcea6cec8"
      },
      "outputs": [
        {
          "data": {
            "text/plain": [
              "' '"
            ]
          },
          "execution_count": 20,
          "metadata": {},
          "output_type": "execute_result"
        }
      ],
      "source": [
        "s[4]"
      ]
    },
    {
      "cell_type": "code",
      "execution_count": null,
      "id": "d2597b9d",
      "metadata": {
        "id": "d2597b9d",
        "outputId": "0f354408-3990-43b1-8d62-1bb523f8fe81"
      },
      "outputs": [
        {
          "data": {
            "text/plain": [
              "'t'"
            ]
          },
          "execution_count": 21,
          "metadata": {},
          "output_type": "execute_result"
        }
      ],
      "source": [
        "s[-1]"
      ]
    },
    {
      "cell_type": "code",
      "execution_count": null,
      "id": "8e975a78",
      "metadata": {
        "id": "8e975a78",
        "outputId": "95f40809-7e4f-4234-9d0c-aeca099856ed"
      },
      "outputs": [
        {
          "data": {
            "text/plain": [
              "' '"
            ]
          },
          "execution_count": 22,
          "metadata": {},
          "output_type": "execute_result"
        }
      ],
      "source": [
        "s[-6]"
      ]
    },
    {
      "cell_type": "code",
      "execution_count": null,
      "id": "a525fda6",
      "metadata": {
        "id": "a525fda6"
      },
      "outputs": [],
      "source": [
        "s='Good Night'"
      ]
    },
    {
      "cell_type": "code",
      "execution_count": null,
      "id": "9645a659",
      "metadata": {
        "id": "9645a659",
        "outputId": "af027874-1112-4f90-9b5a-6231cce65625"
      },
      "outputs": [
        {
          "data": {
            "text/plain": [
              "'Good Night'"
            ]
          },
          "execution_count": 24,
          "metadata": {},
          "output_type": "execute_result"
        }
      ],
      "source": [
        "s[:]"
      ]
    },
    {
      "cell_type": "code",
      "execution_count": null,
      "id": "cf6b91ce",
      "metadata": {
        "id": "cf6b91ce",
        "outputId": "3ea89c5d-6571-4452-bd71-e25202e2ca29"
      },
      "outputs": [
        {
          "data": {
            "text/plain": [
              "'ood Night'"
            ]
          },
          "execution_count": 25,
          "metadata": {},
          "output_type": "execute_result"
        }
      ],
      "source": [
        "s[1:]"
      ]
    },
    {
      "cell_type": "code",
      "execution_count": null,
      "id": "7858de2e",
      "metadata": {
        "id": "7858de2e",
        "outputId": "2b4440ed-2c75-46f1-a35b-cf8fece71c7a"
      },
      "outputs": [
        {
          "data": {
            "text/plain": [
              "'Goo'"
            ]
          },
          "execution_count": 26,
          "metadata": {},
          "output_type": "execute_result"
        }
      ],
      "source": [
        "s[:3]"
      ]
    },
    {
      "cell_type": "code",
      "execution_count": null,
      "id": "278290a3",
      "metadata": {
        "id": "278290a3",
        "outputId": "917f68bf-6995-4556-e045-3a1d09dc526b"
      },
      "outputs": [
        {
          "data": {
            "text/plain": [
              "'oo'"
            ]
          },
          "execution_count": 27,
          "metadata": {},
          "output_type": "execute_result"
        }
      ],
      "source": [
        "s[1:3]"
      ]
    },
    {
      "cell_type": "code",
      "execution_count": null,
      "id": "ec6fac9a",
      "metadata": {
        "id": "ec6fac9a",
        "outputId": "30c256b1-e527-4af9-8fa7-839e0baaa27a"
      },
      "outputs": [
        {
          "data": {
            "text/plain": [
              "'t'"
            ]
          },
          "execution_count": 28,
          "metadata": {},
          "output_type": "execute_result"
        }
      ],
      "source": [
        "s[-1:]"
      ]
    },
    {
      "cell_type": "code",
      "execution_count": null,
      "id": "de3c67db",
      "metadata": {
        "id": "de3c67db"
      },
      "outputs": [],
      "source": [
        "s='Good Night'"
      ]
    },
    {
      "cell_type": "code",
      "execution_count": null,
      "id": "291cfd7b",
      "metadata": {
        "id": "291cfd7b",
        "outputId": "90c99600-fb26-4c0c-bb13-605378aa6b67"
      },
      "outputs": [
        {
          "data": {
            "text/plain": [
              "'Good Night'"
            ]
          },
          "execution_count": 30,
          "metadata": {},
          "output_type": "execute_result"
        }
      ],
      "source": [
        "s[::1]"
      ]
    },
    {
      "cell_type": "code",
      "execution_count": null,
      "id": "4429ec4f",
      "metadata": {
        "id": "4429ec4f",
        "outputId": "18e56e57-7ea3-4e2f-fa3a-3296b0f33614"
      },
      "outputs": [
        {
          "data": {
            "text/plain": [
              "'Go ih'"
            ]
          },
          "execution_count": 31,
          "metadata": {},
          "output_type": "execute_result"
        }
      ],
      "source": [
        "s[::2]"
      ]
    },
    {
      "cell_type": "code",
      "execution_count": null,
      "id": "0e035b98",
      "metadata": {
        "id": "0e035b98",
        "outputId": "4e572455-090a-4977-a7ba-e4f5998fd4dc"
      },
      "outputs": [
        {
          "data": {
            "text/plain": [
              "'Gdit'"
            ]
          },
          "execution_count": 32,
          "metadata": {},
          "output_type": "execute_result"
        }
      ],
      "source": [
        "s[::3]"
      ]
    },
    {
      "cell_type": "code",
      "execution_count": null,
      "id": "15f644af",
      "metadata": {
        "id": "15f644af",
        "outputId": "58edc206-e370-491e-bf08-603ded664a7c"
      },
      "outputs": [
        {
          "data": {
            "text/plain": [
              "'thgiN dooG'"
            ]
          },
          "execution_count": 33,
          "metadata": {},
          "output_type": "execute_result"
        }
      ],
      "source": [
        "s[::-1]"
      ]
    },
    {
      "cell_type": "code",
      "execution_count": null,
      "id": "6e6a41df",
      "metadata": {
        "id": "6e6a41df",
        "outputId": "cbacb934-cf58-4c99-cdd6-017bec11e8ec"
      },
      "outputs": [
        {
          "data": {
            "text/plain": [
              "'tgNdo'"
            ]
          },
          "execution_count": 34,
          "metadata": {},
          "output_type": "execute_result"
        }
      ],
      "source": [
        "s[::-2]"
      ]
    },
    {
      "cell_type": "code",
      "execution_count": null,
      "id": "613bc812",
      "metadata": {
        "id": "613bc812"
      },
      "outputs": [],
      "source": [
        ""
      ]
    }
  ],
  "metadata": {
    "kernelspec": {
      "display_name": "Python 3 (ipykernel)",
      "language": "python",
      "name": "python3"
    },
    "language_info": {
      "codemirror_mode": {
        "name": "ipython",
        "version": 3
      },
      "file_extension": ".py",
      "mimetype": "text/x-python",
      "name": "python",
      "nbconvert_exporter": "python",
      "pygments_lexer": "ipython3",
      "version": "3.8.12"
    },
    "colab": {
      "name": "PythonClass (Strings).ipynb",
      "provenance": [],
      "include_colab_link": true
    }
  },
  "nbformat": 4,
  "nbformat_minor": 5
}