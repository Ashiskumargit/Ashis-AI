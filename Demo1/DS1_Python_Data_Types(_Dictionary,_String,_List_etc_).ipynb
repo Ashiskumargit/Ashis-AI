{
  "cells": [
    {
      "cell_type": "markdown",
      "metadata": {
        "id": "view-in-github",
        "colab_type": "text"
      },
      "source": [
        "<a href=\"https://colab.research.google.com/github/Ashiskumargit/Divine-AI-Data-Science/blob/main/DS1_Python_Data_Types(_Dictionary%2C_String%2C_List_etc_).ipynb\" target=\"_parent\"><img src=\"https://colab.research.google.com/assets/colab-badge.svg\" alt=\"Open In Colab\"/></a>"
      ]
    },
    {
      "cell_type": "markdown",
      "id": "cf46a56e",
      "metadata": {
        "id": "cf46a56e"
      },
      "source": [
        "# Python Data Structures and Boolean\n",
        "\n",
        "-Boolean\n",
        "\n",
        "-Boolean and Logical Operators\n",
        "\n",
        "-Lists\n",
        "\n",
        "-Comparison operators\n",
        "\n",
        "-Dictionaries\n",
        "\n",
        "-Tuples\n",
        "\n",
        "-Sets\n",
        "\n",
        "-Boolean Variables\n",
        "\n"
      ]
    },
    {
      "cell_type": "markdown",
      "id": "138620d9",
      "metadata": {
        "id": "138620d9"
      },
      "source": [
        "# Boolean Variables\n",
        "\n",
        "Boolean values are the two constant objects False and True.\n",
        "\n",
        "They are used to represent truth values (other values can also be considered false or true).\n",
        "\n",
        "In numeric contexts (for example, when used as the argument to an arithmetic operator), they behave like the integers 0 and 1, respectively.\n",
        "\n",
        "The built-in function bool() can be used to cast any value to a Boolean, if the value can be interpreted as a truth value\n",
        "\n",
        "They are written as False and True, respectively."
      ]
    },
    {
      "cell_type": "code",
      "execution_count": null,
      "id": "ba322871",
      "metadata": {
        "id": "ba322871",
        "outputId": "b0e7d377-7c3f-4d74-8d31-9ed0b9c02c0c"
      },
      "outputs": [
        {
          "data": {
            "text/plain": [
              "False"
            ]
          },
          "execution_count": 1,
          "metadata": {},
          "output_type": "execute_result"
        }
      ],
      "source": [
        "False"
      ]
    },
    {
      "cell_type": "code",
      "execution_count": null,
      "id": "fd998dc1",
      "metadata": {
        "id": "fd998dc1",
        "outputId": "832fb211-3eaf-4c90-d4d1-45d030afc81e"
      },
      "outputs": [
        {
          "data": {
            "text/plain": [
              "True"
            ]
          },
          "execution_count": 2,
          "metadata": {},
          "output_type": "execute_result"
        }
      ],
      "source": [
        "True"
      ]
    },
    {
      "cell_type": "code",
      "execution_count": null,
      "id": "0764c22e",
      "metadata": {
        "id": "0764c22e",
        "outputId": "6edd52ae-7f80-46ac-d1de-0aabc8b8da54"
      },
      "outputs": [
        {
          "name": "stdout",
          "output_type": "stream",
          "text": [
            "True False\n"
          ]
        }
      ],
      "source": [
        "print(True,False)"
      ]
    },
    {
      "cell_type": "code",
      "execution_count": null,
      "id": "3f9ada5b",
      "metadata": {
        "id": "3f9ada5b",
        "outputId": "64451d53-58d5-4344-9485-b09070534a77"
      },
      "outputs": [
        {
          "name": "stdout",
          "output_type": "stream",
          "text": [
            "True,False\n"
          ]
        }
      ],
      "source": [
        "print(\"True,False\")"
      ]
    },
    {
      "cell_type": "code",
      "execution_count": null,
      "id": "fdd2ba29",
      "metadata": {
        "id": "fdd2ba29",
        "outputId": "413b08f8-b7bb-436f-db34-eec69cd973cd"
      },
      "outputs": [
        {
          "data": {
            "text/plain": [
              "bool"
            ]
          },
          "execution_count": 5,
          "metadata": {},
          "output_type": "execute_result"
        }
      ],
      "source": [
        "type(True)"
      ]
    },
    {
      "cell_type": "code",
      "execution_count": null,
      "id": "bd520898",
      "metadata": {
        "id": "bd520898",
        "outputId": "5ad0271c-dca4-4910-8f7d-432751a856dc"
      },
      "outputs": [
        {
          "data": {
            "text/plain": [
              "bool"
            ]
          },
          "execution_count": 6,
          "metadata": {},
          "output_type": "execute_result"
        }
      ],
      "source": [
        "type(False)"
      ]
    },
    {
      "cell_type": "code",
      "execution_count": null,
      "id": "fe2eaf50",
      "metadata": {
        "id": "fe2eaf50"
      },
      "outputs": [],
      "source": [
        "a = 3<6"
      ]
    },
    {
      "cell_type": "code",
      "execution_count": null,
      "id": "93783507",
      "metadata": {
        "id": "93783507",
        "outputId": "27331370-7ebb-4084-caf7-fcb3236f7e8f"
      },
      "outputs": [
        {
          "data": {
            "text/plain": [
              "True"
            ]
          },
          "execution_count": 8,
          "metadata": {},
          "output_type": "execute_result"
        }
      ],
      "source": [
        "bool(a)"
      ]
    },
    {
      "cell_type": "code",
      "execution_count": null,
      "id": "8ff00ce9",
      "metadata": {
        "id": "8ff00ce9"
      },
      "outputs": [],
      "source": [
        "a = True"
      ]
    },
    {
      "cell_type": "code",
      "execution_count": null,
      "id": "f18e3458",
      "metadata": {
        "id": "f18e3458",
        "outputId": "a44d13db-0124-41e8-d99d-20abb21944d9"
      },
      "outputs": [
        {
          "data": {
            "text/plain": [
              "bool"
            ]
          },
          "execution_count": 10,
          "metadata": {},
          "output_type": "execute_result"
        }
      ],
      "source": [
        "type(a)"
      ]
    },
    {
      "cell_type": "code",
      "execution_count": null,
      "id": "e3806d12",
      "metadata": {
        "id": "e3806d12"
      },
      "outputs": [],
      "source": [
        "my_str='ashis'"
      ]
    },
    {
      "cell_type": "code",
      "execution_count": null,
      "id": "0bfd88c4",
      "metadata": {
        "id": "0bfd88c4",
        "outputId": "4527260e-cf22-4820-a4e3-91790ce912c5"
      },
      "outputs": [
        {
          "data": {
            "text/plain": [
              "False"
            ]
          },
          "execution_count": 12,
          "metadata": {},
          "output_type": "execute_result"
        }
      ],
      "source": [
        "my_str.istitle()"
      ]
    },
    {
      "cell_type": "code",
      "execution_count": null,
      "id": "a4cb25d6",
      "metadata": {
        "id": "a4cb25d6"
      },
      "outputs": [],
      "source": [
        "my_str= 'Ashis38'"
      ]
    },
    {
      "cell_type": "code",
      "execution_count": null,
      "id": "1017c2da",
      "metadata": {
        "id": "1017c2da",
        "outputId": "1c1aca52-0c64-46d1-fa3d-bee51a8ba78a"
      },
      "outputs": [
        {
          "data": {
            "text/plain": [
              "True"
            ]
          },
          "execution_count": 15,
          "metadata": {},
          "output_type": "execute_result"
        }
      ],
      "source": [
        "my_str.isalnum()"
      ]
    },
    {
      "cell_type": "code",
      "execution_count": null,
      "id": "60fc55f3",
      "metadata": {
        "id": "60fc55f3",
        "outputId": "f9366980-84e7-4c6c-e011-fec74f0f4bcb"
      },
      "outputs": [
        {
          "data": {
            "text/plain": [
              "False"
            ]
          },
          "execution_count": 16,
          "metadata": {},
          "output_type": "execute_result"
        }
      ],
      "source": [
        "my_str.isdigit()"
      ]
    },
    {
      "cell_type": "code",
      "execution_count": null,
      "id": "a8339f02",
      "metadata": {
        "id": "a8339f02",
        "outputId": "94b9698c-f937-49a7-ea91-0ec139bbd5cc"
      },
      "outputs": [
        {
          "data": {
            "text/plain": [
              "True"
            ]
          },
          "execution_count": 17,
          "metadata": {},
          "output_type": "execute_result"
        }
      ],
      "source": [
        "my_str.istitle()"
      ]
    },
    {
      "cell_type": "code",
      "execution_count": null,
      "id": "d1ec2b4b",
      "metadata": {
        "id": "d1ec2b4b",
        "outputId": "03b99bdc-d0b9-474b-abc0-7823a68e2108"
      },
      "outputs": [
        {
          "name": "stdout",
          "output_type": "stream",
          "text": [
            "True\n",
            "False\n",
            "False\n",
            "True\n",
            "False\n",
            "False\n",
            "False\n",
            "True\n",
            "True\n"
          ]
        }
      ],
      "source": [
        "print(my_str.isalnum()) #check if all char are numbers\n",
        "print(my_str.isalpha()) #check if all char in the string are alphabetic\n",
        "print(my_str.isdigit()) #test if string contains digits\n",
        "print(my_str.istitle()) #test if string contains title words\n",
        "print(my_str.isupper()) #test if string contains upper case\n",
        "print(my_str.islower()) #test if string contains lower case\n",
        "print(my_str.isspace()) #test if string contains spaces\n",
        "print(my_str.endswith('8')) #test if string endswith a d\n",
        "print(my_str.startswith('A')) #test if string startswith H"
      ]
    },
    {
      "cell_type": "markdown",
      "id": "1a518218",
      "metadata": {
        "id": "1a518218"
      },
      "source": [
        "## Boolean and Logical Operators"
      ]
    },
    {
      "cell_type": "code",
      "execution_count": null,
      "id": "6d38e92d",
      "metadata": {
        "id": "6d38e92d",
        "outputId": "9eaec1e9-099f-4ad5-bfbb-e677a5889ddd"
      },
      "outputs": [
        {
          "data": {
            "text/plain": [
              "True"
            ]
          },
          "execution_count": 19,
          "metadata": {},
          "output_type": "execute_result"
        }
      ],
      "source": [
        "True and True"
      ]
    },
    {
      "cell_type": "code",
      "execution_count": null,
      "id": "6dc3dab8",
      "metadata": {
        "id": "6dc3dab8",
        "outputId": "9c16ceb8-5e1b-4e38-9467-60a8e8b21f8e"
      },
      "outputs": [
        {
          "data": {
            "text/plain": [
              "False"
            ]
          },
          "execution_count": 20,
          "metadata": {},
          "output_type": "execute_result"
        }
      ],
      "source": [
        "True and False"
      ]
    },
    {
      "cell_type": "code",
      "execution_count": null,
      "id": "55705483",
      "metadata": {
        "id": "55705483",
        "outputId": "a49168f7-d379-4356-9d31-1e88abd3d3a6"
      },
      "outputs": [
        {
          "data": {
            "text/plain": [
              "True"
            ]
          },
          "execution_count": 21,
          "metadata": {},
          "output_type": "execute_result"
        }
      ],
      "source": [
        "True or False"
      ]
    },
    {
      "cell_type": "code",
      "execution_count": null,
      "id": "763c9a3c",
      "metadata": {
        "id": "763c9a3c",
        "outputId": "7c936df7-d4ab-48c1-f670-44b11e64fea8"
      },
      "outputs": [
        {
          "data": {
            "text/plain": [
              "True"
            ]
          },
          "execution_count": 22,
          "metadata": {},
          "output_type": "execute_result"
        }
      ],
      "source": [
        "True or True"
      ]
    },
    {
      "cell_type": "code",
      "execution_count": null,
      "id": "2dd2addb",
      "metadata": {
        "id": "2dd2addb"
      },
      "outputs": [],
      "source": [
        "str_example='Hello World'\n",
        "my_str='Ashis'"
      ]
    },
    {
      "cell_type": "code",
      "execution_count": null,
      "id": "d607bbae",
      "metadata": {
        "id": "d607bbae",
        "outputId": "e55799eb-883b-4970-82d2-423a7634ff75"
      },
      "outputs": [
        {
          "data": {
            "text/plain": [
              "True"
            ]
          },
          "execution_count": 25,
          "metadata": {},
          "output_type": "execute_result"
        }
      ],
      "source": [
        "my_str.isalpha() or str_example.isendswith('o')"
      ]
    },
    {
      "cell_type": "markdown",
      "id": "0d648bdd",
      "metadata": {
        "id": "0d648bdd"
      },
      "source": [
        "# Lists\n",
        "\n",
        "A list is a data structure in Python that is a mutable, or changeable, ordered sequence of elements. Each element or value that is inside of a list is called an item. Just as strings are defined as characters between quotes, lists are defined by having values between square brackets [ ]\n",
        "\n"
      ]
    },
    {
      "cell_type": "code",
      "execution_count": null,
      "id": "3f8b51ac",
      "metadata": {
        "id": "3f8b51ac",
        "outputId": "097287af-9726-489c-eba9-df3571d55665"
      },
      "outputs": [
        {
          "data": {
            "text/plain": [
              "list"
            ]
          },
          "execution_count": 26,
          "metadata": {},
          "output_type": "execute_result"
        }
      ],
      "source": [
        "type([])"
      ]
    },
    {
      "cell_type": "code",
      "execution_count": null,
      "id": "e2a3ef55",
      "metadata": {
        "id": "e2a3ef55",
        "outputId": "322a1494-73b6-4c07-ce02-df9d11c166b9"
      },
      "outputs": [
        {
          "data": {
            "text/plain": [
              "dict"
            ]
          },
          "execution_count": 29,
          "metadata": {},
          "output_type": "execute_result"
        }
      ],
      "source": [
        "type({})"
      ]
    },
    {
      "cell_type": "code",
      "execution_count": null,
      "id": "d2b46ba1",
      "metadata": {
        "id": "d2b46ba1"
      },
      "outputs": [],
      "source": [
        "lst_example=[]"
      ]
    },
    {
      "cell_type": "code",
      "execution_count": null,
      "id": "e0aea297",
      "metadata": {
        "id": "e0aea297",
        "outputId": "fc3d6ded-22b0-4098-b9db-60cd3e4a3624"
      },
      "outputs": [
        {
          "data": {
            "text/plain": [
              "list"
            ]
          },
          "execution_count": 31,
          "metadata": {},
          "output_type": "execute_result"
        }
      ],
      "source": [
        "type(lst_example)"
      ]
    },
    {
      "cell_type": "code",
      "execution_count": null,
      "id": "a46d5f9a",
      "metadata": {
        "id": "a46d5f9a"
      },
      "outputs": [],
      "source": [
        "lst=list()"
      ]
    },
    {
      "cell_type": "code",
      "execution_count": null,
      "id": "309a62db",
      "metadata": {
        "id": "309a62db",
        "outputId": "42ede58c-b8ae-48b8-b5c5-c38efaf607f4"
      },
      "outputs": [
        {
          "data": {
            "text/plain": [
              "list"
            ]
          },
          "execution_count": 33,
          "metadata": {},
          "output_type": "execute_result"
        }
      ],
      "source": [
        "type(lst)"
      ]
    },
    {
      "cell_type": "code",
      "execution_count": null,
      "id": "b44c0015",
      "metadata": {
        "id": "b44c0015"
      },
      "outputs": [],
      "source": [
        "lst=['Mathematics', 'chemistry', 100, 200, 300, 204]"
      ]
    },
    {
      "cell_type": "code",
      "execution_count": null,
      "id": "b14e185f",
      "metadata": {
        "id": "b14e185f",
        "outputId": "2b7d8ded-71fa-4c9d-f61e-2d198aafe671"
      },
      "outputs": [
        {
          "data": {
            "text/plain": [
              "6"
            ]
          },
          "execution_count": 35,
          "metadata": {},
          "output_type": "execute_result"
        }
      ],
      "source": [
        "len(lst)"
      ]
    },
    {
      "cell_type": "code",
      "execution_count": null,
      "id": "415be6bf",
      "metadata": {
        "id": "415be6bf",
        "outputId": "5aa52fdb-52ab-4043-e1eb-ca666c52914d"
      },
      "outputs": [
        {
          "data": {
            "text/plain": [
              "list"
            ]
          },
          "execution_count": 36,
          "metadata": {},
          "output_type": "execute_result"
        }
      ],
      "source": [
        "type(lst)"
      ]
    },
    {
      "cell_type": "markdown",
      "id": "e4318b07",
      "metadata": {
        "id": "e4318b07"
      },
      "source": [
        "## Append"
      ]
    },
    {
      "cell_type": "code",
      "execution_count": null,
      "id": "99ebb105",
      "metadata": {
        "id": "99ebb105"
      },
      "outputs": [],
      "source": [
        "#.append is used to add elements in the list\n",
        "lst.append(\"Ashis\")"
      ]
    },
    {
      "cell_type": "code",
      "execution_count": null,
      "id": "ef22c2ef",
      "metadata": {
        "id": "ef22c2ef"
      },
      "outputs": [],
      "source": [
        "lst.append([\"Book\",\"Note\"])"
      ]
    },
    {
      "cell_type": "code",
      "execution_count": null,
      "id": "d4480328",
      "metadata": {
        "id": "d4480328",
        "outputId": "d85229dd-da9b-474a-edb0-8b47dc18ed68"
      },
      "outputs": [
        {
          "data": {
            "text/plain": [
              "['Mathematics', 'chemistry', 100, 200, 300, 204, 'Ashis', ['Book', 'Note']]"
            ]
          },
          "execution_count": 43,
          "metadata": {},
          "output_type": "execute_result"
        }
      ],
      "source": [
        "lst"
      ]
    },
    {
      "cell_type": "code",
      "execution_count": null,
      "id": "43a8fe7b",
      "metadata": {
        "id": "43a8fe7b",
        "outputId": "91dae2db-8395-4ac9-b398-027b57560d2d"
      },
      "outputs": [
        {
          "data": {
            "text/plain": [
              "'chemistry'"
            ]
          },
          "execution_count": 44,
          "metadata": {},
          "output_type": "execute_result"
        }
      ],
      "source": [
        "##Indexing in List\n",
        "lst[1]"
      ]
    },
    {
      "cell_type": "code",
      "execution_count": null,
      "id": "d12d40db",
      "metadata": {
        "id": "d12d40db",
        "outputId": "0187926f-e7b0-462b-d4c0-2dd48092f027"
      },
      "outputs": [
        {
          "data": {
            "text/plain": [
              "['Book', 'Note']"
            ]
          },
          "execution_count": 46,
          "metadata": {},
          "output_type": "execute_result"
        }
      ],
      "source": [
        "lst[7]"
      ]
    },
    {
      "cell_type": "code",
      "execution_count": null,
      "id": "cff6fa95",
      "metadata": {
        "id": "cff6fa95",
        "outputId": "17c0c5c1-82bf-4d9e-990a-fcc94e7e5a25"
      },
      "outputs": [
        {
          "data": {
            "text/plain": [
              "['chemistry', 100, 200, 300, 204]"
            ]
          },
          "execution_count": 47,
          "metadata": {},
          "output_type": "execute_result"
        }
      ],
      "source": [
        "lst[1:6]"
      ]
    },
    {
      "cell_type": "code",
      "execution_count": null,
      "id": "d1266cad",
      "metadata": {
        "id": "d1266cad",
        "outputId": "d0c846ee-423b-4785-b997-046e3bd88c82"
      },
      "outputs": [
        {
          "data": {
            "text/plain": [
              "[]"
            ]
          },
          "execution_count": 48,
          "metadata": {},
          "output_type": "execute_result"
        }
      ],
      "source": [
        "lst[2:2]"
      ]
    },
    {
      "cell_type": "code",
      "execution_count": null,
      "id": "cf33b521",
      "metadata": {
        "id": "cf33b521",
        "outputId": "c33946bc-1ec7-468f-cb45-71ceace51ba9"
      },
      "outputs": [
        {
          "data": {
            "text/plain": [
              "['Mathematics', 'chemistry', 100, 200, 300, 204, 'Ashis', ['Book', 'Note']]"
            ]
          },
          "execution_count": 49,
          "metadata": {},
          "output_type": "execute_result"
        }
      ],
      "source": [
        "lst[:]"
      ]
    },
    {
      "cell_type": "code",
      "execution_count": null,
      "id": "212de0ea",
      "metadata": {
        "id": "212de0ea",
        "outputId": "87293ab4-9f2b-4655-8118-25fff3c93424"
      },
      "outputs": [
        {
          "data": {
            "text/plain": [
              "['Mathematics', 100, 300, 'Ashis']"
            ]
          },
          "execution_count": 52,
          "metadata": {},
          "output_type": "execute_result"
        }
      ],
      "source": [
        "lst[::2]"
      ]
    },
    {
      "cell_type": "code",
      "execution_count": null,
      "id": "2797e28f",
      "metadata": {
        "id": "2797e28f",
        "outputId": "46997b00-4a3b-47e6-9030-8939ac4a900c"
      },
      "outputs": [
        {
          "data": {
            "text/plain": [
              "[['Book', 'Note'], 'Ashis', 204, 300, 200, 100, 'chemistry', 'Mathematics']"
            ]
          },
          "execution_count": 53,
          "metadata": {},
          "output_type": "execute_result"
        }
      ],
      "source": [
        "lst[::-1]"
      ]
    },
    {
      "cell_type": "markdown",
      "id": "93aeb953",
      "metadata": {
        "id": "93aeb953"
      },
      "source": [
        "## Insert"
      ]
    },
    {
      "cell_type": "code",
      "execution_count": null,
      "id": "c442627a",
      "metadata": {
        "id": "c442627a"
      },
      "outputs": [],
      "source": [
        "## insert in a specific order\n",
        "\n",
        "lst.insert(7,\"Kumar\")"
      ]
    },
    {
      "cell_type": "code",
      "execution_count": null,
      "id": "f5660516",
      "metadata": {
        "id": "f5660516",
        "outputId": "50ad3d6f-a8fe-48fb-89a5-b740bf86a49f"
      },
      "outputs": [
        {
          "data": {
            "text/plain": [
              "['Mathematics',\n",
              " 'chemistry',\n",
              " 100,\n",
              " 200,\n",
              " 300,\n",
              " 204,\n",
              " 'Ashis',\n",
              " 'Kumar',\n",
              " ['Book', 'Note']]"
            ]
          },
          "execution_count": 55,
          "metadata": {},
          "output_type": "execute_result"
        }
      ],
      "source": [
        "lst"
      ]
    },
    {
      "cell_type": "code",
      "execution_count": null,
      "id": "a23d8441",
      "metadata": {
        "id": "a23d8441"
      },
      "outputs": [],
      "source": [
        "lst.append([\"Hello\",\"World\"])"
      ]
    },
    {
      "cell_type": "code",
      "execution_count": null,
      "id": "33b00fb8",
      "metadata": {
        "id": "33b00fb8",
        "outputId": "133ce9e3-b19d-44e3-ed1f-0fd7b607c905"
      },
      "outputs": [
        {
          "data": {
            "text/plain": [
              "['Mathematics',\n",
              " 'chemistry',\n",
              " 100,\n",
              " 200,\n",
              " 300,\n",
              " 204,\n",
              " 'Ashis',\n",
              " 'Kumar',\n",
              " ['Book', 'Note'],\n",
              " ['Hello', 'World']]"
            ]
          },
          "execution_count": 57,
          "metadata": {},
          "output_type": "execute_result"
        }
      ],
      "source": [
        "lst"
      ]
    },
    {
      "cell_type": "code",
      "execution_count": null,
      "id": "061c3bc8",
      "metadata": {
        "id": "061c3bc8"
      },
      "outputs": [],
      "source": [
        "lst=[1,2,3]"
      ]
    },
    {
      "cell_type": "code",
      "execution_count": null,
      "id": "4bf91509",
      "metadata": {
        "id": "4bf91509"
      },
      "outputs": [],
      "source": [
        "lst.append([4,5])"
      ]
    },
    {
      "cell_type": "code",
      "execution_count": null,
      "id": "95082899",
      "metadata": {
        "id": "95082899",
        "outputId": "d9bd3762-0842-4559-c4dd-86d4118f42f7"
      },
      "outputs": [
        {
          "data": {
            "text/plain": [
              "[1, 2, 3, [4, 5]]"
            ]
          },
          "execution_count": 60,
          "metadata": {},
          "output_type": "execute_result"
        }
      ],
      "source": [
        "lst"
      ]
    },
    {
      "cell_type": "markdown",
      "id": "b57c217c",
      "metadata": {
        "id": "b57c217c"
      },
      "source": [
        "### Extend Method"
      ]
    },
    {
      "cell_type": "code",
      "execution_count": null,
      "id": "9bfb69f7",
      "metadata": {
        "id": "9bfb69f7"
      },
      "outputs": [],
      "source": [
        "lst=[1,2,3,4,5,6]"
      ]
    },
    {
      "cell_type": "code",
      "execution_count": null,
      "id": "1c8f5986",
      "metadata": {
        "id": "1c8f5986"
      },
      "outputs": [],
      "source": [
        "lst.extend([7,8,9])"
      ]
    },
    {
      "cell_type": "code",
      "execution_count": null,
      "id": "1415a8a9",
      "metadata": {
        "id": "1415a8a9",
        "outputId": "9c9d12da-aa70-4d64-d7b4-a94e3f04ca71"
      },
      "outputs": [
        {
          "data": {
            "text/plain": [
              "[1, 2, 3, 4, 5, 6, 7, 8, 9]"
            ]
          },
          "execution_count": 11,
          "metadata": {},
          "output_type": "execute_result"
        }
      ],
      "source": [
        "lst"
      ]
    },
    {
      "cell_type": "markdown",
      "id": "2f9cebaa",
      "metadata": {
        "id": "2f9cebaa"
      },
      "source": [
        "### Various Operations that we can perform in List"
      ]
    },
    {
      "cell_type": "code",
      "execution_count": null,
      "id": "cef8c385",
      "metadata": {
        "id": "cef8c385"
      },
      "outputs": [],
      "source": [
        "lst=[1,2,3,4,5]"
      ]
    },
    {
      "cell_type": "code",
      "execution_count": null,
      "id": "4540604e",
      "metadata": {
        "id": "4540604e",
        "outputId": "e9b5f125-a24f-4400-c994-da015ea4e6bd"
      },
      "outputs": [
        {
          "data": {
            "text/plain": [
              "15"
            ]
          },
          "execution_count": 65,
          "metadata": {},
          "output_type": "execute_result"
        }
      ],
      "source": [
        "sum(lst)"
      ]
    },
    {
      "cell_type": "code",
      "execution_count": null,
      "id": "8c3966e2",
      "metadata": {
        "id": "8c3966e2",
        "outputId": "b29b2c31-b0d4-426a-f93f-fd3b8a8379ac"
      },
      "outputs": [
        {
          "data": {
            "text/plain": [
              "[1, 2, 3, 4, 5, 1, 2, 3, 4, 5, 1, 2, 3, 4, 5]"
            ]
          },
          "execution_count": 66,
          "metadata": {},
          "output_type": "execute_result"
        }
      ],
      "source": [
        "lst*3"
      ]
    },
    {
      "cell_type": "markdown",
      "id": "abb359b4",
      "metadata": {
        "id": "abb359b4"
      },
      "source": [
        "### Pop() Method"
      ]
    },
    {
      "cell_type": "code",
      "execution_count": null,
      "id": "ed86c88f",
      "metadata": {
        "id": "ed86c88f",
        "outputId": "aa6397b4-9275-4553-b90e-fec458618096"
      },
      "outputs": [
        {
          "data": {
            "text/plain": [
              "5"
            ]
          },
          "execution_count": 67,
          "metadata": {},
          "output_type": "execute_result"
        }
      ],
      "source": [
        "lst.pop()"
      ]
    },
    {
      "cell_type": "code",
      "execution_count": null,
      "id": "6422cee8",
      "metadata": {
        "id": "6422cee8"
      },
      "outputs": [],
      "source": [
        "lst=['Mathematics', 'chemistry', 100, 200, 300, 204]"
      ]
    },
    {
      "cell_type": "code",
      "execution_count": null,
      "id": "f50457e3",
      "metadata": {
        "id": "f50457e3",
        "outputId": "0e7ce2d7-7e49-4519-a00e-5faa09873305"
      },
      "outputs": [
        {
          "data": {
            "text/plain": [
              "204"
            ]
          },
          "execution_count": 69,
          "metadata": {},
          "output_type": "execute_result"
        }
      ],
      "source": [
        "lst.pop()"
      ]
    },
    {
      "cell_type": "code",
      "execution_count": null,
      "id": "4615006f",
      "metadata": {
        "id": "4615006f",
        "outputId": "71a5b49a-4fd3-4b8e-853a-3e90f59e2e0b"
      },
      "outputs": [
        {
          "data": {
            "text/plain": [
              "['Mathematics', 'chemistry', 100, 200, 300]"
            ]
          },
          "execution_count": 70,
          "metadata": {},
          "output_type": "execute_result"
        }
      ],
      "source": [
        "lst"
      ]
    },
    {
      "cell_type": "code",
      "execution_count": null,
      "id": "99864691",
      "metadata": {
        "id": "99864691",
        "outputId": "f3666b7e-b20b-40d8-c9fa-b58b363264e8"
      },
      "outputs": [
        {
          "data": {
            "text/plain": [
              "'Mathematics'"
            ]
          },
          "execution_count": 71,
          "metadata": {},
          "output_type": "execute_result"
        }
      ],
      "source": [
        "lst.pop(0)"
      ]
    },
    {
      "cell_type": "code",
      "execution_count": null,
      "id": "3bb284fa",
      "metadata": {
        "id": "3bb284fa",
        "outputId": "e6358df5-4fb2-4210-eda7-224b4610494c"
      },
      "outputs": [
        {
          "data": {
            "text/plain": [
              "['chemistry', 100, 200, 300]"
            ]
          },
          "execution_count": 72,
          "metadata": {},
          "output_type": "execute_result"
        }
      ],
      "source": [
        "lst"
      ]
    },
    {
      "cell_type": "markdown",
      "id": "eb824dd4",
      "metadata": {
        "id": "eb824dd4"
      },
      "source": [
        "### count():Calculates total occurrence of given element of List"
      ]
    },
    {
      "cell_type": "code",
      "execution_count": null,
      "id": "738cdafd",
      "metadata": {
        "id": "738cdafd",
        "outputId": "9fa51cb5-060b-473a-a905-a07d94b72dc5"
      },
      "outputs": [
        {
          "data": {
            "text/plain": [
              "0"
            ]
          },
          "execution_count": 38,
          "metadata": {},
          "output_type": "execute_result"
        }
      ],
      "source": [
        "lst=[1,1,2,3,4,5,5]\n",
        "lst.count(6)"
      ]
    },
    {
      "cell_type": "code",
      "execution_count": null,
      "id": "598aa39e",
      "metadata": {
        "id": "598aa39e",
        "outputId": "bf93b9bf-beb0-4f0c-98e4-8785760e9c35"
      },
      "outputs": [
        {
          "data": {
            "text/plain": [
              "[1, 1, 2, 3, 4, 5]"
            ]
          },
          "execution_count": 14,
          "metadata": {},
          "output_type": "execute_result"
        }
      ],
      "source": [
        "lst"
      ]
    },
    {
      "cell_type": "code",
      "execution_count": null,
      "id": "19487ccd",
      "metadata": {
        "id": "19487ccd",
        "outputId": "9b03b7ee-08b9-4de1-a043-6c3ce0471016"
      },
      "outputs": [
        {
          "name": "stdout",
          "output_type": "stream",
          "text": [
            "[1, 1, 2, 3, 4, 5, 5]\n"
          ]
        }
      ],
      "source": [
        "print(lst)"
      ]
    },
    {
      "cell_type": "code",
      "execution_count": null,
      "id": "795b3355",
      "metadata": {
        "id": "795b3355",
        "outputId": "7aee2d70-4b55-4478-9231-4b66134721ff"
      },
      "outputs": [
        {
          "data": {
            "text/plain": [
              "7"
            ]
          },
          "execution_count": 26,
          "metadata": {},
          "output_type": "execute_result"
        }
      ],
      "source": [
        "#length:Calculates total length of List\n",
        "len(lst)"
      ]
    },
    {
      "cell_type": "code",
      "execution_count": null,
      "id": "b93bf036",
      "metadata": {
        "id": "b93bf036"
      },
      "outputs": [],
      "source": [
        "lst = [1,2,3,9,4,5]"
      ]
    },
    {
      "cell_type": "code",
      "execution_count": null,
      "id": "f2bc6e8b",
      "metadata": {
        "id": "f2bc6e8b",
        "outputId": "575a9ba3-7d63-446e-9b3a-60eaa485e406"
      },
      "outputs": [
        {
          "data": {
            "text/plain": [
              "4"
            ]
          },
          "execution_count": 42,
          "metadata": {},
          "output_type": "execute_result"
        }
      ],
      "source": [
        "# index(): Returns the index of first occurrence. Start and End index are not necessary parameters\n",
        "lst.index(5)"
      ]
    },
    {
      "cell_type": "code",
      "execution_count": null,
      "id": "c9b7496a",
      "metadata": {
        "id": "c9b7496a",
        "outputId": "65f17bcc-797f-4135-ff70-6e09676ebc6f"
      },
      "outputs": [
        {
          "data": {
            "text/plain": [
              "3"
            ]
          },
          "execution_count": 48,
          "metadata": {},
          "output_type": "execute_result"
        }
      ],
      "source": [
        "lst[2]"
      ]
    },
    {
      "cell_type": "code",
      "execution_count": null,
      "id": "45a33c8b",
      "metadata": {
        "id": "45a33c8b",
        "outputId": "6015c0c9-73cd-4136-a361-55aaf54d643c"
      },
      "outputs": [
        {
          "data": {
            "text/plain": [
              "1"
            ]
          },
          "execution_count": 45,
          "metadata": {},
          "output_type": "execute_result"
        }
      ],
      "source": [
        "##Min and Max\n",
        "min(lst)"
      ]
    },
    {
      "cell_type": "code",
      "execution_count": null,
      "id": "d6d38195",
      "metadata": {
        "id": "d6d38195",
        "outputId": "820a3f4f-8779-4dc2-be4e-b8109dd02f88"
      },
      "outputs": [
        {
          "data": {
            "text/plain": [
              "9"
            ]
          },
          "execution_count": 51,
          "metadata": {},
          "output_type": "execute_result"
        }
      ],
      "source": [
        "max(lst)"
      ]
    },
    {
      "cell_type": "markdown",
      "id": "87aa783e",
      "metadata": {
        "id": "87aa783e"
      },
      "source": [
        "# SETS\n",
        "\n",
        "A Set is an unordered collection data type that is iterable, mutable, and has no duplicate elements. Python's set class represents the mathematical notion of a set.This is based on a data structure known as a hash table"
      ]
    },
    {
      "cell_type": "code",
      "execution_count": null,
      "id": "2b419adb",
      "metadata": {
        "id": "2b419adb",
        "outputId": "e13c80d6-44f4-4b1f-f075-e673a80b55ec"
      },
      "outputs": [
        {
          "name": "stdout",
          "output_type": "stream",
          "text": [
            "set()\n",
            "<class 'set'>\n"
          ]
        }
      ],
      "source": [
        "## Defining an empy set\n",
        "\n",
        "set_var= set()\n",
        "print(set_var)\n",
        "print(type(set_var))"
      ]
    },
    {
      "cell_type": "code",
      "execution_count": null,
      "id": "89312090",
      "metadata": {
        "id": "89312090"
      },
      "outputs": [],
      "source": [
        "#Set has no indexing but other case ok\n",
        "set_var={1,2,3,4,3}\n"
      ]
    },
    {
      "cell_type": "code",
      "execution_count": null,
      "id": "39321651",
      "metadata": {
        "id": "39321651"
      },
      "outputs": [],
      "source": [
        "set_var.add(6)"
      ]
    },
    {
      "cell_type": "code",
      "execution_count": null,
      "id": "a9e4ceab",
      "metadata": {
        "id": "a9e4ceab",
        "outputId": "5063bcc1-c15b-44b0-8b31-5c77c77b8f21"
      },
      "outputs": [
        {
          "data": {
            "text/plain": [
              "{1, 2, 3, 4, 6}"
            ]
          },
          "execution_count": 91,
          "metadata": {},
          "output_type": "execute_result"
        }
      ],
      "source": [
        "set_var"
      ]
    },
    {
      "cell_type": "code",
      "execution_count": null,
      "id": "13bd00a0",
      "metadata": {
        "id": "13bd00a0",
        "outputId": "43a6ac20-537f-4bb5-883a-c4fc2351a9c7"
      },
      "outputs": [
        {
          "name": "stdout",
          "output_type": "stream",
          "text": [
            "{'Hitman', 'Avengers', 'IronMan'}\n"
          ]
        },
        {
          "data": {
            "text/plain": [
              "set"
            ]
          },
          "execution_count": 55,
          "metadata": {},
          "output_type": "execute_result"
        }
      ],
      "source": [
        "set_var={\"Avengers\",\"IronMan\",'Hitman'}\n",
        "print(set_var)\n",
        "type(set_var)"
      ]
    },
    {
      "cell_type": "code",
      "execution_count": null,
      "id": "3b6d9827",
      "metadata": {
        "id": "3b6d9827"
      },
      "outputs": [],
      "source": [
        "## Inbuilt function in sets\n",
        "\n",
        "set_var.add(\"Hulk\")"
      ]
    },
    {
      "cell_type": "code",
      "execution_count": null,
      "id": "fd48ec08",
      "metadata": {
        "id": "fd48ec08",
        "outputId": "f162e5a9-f912-4e4e-8eb5-e33201a5bd0d"
      },
      "outputs": [
        {
          "name": "stdout",
          "output_type": "stream",
          "text": [
            "{'Hitman', 'Avengers', 'IronMan', 'Hulk'}\n"
          ]
        }
      ],
      "source": [
        "print(set_var)"
      ]
    },
    {
      "cell_type": "code",
      "execution_count": null,
      "id": "1f207931",
      "metadata": {
        "id": "1f207931"
      },
      "outputs": [],
      "source": [
        "set1={\"Avengers\",\"IronMan\",'Hitman'}\n",
        "set2={\"Avengers\",\"IronMan\",'Hitman','Hulk2'}"
      ]
    },
    {
      "cell_type": "code",
      "execution_count": null,
      "id": "66c2fab9",
      "metadata": {
        "id": "66c2fab9"
      },
      "outputs": [],
      "source": [
        "#Intersection_update\n",
        "set2.intersection_update(set1)"
      ]
    },
    {
      "cell_type": "code",
      "execution_count": null,
      "id": "00f75f87",
      "metadata": {
        "id": "00f75f87",
        "outputId": "09999f6a-3565-40bc-9de9-69ee38307602"
      },
      "outputs": [
        {
          "data": {
            "text/plain": [
              "{'Avengers', 'Hitman', 'IronMan'}"
            ]
          },
          "execution_count": 81,
          "metadata": {},
          "output_type": "execute_result"
        }
      ],
      "source": [
        "set2"
      ]
    },
    {
      "cell_type": "code",
      "execution_count": null,
      "id": "11263f2e",
      "metadata": {
        "id": "11263f2e",
        "outputId": "8ca81783-ecfa-44b8-fc2a-37c1fc4fb776"
      },
      "outputs": [
        {
          "data": {
            "text/plain": [
              "{'Avengers', 'Hitman', 'Hulk2', 'IronMan'}"
            ]
          },
          "execution_count": 74,
          "metadata": {},
          "output_type": "execute_result"
        }
      ],
      "source": [
        "#Union\n",
        "set1.union(set2)"
      ]
    },
    {
      "cell_type": "code",
      "execution_count": null,
      "id": "a43749af",
      "metadata": {
        "id": "a43749af"
      },
      "outputs": [],
      "source": [
        "set1.update(set2)"
      ]
    },
    {
      "cell_type": "code",
      "execution_count": null,
      "id": "18826b57",
      "metadata": {
        "id": "18826b57",
        "outputId": "8e946408-78b6-41f5-9971-ac017d75aea8"
      },
      "outputs": [
        {
          "data": {
            "text/plain": [
              "{'Avengers', 'Hitman', 'Hulk2', 'IronMan'}"
            ]
          },
          "execution_count": 76,
          "metadata": {},
          "output_type": "execute_result"
        }
      ],
      "source": [
        "set1"
      ]
    },
    {
      "cell_type": "code",
      "execution_count": null,
      "id": "6c6dceb1",
      "metadata": {
        "id": "6c6dceb1",
        "outputId": "cb04303b-307a-40de-86dd-d70bf96ee17c"
      },
      "outputs": [
        {
          "data": {
            "text/plain": [
              "{'Hulk2'}"
            ]
          },
          "execution_count": 83,
          "metadata": {},
          "output_type": "execute_result"
        }
      ],
      "source": [
        "##Difference \n",
        "set2.difference(set1)"
      ]
    },
    {
      "cell_type": "code",
      "execution_count": null,
      "id": "995d6ef6",
      "metadata": {
        "id": "995d6ef6",
        "outputId": "1af27206-2a5b-44f8-f404-e27d2169404b"
      },
      "outputs": [
        {
          "data": {
            "text/plain": [
              "{'Avengers', 'Hitman', 'Hulk2', 'IronMan'}"
            ]
          },
          "execution_count": 84,
          "metadata": {},
          "output_type": "execute_result"
        }
      ],
      "source": [
        "set2"
      ]
    },
    {
      "cell_type": "code",
      "execution_count": null,
      "id": "c1a62515",
      "metadata": {
        "id": "c1a62515"
      },
      "outputs": [],
      "source": [
        "## Difference update\n",
        "\n",
        "set2.difference_update(set1)"
      ]
    },
    {
      "cell_type": "code",
      "execution_count": null,
      "id": "0e05b93c",
      "metadata": {
        "id": "0e05b93c",
        "outputId": "9826390f-d4b5-4e31-bb67-fca610180b60"
      },
      "outputs": [
        {
          "name": "stdout",
          "output_type": "stream",
          "text": [
            "{'Hulk2'}\n"
          ]
        }
      ],
      "source": [
        "print(set2)"
      ]
    },
    {
      "cell_type": "markdown",
      "id": "723fe858",
      "metadata": {
        "id": "723fe858"
      },
      "source": [
        "# Dictionaries\n",
        "\n",
        "A dictionary is a collection which is unordered, changeable and indexed. In Python dictionaries are written with curly brackets, and they have keys and values."
      ]
    },
    {
      "cell_type": "code",
      "execution_count": null,
      "id": "8c9e502c",
      "metadata": {
        "id": "8c9e502c"
      },
      "outputs": [],
      "source": [
        "dic={}"
      ]
    },
    {
      "cell_type": "code",
      "execution_count": null,
      "id": "af04f093",
      "metadata": {
        "id": "af04f093",
        "outputId": "d9cb3683-f6e3-4559-de90-3c1de33a9d04"
      },
      "outputs": [
        {
          "data": {
            "text/plain": [
              "dict"
            ]
          },
          "execution_count": 93,
          "metadata": {},
          "output_type": "execute_result"
        }
      ],
      "source": [
        "type(dic)"
      ]
    },
    {
      "cell_type": "code",
      "execution_count": null,
      "id": "4df0e936",
      "metadata": {
        "id": "4df0e936",
        "outputId": "4cbdfc8e-c854-4bf4-9419-adf09a0c9dad"
      },
      "outputs": [
        {
          "data": {
            "text/plain": [
              "dict"
            ]
          },
          "execution_count": 98,
          "metadata": {},
          "output_type": "execute_result"
        }
      ],
      "source": [
        "type(dict())"
      ]
    },
    {
      "cell_type": "code",
      "execution_count": null,
      "id": "8317a13f",
      "metadata": {
        "id": "8317a13f"
      },
      "outputs": [],
      "source": [
        "a = set()"
      ]
    },
    {
      "cell_type": "code",
      "execution_count": null,
      "id": "0ea5ed2a",
      "metadata": {
        "id": "0ea5ed2a",
        "outputId": "015f22d8-ce54-45a9-aeeb-6425d1ef5ccc"
      },
      "outputs": [
        {
          "data": {
            "text/plain": [
              "set"
            ]
          },
          "execution_count": 97,
          "metadata": {},
          "output_type": "execute_result"
        }
      ],
      "source": [
        "type(a)"
      ]
    },
    {
      "cell_type": "code",
      "execution_count": null,
      "id": "9f6412e1",
      "metadata": {
        "id": "9f6412e1"
      },
      "outputs": [],
      "source": [
        "set_ex={1,2,3,4,5}"
      ]
    },
    {
      "cell_type": "code",
      "execution_count": null,
      "id": "b9475e2f",
      "metadata": {
        "id": "b9475e2f",
        "outputId": "daa7d7ce-aee6-45f3-f620-267c03ecfc94"
      },
      "outputs": [
        {
          "data": {
            "text/plain": [
              "set"
            ]
          },
          "execution_count": 100,
          "metadata": {},
          "output_type": "execute_result"
        }
      ],
      "source": [
        "type(set_ex)\n"
      ]
    },
    {
      "cell_type": "code",
      "execution_count": null,
      "id": "18f97bec",
      "metadata": {
        "id": "18f97bec"
      },
      "outputs": [],
      "source": [
        "## Let create a dictionary\n",
        "\n",
        "my_dict={\"Car1\": \"Audi\", \"Car2\":\"BMW\",\"Car3\":\"Mercidies Benz\"}"
      ]
    },
    {
      "cell_type": "code",
      "execution_count": null,
      "id": "034c081e",
      "metadata": {
        "id": "034c081e",
        "outputId": "f423d03e-2267-489e-a4f9-2996c72cc160"
      },
      "outputs": [
        {
          "data": {
            "text/plain": [
              "dict"
            ]
          },
          "execution_count": 102,
          "metadata": {},
          "output_type": "execute_result"
        }
      ],
      "source": [
        "type(my_dict)"
      ]
    },
    {
      "cell_type": "code",
      "execution_count": null,
      "id": "cf6aba70",
      "metadata": {
        "id": "cf6aba70",
        "outputId": "f892cf00-52c5-46e6-9388-610d01deffeb"
      },
      "outputs": [
        {
          "data": {
            "text/plain": [
              "'Audi'"
            ]
          },
          "execution_count": 103,
          "metadata": {},
          "output_type": "execute_result"
        }
      ],
      "source": [
        "##Access the item values based on keys\n",
        "\n",
        "my_dict['Car1']"
      ]
    },
    {
      "cell_type": "code",
      "execution_count": null,
      "id": "fdd9df21",
      "metadata": {
        "id": "fdd9df21",
        "outputId": "cc03c430-4075-4ac2-9627-fcdf9b806699"
      },
      "outputs": [
        {
          "name": "stdout",
          "output_type": "stream",
          "text": [
            "Car1\n",
            "Car2\n",
            "Car3\n"
          ]
        }
      ],
      "source": [
        "# We can even loop throught the dictionaries keys\n",
        "\n",
        "for x in my_dict.keys():\n",
        "    print(x)"
      ]
    },
    {
      "cell_type": "code",
      "execution_count": null,
      "id": "4dd896bb",
      "metadata": {
        "id": "4dd896bb",
        "outputId": "a65001a1-c588-4d2b-e44f-83ee80573acd"
      },
      "outputs": [
        {
          "name": "stdout",
          "output_type": "stream",
          "text": [
            "Audi\n",
            "BMW\n",
            "Mercidies Benz\n"
          ]
        }
      ],
      "source": [
        "# We can even loop throught the dictionaries values\n",
        "\n",
        "for x in my_dict.values():\n",
        "    print(x)"
      ]
    },
    {
      "cell_type": "code",
      "execution_count": null,
      "id": "90f76f1a",
      "metadata": {
        "id": "90f76f1a",
        "outputId": "d9e1a11f-5cdf-42ce-a652-9b49e98d0cce"
      },
      "outputs": [
        {
          "name": "stdout",
          "output_type": "stream",
          "text": [
            "('Car1', 'Audi')\n",
            "('Car2', 'BMW')\n",
            "('Car3', 'Mercidies Benz')\n"
          ]
        }
      ],
      "source": [
        "# We can also check both keys and values\n",
        "for x in my_dict.items():\n",
        "    print(x)"
      ]
    },
    {
      "cell_type": "code",
      "execution_count": null,
      "id": "511d9722",
      "metadata": {
        "id": "511d9722"
      },
      "outputs": [],
      "source": [
        "## Adding items in Dictionaries\n",
        "\n",
        "my_dict['car4']='Audi 2.0'"
      ]
    },
    {
      "cell_type": "code",
      "execution_count": null,
      "id": "89564d28",
      "metadata": {
        "id": "89564d28",
        "outputId": "df90a49e-b494-4e1b-a7e4-a53b0814a8bb"
      },
      "outputs": [
        {
          "data": {
            "text/plain": [
              "{'Car1': 'Audi', 'Car2': 'BMW', 'Car3': 'Mercidies Benz', 'car4': 'Audi 2.0'}"
            ]
          },
          "execution_count": 112,
          "metadata": {},
          "output_type": "execute_result"
        }
      ],
      "source": [
        "my_dict"
      ]
    },
    {
      "cell_type": "code",
      "execution_count": null,
      "id": "9185d8aa",
      "metadata": {
        "id": "9185d8aa"
      },
      "outputs": [],
      "source": [
        "my_dict['Car3']='Maruti'"
      ]
    },
    {
      "cell_type": "code",
      "execution_count": null,
      "id": "10eaafa4",
      "metadata": {
        "id": "10eaafa4",
        "outputId": "6e19de7c-1003-46a2-e950-501cb8bb24fb"
      },
      "outputs": [
        {
          "data": {
            "text/plain": [
              "{'Car1': 'Audi', 'Car2': 'BMW', 'Car3': 'Maruti', 'car4': 'Audi 2.0'}"
            ]
          },
          "execution_count": 114,
          "metadata": {},
          "output_type": "execute_result"
        }
      ],
      "source": [
        "my_dict"
      ]
    },
    {
      "cell_type": "markdown",
      "id": "97ba1f57",
      "metadata": {
        "id": "97ba1f57"
      },
      "source": [
        "### Nested Dictionary"
      ]
    },
    {
      "cell_type": "code",
      "execution_count": null,
      "id": "493e911e",
      "metadata": {
        "id": "493e911e"
      },
      "outputs": [],
      "source": [
        "car1_model={'Mercedes':1960}\n",
        "car2_model={'Audi':1970}\n",
        "car3_model={'Ambassador':1980}\n",
        "\n",
        "car_type={'car1':car1_model,'car2':car2_model,'car3':car3_model}"
      ]
    },
    {
      "cell_type": "code",
      "execution_count": null,
      "id": "7bbf58a4",
      "metadata": {
        "id": "7bbf58a4",
        "outputId": "5de505fd-78f9-4855-fa41-157211e861d2"
      },
      "outputs": [
        {
          "name": "stdout",
          "output_type": "stream",
          "text": [
            "{'car1': {'Mercedes': 1960}, 'car2': {'Audi': 1970}, 'car3': {'Ambassador': 1980}}\n"
          ]
        }
      ],
      "source": [
        "print(car_type)"
      ]
    },
    {
      "cell_type": "code",
      "execution_count": null,
      "id": "b434a6d8",
      "metadata": {
        "id": "b434a6d8",
        "outputId": "d4e3ac45-b9fb-4d90-e4f2-c0c34833b63c"
      },
      "outputs": [
        {
          "name": "stdout",
          "output_type": "stream",
          "text": [
            "{'Mercedes': 1960}\n"
          ]
        }
      ],
      "source": [
        "## Accessing the items in the dictionary\n",
        "\n",
        "print(car_type['car1'])"
      ]
    },
    {
      "cell_type": "code",
      "execution_count": null,
      "id": "e984b51d",
      "metadata": {
        "id": "e984b51d",
        "outputId": "2c7b187d-f375-4fe1-c37f-ab41ba83c8fa"
      },
      "outputs": [
        {
          "name": "stdout",
          "output_type": "stream",
          "text": [
            "1960\n"
          ]
        }
      ],
      "source": [
        "print(car_type['car1']['Mercedes'])"
      ]
    },
    {
      "cell_type": "markdown",
      "id": "7d621554",
      "metadata": {
        "id": "7d621554"
      },
      "source": [
        "# Tuples"
      ]
    },
    {
      "cell_type": "code",
      "execution_count": null,
      "id": "1d9fc170",
      "metadata": {
        "id": "1d9fc170"
      },
      "outputs": [],
      "source": [
        "## create an empty Tuples\n",
        "\n",
        "my_tuple=tuple()"
      ]
    },
    {
      "cell_type": "code",
      "execution_count": null,
      "id": "186060fb",
      "metadata": {
        "id": "186060fb",
        "outputId": "539d437c-ea82-45f9-aca2-762cbc720fc1"
      },
      "outputs": [
        {
          "data": {
            "text/plain": [
              "tuple"
            ]
          },
          "execution_count": 6,
          "metadata": {},
          "output_type": "execute_result"
        }
      ],
      "source": [
        "type(my_tuple)"
      ]
    },
    {
      "cell_type": "code",
      "execution_count": null,
      "id": "2f854017",
      "metadata": {
        "id": "2f854017"
      },
      "outputs": [],
      "source": [
        "my_tuple=()"
      ]
    },
    {
      "cell_type": "code",
      "execution_count": null,
      "id": "4362c313",
      "metadata": {
        "id": "4362c313",
        "outputId": "639ce96e-9a23-4b47-d0cd-d78b46e85104"
      },
      "outputs": [
        {
          "data": {
            "text/plain": [
              "tuple"
            ]
          },
          "execution_count": 8,
          "metadata": {},
          "output_type": "execute_result"
        }
      ],
      "source": [
        "type(my_tuple)\n"
      ]
    },
    {
      "cell_type": "code",
      "execution_count": null,
      "id": "9c364703",
      "metadata": {
        "id": "9c364703"
      },
      "outputs": [],
      "source": [
        "my_tuple=(\"Ashis\",\"Ankur\",\"John\",\"John\")"
      ]
    },
    {
      "cell_type": "code",
      "execution_count": null,
      "id": "cdd0eba5",
      "metadata": {
        "id": "cdd0eba5"
      },
      "outputs": [],
      "source": [
        "my_tuple=('Hello','World')"
      ]
    },
    {
      "cell_type": "code",
      "execution_count": null,
      "id": "1c0bb225",
      "metadata": {
        "id": "1c0bb225",
        "outputId": "f559889f-4738-4e99-a416-e30f80ad9b38"
      },
      "outputs": [
        {
          "name": "stdout",
          "output_type": "stream",
          "text": [
            "<class 'tuple'>\n",
            "('Hello', 'World')\n"
          ]
        }
      ],
      "source": [
        "print(type(my_tuple))\n",
        "print(my_tuple)"
      ]
    },
    {
      "cell_type": "code",
      "execution_count": null,
      "id": "0f2e0312",
      "metadata": {
        "id": "0f2e0312",
        "outputId": "05e706d9-4756-491e-d343-71146ca5e84f"
      },
      "outputs": [
        {
          "data": {
            "text/plain": [
              "tuple"
            ]
          },
          "execution_count": 12,
          "metadata": {},
          "output_type": "execute_result"
        }
      ],
      "source": [
        "type(my_tuple)"
      ]
    },
    {
      "cell_type": "code",
      "execution_count": null,
      "id": "ab469f96",
      "metadata": {
        "id": "ab469f96",
        "outputId": "26d8f771-7568-4710-b77d-71bd0aa02d1b"
      },
      "outputs": [
        {
          "data": {
            "text/plain": [
              "2"
            ]
          },
          "execution_count": 21,
          "metadata": {},
          "output_type": "execute_result"
        }
      ],
      "source": [
        "## Inbuilt function\n",
        "my_tuple.count('John')"
      ]
    },
    {
      "cell_type": "code",
      "execution_count": null,
      "id": "07eea9cc",
      "metadata": {
        "id": "07eea9cc",
        "outputId": "19b91f05-df8e-4417-fd4b-8301fb3210fa"
      },
      "outputs": [
        {
          "data": {
            "text/plain": [
              "1"
            ]
          },
          "execution_count": 17,
          "metadata": {},
          "output_type": "execute_result"
        }
      ],
      "source": [
        "my_tuple.index('Ankur')"
      ]
    },
    {
      "cell_type": "code",
      "execution_count": null,
      "id": "7ed114f6",
      "metadata": {
        "id": "7ed114f6"
      },
      "outputs": [],
      "source": [
        ""
      ]
    }
  ],
  "metadata": {
    "kernelspec": {
      "display_name": "Python 3 (ipykernel)",
      "language": "python",
      "name": "python3"
    },
    "language_info": {
      "codemirror_mode": {
        "name": "ipython",
        "version": 3
      },
      "file_extension": ".py",
      "mimetype": "text/x-python",
      "name": "python",
      "nbconvert_exporter": "python",
      "pygments_lexer": "ipython3",
      "version": "3.8.12"
    },
    "colab": {
      "name": "DS1-Python Data Types( Dictionary, String, List etc ).ipynb",
      "provenance": [],
      "include_colab_link": true
    },
    "accelerator": "GPU"
  },
  "nbformat": 4,
  "nbformat_minor": 5
}
