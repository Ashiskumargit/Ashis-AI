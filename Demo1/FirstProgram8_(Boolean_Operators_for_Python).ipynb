{
  "cells": [
    {
      "cell_type": "markdown",
      "metadata": {
        "id": "view-in-github",
        "colab_type": "text"
      },
      "source": [
        "<a href=\"https://colab.research.google.com/github/Ashiskumargit/Divine-AI-Data-Science/blob/main/Demo1/FirstProgram8_(Boolean_Operators_for_Python).ipynb\" target=\"_parent\"><img src=\"https://colab.research.google.com/assets/colab-badge.svg\" alt=\"Open In Colab\"/></a>"
      ]
    },
    {
      "cell_type": "markdown",
      "id": "b324c4fa",
      "metadata": {
        "id": "b324c4fa"
      },
      "source": [
        "# Boolean Operators"
      ]
    },
    {
      "cell_type": "markdown",
      "id": "00288998",
      "metadata": {
        "id": "00288998"
      },
      "source": [
        "# and"
      ]
    },
    {
      "cell_type": "code",
      "execution_count": null,
      "id": "9b29e639",
      "metadata": {
        "id": "9b29e639",
        "outputId": "25c70e80-a574-414f-b6ae-c6a26605d460"
      },
      "outputs": [
        {
          "data": {
            "text/plain": [
              "True"
            ]
          },
          "execution_count": 1,
          "metadata": {},
          "output_type": "execute_result"
        }
      ],
      "source": [
        "True and True"
      ]
    },
    {
      "cell_type": "code",
      "execution_count": null,
      "id": "ba0e518a",
      "metadata": {
        "id": "ba0e518a",
        "outputId": "3dda557d-cea8-4db3-d282-dd69d5cd231c"
      },
      "outputs": [
        {
          "data": {
            "text/plain": [
              "False"
            ]
          },
          "execution_count": 2,
          "metadata": {},
          "output_type": "execute_result"
        }
      ],
      "source": [
        "True and False"
      ]
    },
    {
      "cell_type": "code",
      "execution_count": null,
      "id": "0c65bd50",
      "metadata": {
        "id": "0c65bd50",
        "outputId": "84c41dca-e1b5-4adf-b033-b161a6f00dc6"
      },
      "outputs": [
        {
          "data": {
            "text/plain": [
              "False"
            ]
          },
          "execution_count": 3,
          "metadata": {},
          "output_type": "execute_result"
        }
      ],
      "source": [
        "False and True"
      ]
    },
    {
      "cell_type": "code",
      "execution_count": null,
      "id": "92f540ad",
      "metadata": {
        "id": "92f540ad",
        "outputId": "666b78c1-40ee-46fb-b81a-aba3e992a85f"
      },
      "outputs": [
        {
          "data": {
            "text/plain": [
              "False"
            ]
          },
          "execution_count": 4,
          "metadata": {},
          "output_type": "execute_result"
        }
      ],
      "source": [
        "False and False"
      ]
    },
    {
      "cell_type": "code",
      "execution_count": null,
      "id": "26c03b43",
      "metadata": {
        "id": "26c03b43",
        "outputId": "f77ef89f-e592-470c-a9f5-fab8df800fdd"
      },
      "outputs": [
        {
          "data": {
            "text/plain": [
              "True"
            ]
          },
          "execution_count": 5,
          "metadata": {},
          "output_type": "execute_result"
        }
      ],
      "source": [
        "2<3 and 5<6"
      ]
    },
    {
      "cell_type": "code",
      "execution_count": null,
      "id": "faf5d886",
      "metadata": {
        "id": "faf5d886",
        "outputId": "d8ef752f-f7ae-4ce4-a30a-713ac858e3e9"
      },
      "outputs": [
        {
          "data": {
            "text/plain": [
              "False"
            ]
          },
          "execution_count": 6,
          "metadata": {},
          "output_type": "execute_result"
        }
      ],
      "source": [
        "2<3 and 5>6"
      ]
    },
    {
      "cell_type": "code",
      "execution_count": null,
      "id": "001dcc9c",
      "metadata": {
        "id": "001dcc9c",
        "outputId": "a863f1f1-45b2-433c-c519-7b264437e64e"
      },
      "outputs": [
        {
          "data": {
            "text/plain": [
              "False"
            ]
          },
          "execution_count": 7,
          "metadata": {},
          "output_type": "execute_result"
        }
      ],
      "source": [
        "2>3 and  5<6"
      ]
    },
    {
      "cell_type": "code",
      "execution_count": null,
      "id": "c4ef41e8",
      "metadata": {
        "id": "c4ef41e8",
        "outputId": "9c07b561-4f28-4ce4-fb43-001a150e7418"
      },
      "outputs": [
        {
          "data": {
            "text/plain": [
              "False"
            ]
          },
          "execution_count": 8,
          "metadata": {},
          "output_type": "execute_result"
        }
      ],
      "source": [
        "2>3 and  5>6"
      ]
    },
    {
      "cell_type": "markdown",
      "id": "67ce2de8",
      "metadata": {
        "id": "67ce2de8"
      },
      "source": [
        "# or"
      ]
    },
    {
      "cell_type": "code",
      "execution_count": null,
      "id": "eb2e11fb",
      "metadata": {
        "id": "eb2e11fb",
        "outputId": "046da088-70f0-43b7-94ec-1057163818c8"
      },
      "outputs": [
        {
          "data": {
            "text/plain": [
              "True"
            ]
          },
          "execution_count": 9,
          "metadata": {},
          "output_type": "execute_result"
        }
      ],
      "source": [
        "True or True"
      ]
    },
    {
      "cell_type": "code",
      "execution_count": null,
      "id": "79e60822",
      "metadata": {
        "id": "79e60822",
        "outputId": "6cbdcbc2-fdc8-4911-b1f5-c5f70c00def1"
      },
      "outputs": [
        {
          "data": {
            "text/plain": [
              "True"
            ]
          },
          "execution_count": 10,
          "metadata": {},
          "output_type": "execute_result"
        }
      ],
      "source": [
        "True or False"
      ]
    },
    {
      "cell_type": "code",
      "execution_count": null,
      "id": "0dad1a72",
      "metadata": {
        "id": "0dad1a72",
        "outputId": "6da6be74-d917-4439-b152-d28b86340ade"
      },
      "outputs": [
        {
          "data": {
            "text/plain": [
              "True"
            ]
          },
          "execution_count": 11,
          "metadata": {},
          "output_type": "execute_result"
        }
      ],
      "source": [
        "False or True"
      ]
    },
    {
      "cell_type": "code",
      "execution_count": null,
      "id": "1e2b3547",
      "metadata": {
        "id": "1e2b3547",
        "outputId": "be68e008-a51a-43dd-b3da-b84fd893812c"
      },
      "outputs": [
        {
          "data": {
            "text/plain": [
              "False"
            ]
          },
          "execution_count": 12,
          "metadata": {},
          "output_type": "execute_result"
        }
      ],
      "source": [
        "False or False"
      ]
    },
    {
      "cell_type": "markdown",
      "id": "16150f9d",
      "metadata": {
        "id": "16150f9d"
      },
      "source": [
        "# not"
      ]
    },
    {
      "cell_type": "code",
      "execution_count": null,
      "id": "8433f554",
      "metadata": {
        "id": "8433f554",
        "outputId": "62ae4c4f-ba36-4c80-de1c-fc53452da326"
      },
      "outputs": [
        {
          "data": {
            "text/plain": [
              "False"
            ]
          },
          "execution_count": 13,
          "metadata": {},
          "output_type": "execute_result"
        }
      ],
      "source": [
        "not(2<3)"
      ]
    },
    {
      "cell_type": "code",
      "execution_count": null,
      "id": "91985072",
      "metadata": {
        "id": "91985072",
        "outputId": "5cc62cfc-07c6-49fa-80e5-4f9448233bf2"
      },
      "outputs": [
        {
          "data": {
            "text/plain": [
              "False"
            ]
          },
          "execution_count": 14,
          "metadata": {},
          "output_type": "execute_result"
        }
      ],
      "source": [
        "not(True)"
      ]
    },
    {
      "cell_type": "code",
      "execution_count": null,
      "id": "cf2333f9",
      "metadata": {
        "id": "cf2333f9",
        "outputId": "1b173005-baad-4e77-f444-6f5316c91ea9"
      },
      "outputs": [
        {
          "data": {
            "text/plain": [
              "True"
            ]
          },
          "execution_count": 15,
          "metadata": {},
          "output_type": "execute_result"
        }
      ],
      "source": [
        "not(False)"
      ]
    },
    {
      "cell_type": "code",
      "execution_count": 1,
      "id": "20228c94",
      "metadata": {
        "colab": {
          "base_uri": "https://localhost:8080/"
        },
        "id": "20228c94",
        "outputId": "c8c4e1c5-4b17-4886-f680-659a5b842a04"
      },
      "outputs": [
        {
          "output_type": "execute_result",
          "data": {
            "text/plain": [
              "True"
            ]
          },
          "metadata": {},
          "execution_count": 1
        }
      ],
      "source": [
        "not(4==5 and 5>6)"
      ]
    },
    {
      "cell_type": "code",
      "source": [
        ""
      ],
      "metadata": {
        "id": "ZoQXNiz-jvMC"
      },
      "id": "ZoQXNiz-jvMC",
      "execution_count": 1,
      "outputs": []
    },
    {
      "cell_type": "code",
      "source": [
        ""
      ],
      "metadata": {
        "id": "gnFm2GPWkCSQ"
      },
      "id": "gnFm2GPWkCSQ",
      "execution_count": null,
      "outputs": []
    }
  ],
  "metadata": {
    "kernelspec": {
      "display_name": "Python 3 (ipykernel)",
      "language": "python",
      "name": "python3"
    },
    "language_info": {
      "codemirror_mode": {
        "name": "ipython",
        "version": 3
      },
      "file_extension": ".py",
      "mimetype": "text/x-python",
      "name": "python",
      "nbconvert_exporter": "python",
      "pygments_lexer": "ipython3",
      "version": "3.8.12"
    },
    "colab": {
      "name": "FirstProgram8 (Boolean Operators for Python).ipynb",
      "provenance": [],
      "include_colab_link": true
    },
    "accelerator": "GPU"
  },
  "nbformat": 4,
  "nbformat_minor": 5
}