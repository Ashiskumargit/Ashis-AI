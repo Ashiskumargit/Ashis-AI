{
  "cells": [
    {
      "cell_type": "markdown",
      "metadata": {
        "id": "view-in-github",
        "colab_type": "text"
      },
      "source": [
        "<a href=\"https://colab.research.google.com/github/Ashiskumargit/Divine-AI-Data-Science/blob/main/Demo1/python_for_beginner_4.ipynb\" target=\"_parent\"><img src=\"https://colab.research.google.com/assets/colab-badge.svg\" alt=\"Open In Colab\"/></a>"
      ]
    },
    {
      "cell_type": "markdown",
      "id": "58b52ec0",
      "metadata": {
        "id": "58b52ec0"
      },
      "source": [
        "# 4.  Functions"
      ]
    },
    {
      "cell_type": "markdown",
      "id": "fcf2e40d",
      "metadata": {
        "id": "fcf2e40d"
      },
      "source": [
        "## 1. Defining Functions"
      ]
    },
    {
      "cell_type": "code",
      "execution_count": null,
      "id": "270291d7",
      "metadata": {
        "id": "270291d7",
        "outputId": "7d58981f-8111-4f48-ee47-ef13b4fc9ebd"
      },
      "outputs": [
        {
          "name": "stdout",
          "output_type": "stream",
          "text": [
            "hi everyone\n",
            "welcome to divineAI\n",
            "hii sir\n"
          ]
        }
      ],
      "source": [
        "# Defining your own custom funtion.\n",
        "# we are creating our own custom fuction because in real time program the code will too lengthy so we have to break that code smaller part and maintainable.\n",
        "def greet():  #def means define, when we creat a function..used it\n",
        "    print(\"hi everyone\")\n",
        "    print(\"welcome to divineAI\")\n",
        "    print(\"hii sir\")\n",
        "greet()"
      ]
    },
    {
      "cell_type": "code",
      "execution_count": null,
      "id": "d501a021",
      "metadata": {
        "id": "d501a021",
        "outputId": "6bbd1ee5-d022-4a09-a671-2e334f03bb7d"
      },
      "outputs": [
        {
          "name": "stdout",
          "output_type": "stream",
          "text": [
            "hi\n",
            "my name is sabyasachi mohanty\n",
            "and am working in divineAi\n"
          ]
        }
      ],
      "source": [
        "def name():\n",
        "    print(\"hi\")\n",
        "    print(\"my name is sabyasachi mohanty\")\n",
        "    print(\"and am working in divineAi\")\n",
        "name()"
      ]
    },
    {
      "cell_type": "markdown",
      "id": "f8c75564",
      "metadata": {
        "id": "f8c75564"
      },
      "source": [
        "## 2. Argument"
      ]
    },
    {
      "cell_type": "code",
      "execution_count": null,
      "id": "f464b8cb",
      "metadata": {
        "id": "f464b8cb",
        "outputId": "20dd9a5e-8263-4452-deba-e523ccd62165"
      },
      "outputs": [
        {
          "name": "stdout",
          "output_type": "stream",
          "text": [
            " plz enter first name : ashis\n",
            "plz enter middle name : kumar\n",
            "plz enter last name : de\n",
            "hi ashis kumar de\n",
            "hi ashis kumar de\n",
            "welcome to divineAi\n",
            "hi xxyyzz xyz mhbjhfb\n",
            "hi xxyyzz xyz mhbjhfb\n",
            "welcome to divineAi\n",
            "hi rakesh das jhvfrb\n",
            "hi rakesh das jhvfrb\n",
            "welcome to divineAi\n"
          ]
        }
      ],
      "source": [
        "def greet(first_name, middle_name,last_name): #here first_name and last_name are two parameter.\n",
        "    print(F\"hi {first_name} {middle_name} {last_name}\")# we are giving parameter is the input to define your function.\n",
        "    print(\"hi\",first_name,middle_name,last_name)\n",
        "    print(\"welcome to divineAi\")\n",
        "x = input(\" plz enter first name : \")\n",
        "y = input(\"plz enter middle name : \")\n",
        "z = input(\"plz enter last name : \")\n",
        "greet(x,y,z) #'sabyasachi' and 'mohanty' are two argument.\n",
        "greet('xxyyzz','xyz','mhbjhfb')# argument is define as the actual value of the given parameter.\n",
        "greet('rakesh','das','jhvfrb')"
      ]
    },
    {
      "cell_type": "markdown",
      "id": "76594a6b",
      "metadata": {
        "id": "76594a6b"
      },
      "source": [
        "## 3. Types of Functions"
      ]
    },
    {
      "cell_type": "code",
      "execution_count": null,
      "id": "be42be22",
      "metadata": {
        "id": "be42be22",
        "outputId": "639e0ae5-6595-4cda-e579-5fd97c6f8a2a"
      },
      "outputs": [
        {
          "name": "stdout",
          "output_type": "stream",
          "text": [
            "Hi ram\n",
            "divineai\n",
            "5\n",
            "5.3\n"
          ]
        }
      ],
      "source": [
        "#We have two types of functions\n",
        "# 1- perform a task\n",
        "# 2- calculate and Return a value\n",
        " \n",
        "def greet(name):\n",
        "    print(f\"Hi {name}\") # here gret and print function printing someting in the terminal or output.here they are doing some task.  \n",
        "greet('ram')    \n",
        "    \n",
        "x = 'divineai'\n",
        "print(x)\n",
        "    \n",
        "print(round(5.3)) # here round function calculate something and return some vlaues.\n",
        "print(5.3)\n",
        " "
      ]
    },
    {
      "cell_type": "code",
      "execution_count": null,
      "id": "3409e710",
      "metadata": {
        "id": "3409e710",
        "outputId": "b0206b3c-f5f3-4027-e541-ae390512410b"
      },
      "outputs": [
        {
          "data": {
            "text/plain": [
              "'sabyasachi'"
            ]
          },
          "execution_count": 8,
          "metadata": {},
          "output_type": "execute_result"
        }
      ],
      "source": [
        "x = 'sabyasachi'   #mark quotation and use print() , their no quotation\n",
        "x"
      ]
    },
    {
      "cell_type": "code",
      "execution_count": null,
      "id": "becacbed",
      "metadata": {
        "id": "becacbed",
        "outputId": "485f73f6-47fd-4224-9692-7466f8cc846b"
      },
      "outputs": [
        {
          "data": {
            "text/plain": [
              "'hi sabyasachi'"
            ]
          },
          "execution_count": 9,
          "metadata": {},
          "output_type": "execute_result"
        }
      ],
      "source": [
        "def get_greeting(name):\n",
        "    return f\"hi {name}\" # we are using return statement to return value of the function.\n",
        "\n",
        "get_greeting('sabyasachi')\n",
        "\n"
      ]
    },
    {
      "cell_type": "markdown",
      "id": "b7bdb283",
      "metadata": {
        "id": "b7bdb283"
      },
      "source": [
        "## 4. Keyword Argument "
      ]
    },
    {
      "cell_type": "code",
      "execution_count": null,
      "id": "48821209",
      "metadata": {
        "id": "48821209",
        "outputId": "8642568b-f66a-4d23-f977-9afb600a26e6"
      },
      "outputs": [
        {
          "data": {
            "text/plain": [
              "10"
            ]
          },
          "execution_count": 10,
          "metadata": {},
          "output_type": "execute_result"
        }
      ],
      "source": [
        " def increment(number, by):\n",
        "        return number + by\n",
        "    \n",
        "increment(7,3)"
      ]
    },
    {
      "cell_type": "code",
      "execution_count": null,
      "id": "1ca71799",
      "metadata": {
        "id": "1ca71799",
        "outputId": "1fa175e6-e8d9-4dab-e52c-88205f71b96a"
      },
      "outputs": [
        {
          "data": {
            "text/plain": [
              "13"
            ]
          },
          "execution_count": 17,
          "metadata": {},
          "output_type": "execute_result"
        }
      ],
      "source": [
        "def increment(number,by):\n",
        "        return number + by\n",
        "    \n",
        "increment(6, by=7)# here by=1 is the keyword. We are using keywords to keep our program more readble.\n",
        "\n"
      ]
    },
    {
      "cell_type": "markdown",
      "id": "3aeb4f5a",
      "metadata": {
        "id": "3aeb4f5a"
      },
      "source": [
        "## 5. Default Arguments"
      ]
    },
    {
      "cell_type": "code",
      "execution_count": null,
      "id": "d707062e",
      "metadata": {
        "id": "d707062e",
        "outputId": "fd6da998-fa10-4a31-e175-95ab05fe4f6f"
      },
      "outputs": [
        {
          "data": {
            "text/plain": [
              "206"
            ]
          },
          "execution_count": 18,
          "metadata": {},
          "output_type": "execute_result"
        }
      ],
      "source": [
        "def increment(number, by=6): # here we are using by=1 is a default vlaue.\n",
        "        return number + by\n",
        "    \n",
        "increment(200)"
      ]
    },
    {
      "cell_type": "code",
      "execution_count": null,
      "id": "e5d7974b",
      "metadata": {
        "id": "e5d7974b",
        "outputId": "b190efd8-b98d-42d7-d403-9b290092e607"
      },
      "outputs": [
        {
          "data": {
            "text/plain": [
              "8"
            ]
          },
          "execution_count": 20,
          "metadata": {},
          "output_type": "execute_result"
        }
      ],
      "source": [
        "def increment(number, by=2): \n",
        "    return number + by\n",
        "    \n",
        "increment(4,4) # here by=2  behaves like optional parameter. \n"
      ]
    },
    {
      "cell_type": "code",
      "execution_count": null,
      "id": "32a4e678",
      "metadata": {
        "id": "32a4e678",
        "outputId": "66066180-db38-41b8-c220-b91732c4948d"
      },
      "outputs": [
        {
          "data": {
            "text/plain": [
              "'djjvajg'"
            ]
          },
          "execution_count": 21,
          "metadata": {},
          "output_type": "execute_result"
        }
      ],
      "source": [
        "float = 'djjvajg'\n",
        "float"
      ]
    },
    {
      "cell_type": "code",
      "execution_count": null,
      "id": "4a508b6f",
      "metadata": {
        "id": "4a508b6f",
        "outputId": "c49094cf-845b-4a82-9780-7c96f8658f61"
      },
      "outputs": [
        {
          "ename": "SyntaxError",
          "evalue": "invalid syntax (Temp/ipykernel_4028/87806298.py, line 1)",
          "output_type": "error",
          "traceback": [
            "\u001b[1;36m  File \u001b[1;32m\"C:\\Users\\BHAGAT\\AppData\\Local\\Temp/ipykernel_4028/87806298.py\"\u001b[1;36m, line \u001b[1;32m1\u001b[0m\n\u001b[1;33m    del = 'xyz'\u001b[0m\n\u001b[1;37m        ^\u001b[0m\n\u001b[1;31mSyntaxError\u001b[0m\u001b[1;31m:\u001b[0m invalid syntax\n"
          ]
        }
      ],
      "source": [
        "del = 'xyz'\n",
        "del"
      ]
    },
    {
      "cell_type": "code",
      "execution_count": null,
      "id": "e0eba0ec",
      "metadata": {
        "id": "e0eba0ec"
      },
      "outputs": [],
      "source": [
        ""
      ]
    }
  ],
  "metadata": {
    "kernelspec": {
      "display_name": "Python 3 (ipykernel)",
      "language": "python",
      "name": "python3"
    },
    "language_info": {
      "codemirror_mode": {
        "name": "ipython",
        "version": 3
      },
      "file_extension": ".py",
      "mimetype": "text/x-python",
      "name": "python",
      "nbconvert_exporter": "python",
      "pygments_lexer": "ipython3",
      "version": "3.8.12"
    },
    "colab": {
      "name": "python for beginner 4.ipynb",
      "provenance": [],
      "include_colab_link": true
    }
  },
  "nbformat": 4,
  "nbformat_minor": 5
}