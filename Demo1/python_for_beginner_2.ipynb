{
  "cells": [
    {
      "cell_type": "markdown",
      "metadata": {
        "id": "view-in-github",
        "colab_type": "text"
      },
      "source": [
        "<a href=\"https://colab.research.google.com/github/Ashiskumargit/Divine-AI-Data-Science/blob/main/Demo1/python_for_beginner_2.ipynb\" target=\"_parent\"><img src=\"https://colab.research.google.com/assets/colab-badge.svg\" alt=\"Open In Colab\"/></a>"
      ]
    },
    {
      "cell_type": "markdown",
      "id": "908acf28",
      "metadata": {
        "id": "908acf28"
      },
      "source": [
        "# 2.Primitive Data Types\n"
      ]
    },
    {
      "cell_type": "markdown",
      "id": "6b25ef71",
      "metadata": {
        "id": "6b25ef71"
      },
      "source": [
        "## 1. Variables"
      ]
    },
    {
      "cell_type": "code",
      "execution_count": null,
      "id": "01cccce3",
      "metadata": {
        "id": "01cccce3"
      },
      "outputs": [],
      "source": [
        "# primitive data types can be number,boolean and string values\n",
        "\n",
        "student_count = 1000 #python interpreter allocate a memory and store this number 1000 in that memory space. we can use this variable anywhere in our python program to access that vlaues(1000)\n",
        "print(student_count)"
      ]
    },
    {
      "cell_type": "code",
      "execution_count": null,
      "id": "24edb7fa",
      "metadata": {
        "id": "24edb7fa"
      },
      "outputs": [],
      "source": [
        "sabyasachi = 100\n",
        "print(sabyasachi)"
      ]
    },
    {
      "cell_type": "code",
      "execution_count": null,
      "id": "1753088f",
      "metadata": {
        "id": "1753088f"
      },
      "outputs": [],
      "source": [
        "c = 0.5\n",
        "type(c)"
      ]
    },
    {
      "cell_type": "code",
      "execution_count": null,
      "id": "5a14c7a7",
      "metadata": {
        "id": "5a14c7a7"
      },
      "outputs": [],
      "source": [
        "rating = True\n",
        "type(rating)\n",
        "# variable rating , we store a value of boolean value"
      ]
    },
    {
      "cell_type": "code",
      "execution_count": null,
      "id": "6ce766d9",
      "metadata": {
        "id": "6ce766d9"
      },
      "outputs": [],
      "source": [
        " a = 1\n",
        "print(a)"
      ]
    },
    {
      "cell_type": "code",
      "execution_count": null,
      "id": "dd9f50c7",
      "metadata": {
        "id": "dd9f50c7"
      },
      "outputs": [],
      "source": [
        "my_name_is_sabyasachi7 = False  #python is a case sensitive language\n",
        "type(my_name_is_sabyasachi7)\n",
        "#my_name_is_sabyasachi7"
      ]
    },
    {
      "cell_type": "markdown",
      "id": "41658991",
      "metadata": {
        "id": "41658991"
      },
      "source": [
        "## 2.Variables Names"
      ]
    },
    {
      "cell_type": "code",
      "execution_count": null,
      "id": "e28b70b2",
      "metadata": {
        "id": "e28b70b2"
      },
      "outputs": [],
      "source": [
        "# Variables name should be descriptive and meaningful.\n",
        "sc = 1000 #it is not a good practice beacuse we could not understood what is sc.\n",
        "# Variables name should be in lower case and if there is some space then use underscore.\n"
      ]
    },
    {
      "cell_type": "code",
      "execution_count": null,
      "id": "0ce09364",
      "metadata": {
        "id": "0ce09364"
      },
      "outputs": [],
      "source": [
        "sabyasachi_count = 1000"
      ]
    },
    {
      "cell_type": "markdown",
      "id": "360a850e",
      "metadata": {
        "id": "360a850e"
      },
      "source": [
        "## 3.Strings"
      ]
    },
    {
      "cell_type": "code",
      "execution_count": null,
      "id": "76043326",
      "metadata": {
        "id": "76043326"
      },
      "outputs": [],
      "source": [
        "#course = 'python for beginner\" #String must be in single quotes or double quotes.\n",
        "message = ''' Hi everyone . \n",
        "I am sabyasachi from divineAI.\n",
        "Am your python instructer. ''' #Sometimes we use triple quotes beacuse we want to include in the body of an email.\n",
        "#print(course)\n",
        "print(message)"
      ]
    },
    {
      "cell_type": "code",
      "execution_count": null,
      "id": "78073b04",
      "metadata": {
        "id": "78073b04"
      },
      "outputs": [],
      "source": [
        "print(''' Hi everyone . \n",
        "I am sabyasachi from divineAI.\n",
        "Am your python instructer. ''')"
      ]
    },
    {
      "cell_type": "code",
      "execution_count": null,
      "id": "2438bb04",
      "metadata": {
        "id": "2438bb04"
      },
      "outputs": [],
      "source": [
        "int = '9'\n",
        "type(int)"
      ]
    },
    {
      "cell_type": "code",
      "execution_count": null,
      "id": "6b95d821",
      "metadata": {
        "id": "6b95d821"
      },
      "outputs": [],
      "source": [
        "x = 'xyz zxy'\n",
        "len(x)"
      ]
    },
    {
      "cell_type": "markdown",
      "id": "8ce3ee7d",
      "metadata": {
        "id": "8ce3ee7d"
      },
      "source": [
        "##### Function is a basically reusable piece of code that carries out a task.\n",
        " "
      ]
    },
    {
      "cell_type": "code",
      "execution_count": null,
      "id": "e6e06e97",
      "metadata": {
        "id": "e6e06e97"
      },
      "outputs": [],
      "source": [
        "len('h')  #Here len()is built in function which means we use this for finding a length of string\n",
        "       # Here we are using () that means we are calling that builtin function which basically means we using that function.\n",
        "       "
      ]
    },
    {
      "cell_type": "code",
      "execution_count": null,
      "id": "6bb3396e",
      "metadata": {
        "scrolled": true,
        "id": "6bb3396e"
      },
      "outputs": [],
      "source": [
        "course = 'python for all'\n",
        "print(len(course)) #Sometimes we are passing some values in that () and this is called argument.\n",
        "print(course[0])   #It is showing the 0th index of the course variable.\n",
        "print(course[-1])  #it's shows the last letter of the course variable.\n",
        "print(course[0:3]) #it's shows from 0th index to 2nd index.\n",
        "print(course[:3])  #it's shows from 0th index to 2nd index.\n",
        "print(course[0:])  #it's shows from 0th index to onwards.\n",
        "print(course[:])   #it's shows all the above variable course."
      ]
    },
    {
      "cell_type": "code",
      "execution_count": null,
      "id": "eea90de3",
      "metadata": {
        "id": "eea90de3"
      },
      "outputs": [],
      "source": [
        "print(course[-3:-11:-2])"
      ]
    },
    {
      "cell_type": "code",
      "execution_count": null,
      "id": "3b1aecb7",
      "metadata": {
        "id": "3b1aecb7"
      },
      "outputs": [],
      "source": [
        "x = 'ABCXYZ'\n",
        "print(x[-1:-5:-1])\n",
        "print(x[5:1:-1])"
      ]
    },
    {
      "cell_type": "code",
      "execution_count": null,
      "id": "7f4197e7",
      "metadata": {
        "id": "7f4197e7"
      },
      "outputs": [],
      "source": [
        "course = 'python for all'\n",
        "print(course[4:0:-1])"
      ]
    },
    {
      "cell_type": "code",
      "execution_count": null,
      "id": "ff9490b1",
      "metadata": {
        "id": "ff9490b1"
      },
      "outputs": [],
      "source": [
        "course_2 = \"python for\"\n",
        "print(course_2[-7::-1])"
      ]
    },
    {
      "cell_type": "code",
      "execution_count": null,
      "id": "2c2fd750",
      "metadata": {
        "id": "2c2fd750"
      },
      "outputs": [],
      "source": [
        "name = 'sabyasachi'\n",
        "print(name[-1:-7:-3])\n"
      ]
    },
    {
      "cell_type": "code",
      "execution_count": null,
      "id": "5655dd96",
      "metadata": {
        "id": "5655dd96"
      },
      "outputs": [],
      "source": [
        "s = 'sabsacsah'\n",
        "print(s[-1::-1])"
      ]
    },
    {
      "cell_type": "markdown",
      "id": "f5fd686f",
      "metadata": {
        "id": "f5fd686f"
      },
      "source": [
        "## 4.Escape Sequence"
      ]
    },
    {
      "cell_type": "code",
      "execution_count": null,
      "id": "417070dc",
      "metadata": {
        "id": "417070dc"
      },
      "outputs": [],
      "source": [
        "course = \"python for \\\"beginner\"\n",
        "print(course)"
      ]
    },
    {
      "cell_type": "code",
      "execution_count": null,
      "id": "412a2c42",
      "metadata": {
        "id": "412a2c42"
      },
      "outputs": [],
      "source": [
        "course = \"python \\\"for \\\" begi\\\"nner\"      # back slash is an escape character \n",
        "print(course)"
      ]
    },
    {
      "cell_type": "code",
      "execution_count": null,
      "id": "c12fabdb",
      "metadata": {
        "id": "c12fabdb"
      },
      "outputs": [],
      "source": [
        "course = \"python for \\beginner\"\n",
        "print(course)"
      ]
    },
    {
      "cell_type": "code",
      "execution_count": null,
      "id": "e1ccf102",
      "metadata": {
        "id": "e1ccf102"
      },
      "outputs": [],
      "source": [
        "course = \"python \\for beginner\"\n",
        "print(course)"
      ]
    },
    {
      "cell_type": "code",
      "execution_count": null,
      "id": "7963978e",
      "metadata": {
        "id": "7963978e"
      },
      "outputs": [],
      "source": [
        "course = \"python\\tfor beginner\"\n",
        "print(course)"
      ]
    },
    {
      "cell_type": "code",
      "execution_count": null,
      "id": "5ba9b2fb",
      "metadata": {
        "id": "5ba9b2fb"
      },
      "outputs": [],
      "source": [
        "course = \"python \\n for beginner\"\n",
        "print(course)"
      ]
    },
    {
      "cell_type": "markdown",
      "id": "0cee844d",
      "metadata": {
        "id": "0cee844d"
      },
      "source": [
        "## 5.Formatted Strings"
      ]
    },
    {
      "cell_type": "code",
      "execution_count": null,
      "id": "e69d628c",
      "metadata": {
        "id": "e69d628c"
      },
      "outputs": [],
      "source": [
        "first = \"sabyasachi\"\n",
        "second = \"mohanty\"\n",
        "full = first +\" \"+ second\n",
        "print(full)"
      ]
    },
    {
      "cell_type": "code",
      "execution_count": null,
      "id": "e1d3b422",
      "metadata": {
        "id": "e1d3b422"
      },
      "outputs": [],
      "source": [
        "first = \"sabyasachi\"\n",
        "second = \"mohanty\"\n",
        "full = f\"{(first)} {(second)} \"\n",
        "print(full)"
      ]
    },
    {
      "cell_type": "code",
      "execution_count": null,
      "id": "e8e961b7",
      "metadata": {
        "scrolled": true,
        "id": "e8e961b7"
      },
      "outputs": [],
      "source": [
        "first = \"sabyasachi\"\n",
        "second = \"mohanty\"\n",
        "print(f\"{(first)} {(second)}\")\n",
        "#print(full)"
      ]
    },
    {
      "cell_type": "code",
      "execution_count": null,
      "id": "fdfe88f2",
      "metadata": {
        "scrolled": true,
        "id": "fdfe88f2"
      },
      "outputs": [],
      "source": [
        "first = \"sabyasachi\"\n",
        "second = \"mohanty\"\n",
        "print(f\"{len(first)} {len(second)}\")"
      ]
    },
    {
      "cell_type": "markdown",
      "id": "87644b1a",
      "metadata": {
        "id": "87644b1a"
      },
      "source": [
        "## 6.String Method"
      ]
    },
    {
      "cell_type": "code",
      "execution_count": null,
      "id": "c9123ab5",
      "metadata": {
        "id": "c9123ab5"
      },
      "outputs": [],
      "source": [
        "name = \"sabyasachi mohantydas\""
      ]
    },
    {
      "cell_type": "code",
      "execution_count": null,
      "id": "9b32f2c3",
      "metadata": {
        "id": "9b32f2c3"
      },
      "outputs": [],
      "source": [
        "print(name.upper())"
      ]
    },
    {
      "cell_type": "code",
      "execution_count": null,
      "id": "08aea76f",
      "metadata": {
        "id": "08aea76f"
      },
      "outputs": [],
      "source": [
        "x = \"SBYASACHI MOHANTY\"\n",
        "print(x.lower())"
      ]
    },
    {
      "cell_type": "code",
      "execution_count": null,
      "id": "0510e686",
      "metadata": {
        "id": "0510e686"
      },
      "outputs": [],
      "source": [
        "print(name.title())"
      ]
    },
    {
      "cell_type": "code",
      "execution_count": null,
      "id": "8647d4d1",
      "metadata": {
        "id": "8647d4d1"
      },
      "outputs": [],
      "source": [
        "print(name.find(\"o\"))\n"
      ]
    },
    {
      "cell_type": "code",
      "execution_count": null,
      "id": "e3637c29",
      "metadata": {
        "id": "e3637c29"
      },
      "outputs": [],
      "source": [
        "print(name.find(\"han\"))"
      ]
    },
    {
      "cell_type": "code",
      "execution_count": null,
      "id": "e54f407d",
      "metadata": {
        "id": "e54f407d"
      },
      "outputs": [],
      "source": [
        "print(name.replace(\"mohantydas\",\"chandan\"))"
      ]
    },
    {
      "cell_type": "code",
      "execution_count": null,
      "id": "1dcd5d19",
      "metadata": {
        "id": "1dcd5d19"
      },
      "outputs": [],
      "source": [
        "print(\"moH\" in name)"
      ]
    },
    {
      "cell_type": "code",
      "execution_count": null,
      "id": "15412d0b",
      "metadata": {
        "id": "15412d0b"
      },
      "outputs": [],
      "source": [
        "print(\"mohanty\" not in name)"
      ]
    },
    {
      "cell_type": "markdown",
      "id": "9db68f07",
      "metadata": {
        "id": "9db68f07"
      },
      "source": [
        "## 7.Numbers\n"
      ]
    },
    {
      "cell_type": "code",
      "execution_count": null,
      "id": "ba8ead12",
      "metadata": {
        "id": "ba8ead12"
      },
      "outputs": [],
      "source": [
        "# We have 3 types of numbers. i.e integer, float and complex number\n",
        "x = 1    # integer\n",
        "x = 1.1  #Float\n",
        "x = a+bj #complex number(here j is a imaginary number)"
      ]
    },
    {
      "cell_type": "code",
      "execution_count": null,
      "id": "3249908a",
      "metadata": {
        "id": "3249908a"
      },
      "outputs": [],
      "source": [
        "# some arithmatic operation in python\n",
        "print(10+3)\n",
        "print(10-3)\n",
        "print(10*3)\n",
        "print(10/3)\n",
        "print(10//3)\n",
        "print(10%3)\n",
        "print(10**3)\n",
        "\n"
      ]
    },
    {
      "cell_type": "code",
      "execution_count": null,
      "id": "0b525972",
      "metadata": {
        "id": "0b525972"
      },
      "outputs": [],
      "source": [
        "#Argumented assignment operator\n",
        "\n",
        "x = 10\n",
        "#x = 10 - 3\n",
        "x *=3 #Argumented assignment operator\n",
        "x\n",
        "           "
      ]
    },
    {
      "cell_type": "markdown",
      "id": "bcfba1bb",
      "metadata": {
        "id": "bcfba1bb"
      },
      "source": [
        "## 8.Working with Numbers"
      ]
    },
    {
      "cell_type": "code",
      "execution_count": null,
      "id": "8306b9c4",
      "metadata": {
        "id": "8306b9c4"
      },
      "outputs": [],
      "source": [
        "\n",
        "print(abs(-6.8)) # abs means absolute value of the number     # |-10|=10      # absolute value= | |"
      ]
    },
    {
      "cell_type": "code",
      "execution_count": null,
      "id": "0638afbf",
      "metadata": {
        "id": "0638afbf"
      },
      "outputs": [],
      "source": [
        "print(round(6.1))    # round() = nearest no.   # ceil()= rounds up   # floor()=rounds down"
      ]
    },
    {
      "cell_type": "code",
      "execution_count": null,
      "id": "1a325561",
      "metadata": {
        "scrolled": true,
        "id": "1a325561"
      },
      "outputs": [],
      "source": [
        "# Math Module is like separate file with some python code which includes lots of mathematical function.\n",
        "\n",
        "import math as m\n",
        "\n",
        "print(m.ceil(2.1)) #Return the ceiling of x, the smallest integer greater than or equal to x."
      ]
    },
    {
      "cell_type": "code",
      "execution_count": null,
      "id": "ff5ee2c7",
      "metadata": {
        "id": "ff5ee2c7"
      },
      "outputs": [],
      "source": [
        "import pandas as p\n",
        "p.read"
      ]
    },
    {
      "cell_type": "code",
      "execution_count": null,
      "id": "55a81e74",
      "metadata": {
        "id": "55a81e74"
      },
      "outputs": [],
      "source": [
        "range(5)"
      ]
    },
    {
      "cell_type": "code",
      "execution_count": null,
      "id": "adb751f4",
      "metadata": {
        "id": "adb751f4"
      },
      "outputs": [],
      "source": [
        "for i in range(10):\n",
        "    print(i)"
      ]
    },
    {
      "cell_type": "code",
      "execution_count": null,
      "id": "27d7d897",
      "metadata": {
        "id": "27d7d897"
      },
      "outputs": [],
      "source": [
        "\n",
        "total = 0\n",
        "for i in range(10):\n",
        "    total += i\n",
        "    print(i, end=' ')\n",
        "#print('sum = {}'.format(total))\n",
        "\n",
        "\n",
        "\n",
        "\n"
      ]
    },
    {
      "cell_type": "code",
      "execution_count": null,
      "id": "7a3c5ab6",
      "metadata": {
        "id": "7a3c5ab6"
      },
      "outputs": [],
      "source": [
        "print(m.factorial(4))   #4!=4*3*2*1=24\n"
      ]
    },
    {
      "cell_type": "markdown",
      "id": "ae312db8",
      "metadata": {
        "id": "ae312db8"
      },
      "source": [
        "## 9. Type Conversion"
      ]
    },
    {
      "cell_type": "code",
      "execution_count": null,
      "id": "5ebb4f36",
      "metadata": {
        "scrolled": false,
        "id": "5ebb4f36",
        "outputId": "5683b309-38be-48eb-8c32-80bbf3d6dc02"
      },
      "outputs": [
        {
          "name": "stdout",
          "output_type": "stream",
          "text": [
            "x: 6\n",
            "63\n"
          ]
        }
      ],
      "source": [
        "x = input(\"x: \")\n",
        "y = x + \"3\"\n",
        "print(y)"
      ]
    },
    {
      "cell_type": "code",
      "execution_count": null,
      "id": "9d518166",
      "metadata": {
        "id": "9d518166",
        "outputId": "852dfd9d-a14b-40ae-ce8e-dd9ea6f36eea"
      },
      "outputs": [
        {
          "name": "stdout",
          "output_type": "stream",
          "text": [
            "please enter a value: 6\n",
            "7\n"
          ]
        }
      ],
      "source": [
        "x = int(input('please enter a value: '))\n",
        "y = x + 1\n",
        "print(y)"
      ]
    },
    {
      "cell_type": "code",
      "execution_count": null,
      "id": "ad9242d4",
      "metadata": {
        "id": "ad9242d4",
        "outputId": "7e284c27-351e-490d-af55-86e46ff6bb0d"
      },
      "outputs": [
        {
          "name": "stdout",
          "output_type": "stream",
          "text": [
            "zzzz\n"
          ]
        }
      ],
      "source": [
        "z = 5\n",
        "a = 'z' * 4\n",
        "print(a)"
      ]
    },
    {
      "cell_type": "code",
      "execution_count": null,
      "id": "bc19cc93",
      "metadata": {
        "id": "bc19cc93"
      },
      "outputs": [],
      "source": [
        "#type of conversion:\n",
        "\n",
        "#int(x)\n",
        "#float(x)\n",
        "#str(x)\n",
        "#bool(x) # zero, none object,empty string are falsy values in python."
      ]
    },
    {
      "cell_type": "markdown",
      "id": "efe79181",
      "metadata": {
        "id": "efe79181"
      },
      "source": [
        "## 10. Quiz"
      ]
    },
    {
      "cell_type": "code",
      "execution_count": null,
      "id": "eccee59d",
      "metadata": {
        "id": "eccee59d"
      },
      "outputs": [],
      "source": [
        "# What are the primitive data types in python?"
      ]
    },
    {
      "cell_type": "code",
      "execution_count": null,
      "id": "e1e341d4",
      "metadata": {
        "id": "e1e341d4",
        "outputId": "a5e5608c-5193-4eab-fa1e-6f60122c659f"
      },
      "outputs": [
        {
          "name": "stdout",
          "output_type": "stream",
          "text": [
            "p\n",
            "ppl\n",
            "ap\n",
            "1\n"
          ]
        }
      ],
      "source": [
        "\n",
        "fruit = \"apple\"\n",
        "print(fruit[1])\n",
        "print(fruit[1:-1])\n",
        "print(fruit[:-3])\n",
        "print(10%3)\n"
      ]
    },
    {
      "cell_type": "code",
      "execution_count": null,
      "id": "462dbf02",
      "metadata": {
        "id": "462dbf02",
        "outputId": "c091524c-7fe6-4d44-e125-a5a8e4ead038"
      },
      "outputs": [
        {
          "name": "stdout",
          "output_type": "stream",
          "text": [
            "True\n"
          ]
        }
      ],
      "source": [
        "print(bool(10))\n"
      ]
    },
    {
      "cell_type": "code",
      "execution_count": null,
      "id": "ab54dd26",
      "metadata": {
        "id": "ab54dd26",
        "outputId": "2563f64c-f7fc-4cae-fb59-4a5f34310ffa"
      },
      "outputs": [
        {
          "name": "stdout",
          "output_type": "stream",
          "text": [
            "sab\n"
          ]
        }
      ],
      "source": [
        "int = 'sab'\n",
        "print(int)"
      ]
    },
    {
      "cell_type": "code",
      "execution_count": null,
      "id": "cc01e682",
      "metadata": {
        "id": "cc01e682",
        "outputId": "4928c537-9170-4bbc-aad7-fd7f46796c32"
      },
      "outputs": [
        {
          "ename": "SyntaxError",
          "evalue": "invalid syntax (Temp/ipykernel_3708/2955884700.py, line 1)",
          "output_type": "error",
          "traceback": [
            "\u001b[1;36m  File \u001b[1;32m\"C:\\Users\\BHAGAT\\AppData\\Local\\Temp/ipykernel_3708/2955884700.py\"\u001b[1;36m, line \u001b[1;32m1\u001b[0m\n\u001b[1;33m    if = 'sab'\u001b[0m\n\u001b[1;37m       ^\u001b[0m\n\u001b[1;31mSyntaxError\u001b[0m\u001b[1;31m:\u001b[0m invalid syntax\n"
          ]
        }
      ],
      "source": [
        "if = 'sab'   #import, from   #True, False, None,  # and, or          #for, while    #def, with, return\n",
        "print(if)                    #if, elif, else      #break, continue   #try, except   #is, in, not"
      ]
    },
    {
      "cell_type": "code",
      "execution_count": null,
      "id": "9d5dade2",
      "metadata": {
        "id": "9d5dade2",
        "outputId": "36d34484-f7b4-48dd-afc0-835c4de9dfcd"
      },
      "outputs": [
        {
          "name": "stdout",
          "output_type": "stream",
          "text": [
            "sab\n"
          ]
        }
      ],
      "source": [
        "str = 'sab'\n",
        "print(str)"
      ]
    },
    {
      "cell_type": "code",
      "execution_count": null,
      "id": "992e015e",
      "metadata": {
        "id": "992e015e",
        "outputId": "d374341c-e1b2-4f88-cfe4-669392d17d79"
      },
      "outputs": [
        {
          "ename": "SyntaxError",
          "evalue": "invalid syntax (Temp/ipykernel_3708/819582165.py, line 1)",
          "output_type": "error",
          "traceback": [
            "\u001b[1;36m  File \u001b[1;32m\"C:\\Users\\BHAGAT\\AppData\\Local\\Temp/ipykernel_3708/819582165.py\"\u001b[1;36m, line \u001b[1;32m1\u001b[0m\n\u001b[1;33m    in = 'hhhhh'\u001b[0m\n\u001b[1;37m    ^\u001b[0m\n\u001b[1;31mSyntaxError\u001b[0m\u001b[1;31m:\u001b[0m invalid syntax\n"
          ]
        }
      ],
      "source": [
        "in = 'hhhhh'\n",
        "print(in)"
      ]
    },
    {
      "cell_type": "code",
      "execution_count": null,
      "id": "efa2cc4c",
      "metadata": {
        "id": "efa2cc4c"
      },
      "outputs": [],
      "source": [
        ""
      ]
    }
  ],
  "metadata": {
    "kernelspec": {
      "display_name": "Python 3 (ipykernel)",
      "language": "python",
      "name": "python3"
    },
    "language_info": {
      "codemirror_mode": {
        "name": "ipython",
        "version": 3
      },
      "file_extension": ".py",
      "mimetype": "text/x-python",
      "name": "python",
      "nbconvert_exporter": "python",
      "pygments_lexer": "ipython3",
      "version": "3.8.12"
    },
    "colab": {
      "name": "python for beginner 2.ipynb",
      "provenance": [],
      "include_colab_link": true
    }
  },
  "nbformat": 4,
  "nbformat_minor": 5
}