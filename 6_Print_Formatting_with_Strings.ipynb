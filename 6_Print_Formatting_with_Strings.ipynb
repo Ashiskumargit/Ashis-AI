{
  "cells": [
    {
      "cell_type": "markdown",
      "metadata": {
        "id": "view-in-github",
        "colab_type": "text"
      },
      "source": [
        "<a href=\"https://colab.research.google.com/github/Ashiskumargit/Divine-AI-Data-Science/blob/main/6_Print_Formatting_with_Strings.ipynb\" target=\"_parent\"><img src=\"https://colab.research.google.com/assets/colab-badge.svg\" alt=\"Open In Colab\"/></a>"
      ]
    },
    {
      "cell_type": "markdown",
      "id": "635f0924",
      "metadata": {
        "id": "635f0924"
      },
      "source": [
        "# Formatting with placeholders\n",
        "\n",
        "You can use %s to inject strings into your print statements. The modulo % is referred to as a \"string formatting operator\".# "
      ]
    },
    {
      "cell_type": "code",
      "execution_count": null,
      "id": "60464a0b",
      "metadata": {
        "id": "60464a0b",
        "outputId": "0ec0b196-deb7-4273-9a05-684e5a179cb2"
      },
      "outputs": [
        {
          "name": "stdout",
          "output_type": "stream",
          "text": [
            "I'm going to inject something here.\n"
          ]
        }
      ],
      "source": [
        "print(\"I'm going to inject %s here.\" %'something')"
      ]
    },
    {
      "cell_type": "markdown",
      "id": "c899f2fe",
      "metadata": {
        "id": "c899f2fe"
      },
      "source": [
        "You can pass multiple items by placing them inside a tuple after the % operator."
      ]
    },
    {
      "cell_type": "code",
      "execution_count": null,
      "id": "6aad84cf",
      "metadata": {
        "id": "6aad84cf",
        "outputId": "0de800d4-a9b0-4117-80c2-856f91086d4f"
      },
      "outputs": [
        {
          "name": "stdout",
          "output_type": "stream",
          "text": [
            "I'm going to inject some text here, and more text here.\n"
          ]
        }
      ],
      "source": [
        "print(\"I'm going to inject %s text here, and %s text here.\" %('some','more'))"
      ]
    },
    {
      "cell_type": "markdown",
      "id": "eafe8f3d",
      "metadata": {
        "id": "eafe8f3d"
      },
      "source": [
        "You can also pass variable names:\n"
      ]
    },
    {
      "cell_type": "code",
      "execution_count": null,
      "id": "9eefe56e",
      "metadata": {
        "id": "9eefe56e",
        "outputId": "61ddb4c6-682b-41db-e52a-c2b22ebdbc3a"
      },
      "outputs": [
        {
          "name": "stdout",
          "output_type": "stream",
          "text": [
            "I'm going to inject some text here, and more text here.\n"
          ]
        }
      ],
      "source": [
        "x, y = 'some', 'more'\n",
        "print(\"I'm going to inject %s text here, and %s text here.\"%(x,y))"
      ]
    },
    {
      "cell_type": "markdown",
      "id": "e659c5d0",
      "metadata": {
        "id": "e659c5d0"
      },
      "source": [
        "## Format conversion methods.\n",
        "\n",
        "It should be noted that two methods %s and %r convert any python object to a string using two separate methods: str() and repr(). We will learn more about these functions later on in the course, but you should note that %r and repr() deliver the string representation of the object, including quotation marks and any escape characters. "
      ]
    },
    {
      "cell_type": "code",
      "execution_count": null,
      "id": "9a75adfb",
      "metadata": {
        "id": "9a75adfb",
        "outputId": "2b2b4bf2-5b37-4153-c7f9-452bef2f374b"
      },
      "outputs": [
        {
          "name": "stdout",
          "output_type": "stream",
          "text": [
            "He said his name was Fred.\n",
            "He said his name was 'Fred'.\n"
          ]
        }
      ],
      "source": [
        "print('He said his name was %s.' %'Fred')\n",
        "print('He said his name was %r.' %'Fred')"
      ]
    },
    {
      "cell_type": "markdown",
      "id": "8b9f04c0",
      "metadata": {
        "id": "8b9f04c0"
      },
      "source": [
        "\n",
        "As another example, \\t inserts a tab into a string."
      ]
    },
    {
      "cell_type": "code",
      "execution_count": null,
      "id": "d5c721f2",
      "metadata": {
        "id": "d5c721f2",
        "outputId": "a3b842c9-2764-473b-c826-9c3475ea4d27"
      },
      "outputs": [
        {
          "name": "stdout",
          "output_type": "stream",
          "text": [
            "I once caught a fish this \tbig.\n",
            "I once caught a fish 'this \\tbig'.\n"
          ]
        }
      ],
      "source": [
        "print('I once caught a fish %s.' %'this \\tbig')\n",
        "print('I once caught a fish %r.' %'this \\tbig')"
      ]
    },
    {
      "cell_type": "markdown",
      "id": "65873908",
      "metadata": {
        "id": "65873908"
      },
      "source": [
        "The %s operator converts whatever it sees into a string, including integers and floats. The %d operator converts numbers to integers first, without rounding. Note the difference below:"
      ]
    },
    {
      "cell_type": "code",
      "execution_count": null,
      "id": "c9b7bde3",
      "metadata": {
        "id": "c9b7bde3",
        "outputId": "54d419ed-937e-4cd9-f775-59a68fb5dfaa"
      },
      "outputs": [
        {
          "name": "stdout",
          "output_type": "stream",
          "text": [
            "I wrote 3.75 programs today.\n",
            "I wrote 3 programs today.\n"
          ]
        }
      ],
      "source": [
        "print('I wrote %s programs today.' %3.75)\n",
        "print('I wrote %d programs today.' %3.75)   "
      ]
    },
    {
      "cell_type": "markdown",
      "id": "27338176",
      "metadata": {
        "id": "27338176"
      },
      "source": [
        "## Padding and Precision of Floating Point Numbers\n",
        "\n",
        "Floating point numbers use the format %5.2f. Here, 5 would be the minimum number of characters the string should contain; these may be padded with whitespace if the entire number does not have this many digits. Next to this, .2f stands for how many numbers to show past the decimal point. Let's see some examples: "
      ]
    },
    {
      "cell_type": "code",
      "execution_count": null,
      "id": "f0da85a5",
      "metadata": {
        "id": "f0da85a5",
        "outputId": "3623a4a6-a909-4771-c051-bdf4aafe68de"
      },
      "outputs": [
        {
          "name": "stdout",
          "output_type": "stream",
          "text": [
            "Floating point numbers: 13.00\n"
          ]
        }
      ],
      "source": [
        "print('Floating point numbers: %5.2f' %(13))"
      ]
    },
    {
      "cell_type": "code",
      "execution_count": null,
      "id": "8323e733",
      "metadata": {
        "id": "8323e733",
        "outputId": "464e6343-9e73-4bab-85c7-37928db79736"
      },
      "outputs": [
        {
          "name": "stdout",
          "output_type": "stream",
          "text": [
            "Floating point numbers:     13\n"
          ]
        }
      ],
      "source": [
        "print('Floating point numbers: %6.0f' %(13.144))"
      ]
    },
    {
      "cell_type": "code",
      "execution_count": null,
      "id": "5fbfcd95",
      "metadata": {
        "id": "5fbfcd95",
        "outputId": "61195770-2e3a-4d09-d504-3146a50b2205"
      },
      "outputs": [
        {
          "name": "stdout",
          "output_type": "stream",
          "text": [
            "Floating point numbers: 13.14400\n"
          ]
        }
      ],
      "source": [
        "print('Floating point numbers: %1.5f' %(13.144))"
      ]
    },
    {
      "cell_type": "code",
      "execution_count": null,
      "id": "c08aad35",
      "metadata": {
        "id": "c08aad35",
        "outputId": "d8059092-fdbf-4eb8-9365-af87a9ff085a"
      },
      "outputs": [
        {
          "name": "stdout",
          "output_type": "stream",
          "text": [
            "Floating point numbers:      13.14\n"
          ]
        }
      ],
      "source": [
        "print('Floating point numbers: %10.2f' %(13.144))"
      ]
    },
    {
      "cell_type": "code",
      "execution_count": null,
      "id": "e8b6dca3",
      "metadata": {
        "id": "e8b6dca3",
        "outputId": "9d3608b1-6c33-4790-957c-f67ce4ab8699"
      },
      "outputs": [
        {
          "name": "stdout",
          "output_type": "stream",
          "text": [
            "Floating point numbers:                     13.14\n"
          ]
        }
      ],
      "source": [
        "print('Floating point numbers: %25.2f' %(13.144))"
      ]
    },
    {
      "cell_type": "markdown",
      "id": "cf969957",
      "metadata": {
        "id": "cf969957"
      },
      "source": [
        "## Multiple Formatting\n",
        "\n",
        "Nothing prohibits using more than one conversion tool in the same print statement:  "
      ]
    },
    {
      "cell_type": "code",
      "execution_count": null,
      "id": "b011b125",
      "metadata": {
        "id": "b011b125",
        "outputId": "f256210d-8b24-4a3f-cdb1-20a5296c0a59"
      },
      "outputs": [
        {
          "name": "stdout",
          "output_type": "stream",
          "text": [
            "First: hi!, Second:  3.14, Third: 'bye!'\n"
          ]
        }
      ],
      "source": [
        "print('First: %s, Second: %5.2f, Third: %r' %('hi!',3.1415,'bye!'))"
      ]
    },
    {
      "cell_type": "markdown",
      "id": "8b64cb0f",
      "metadata": {
        "id": "8b64cb0f"
      },
      "source": [
        "# Formatting with the .format() method\n",
        "\n",
        "A better way to format objects into your strings for print statements is with the string .format() method. \n",
        "\n",
        "The syntax is:\n",
        "\n",
        "             \n",
        "            'String here {} then also {}'.format('something1','something2')\n",
        "            \n",
        "For example:"
      ]
    },
    {
      "cell_type": "code",
      "execution_count": null,
      "id": "c66f54cb",
      "metadata": {
        "id": "c66f54cb",
        "outputId": "1e391798-d58d-46a8-c57e-f03d4f4a8a9e"
      },
      "outputs": [
        {
          "name": "stdout",
          "output_type": "stream",
          "text": [
            "This is a string with an insert\n"
          ]
        }
      ],
      "source": [
        " print('This is a string with an {}'.format('insert'))"
      ]
    },
    {
      "cell_type": "code",
      "execution_count": null,
      "id": "5b2cf451",
      "metadata": {
        "id": "5b2cf451"
      },
      "outputs": [],
      "source": [
        ""
      ]
    },
    {
      "cell_type": "markdown",
      "id": "57023f0c",
      "metadata": {
        "id": "57023f0c"
      },
      "source": [
        "## The .format() method has several advantages over the %s placeholder method: "
      ]
    },
    {
      "cell_type": "markdown",
      "id": "5db306ca",
      "metadata": {
        "id": "5db306ca"
      },
      "source": [
        "#### 1. Inserted objects can be called by index position:"
      ]
    },
    {
      "cell_type": "code",
      "execution_count": null,
      "id": "7cee3692",
      "metadata": {
        "id": "7cee3692",
        "outputId": "b0674523-38f2-4d92-90ce-80b886475da2"
      },
      "outputs": [
        {
          "name": "stdout",
          "output_type": "stream",
          "text": [
            "The quick brown fox\n"
          ]
        }
      ],
      "source": [
        "print('The {2} {1} {0}'.format('fox','brown','quick'))"
      ]
    },
    {
      "cell_type": "markdown",
      "id": "bbd71831",
      "metadata": {
        "id": "bbd71831"
      },
      "source": [
        "#### 2. Inserted objects can be assigned keywords:"
      ]
    },
    {
      "cell_type": "code",
      "execution_count": null,
      "id": "472a656b",
      "metadata": {
        "id": "472a656b",
        "outputId": "d2742d12-07b4-416c-ec20-b65ca0f5d8c7"
      },
      "outputs": [
        {
          "name": "stdout",
          "output_type": "stream",
          "text": [
            "First Object: 1, Second Object: Two, Third Object: 12.3\n"
          ]
        }
      ],
      "source": [
        "print('First Object: {a}, Second Object: {b}, Third Object: {c}'.format(a=1,b='Two',c=12.3))"
      ]
    },
    {
      "cell_type": "markdown",
      "id": "bb07fde4",
      "metadata": {
        "id": "bb07fde4"
      },
      "source": [
        "#### 3. Inserted objects can be reused, avoiding duplication: "
      ]
    },
    {
      "cell_type": "code",
      "execution_count": null,
      "id": "641b3ad1",
      "metadata": {
        "id": "641b3ad1",
        "outputId": "b2541914-b50c-4de7-d18c-6f7013eeb307"
      },
      "outputs": [
        {
          "name": "stdout",
          "output_type": "stream",
          "text": [
            "A penny saved is a penny earned.\n",
            "A penny saved is a penny earned.\n"
          ]
        }
      ],
      "source": [
        "print('A %s saved is a %s earned.' %('penny','penny'))\n",
        "# vs.\n",
        "print('A {p} saved is a {p} earned.'.format(p='penny'))"
      ]
    },
    {
      "cell_type": "code",
      "execution_count": null,
      "id": "8d993636",
      "metadata": {
        "id": "8d993636"
      },
      "outputs": [],
      "source": [
        ""
      ]
    },
    {
      "cell_type": "markdown",
      "id": "1c40d729",
      "metadata": {
        "id": "1c40d729"
      },
      "source": [
        "## Alignment, padding and precision with .format()\n",
        "\n",
        "Within the curly braces you can assign field lengths, left/right alignments, rounding parameters and more"
      ]
    },
    {
      "cell_type": "code",
      "execution_count": null,
      "id": "673019f9",
      "metadata": {
        "id": "673019f9",
        "outputId": "bb37f6b8-c36a-4ee0-855f-b52a7361cec7"
      },
      "outputs": [
        {
          "name": "stdout",
          "output_type": "stream",
          "text": [
            "Fruit    | Quantity\n",
            "Apples   | 3.0\n",
            "Oranges  |  10\n"
          ]
        }
      ],
      "source": [
        "print('{0:8} | {1:3}'.format('Fruit', 'Quantity'))\n",
        "print('{0:8} | {1:3}'.format('Apples', 3.))\n",
        "print('{0:8} | {1:3}'.format('Oranges', 10))"
      ]
    },
    {
      "cell_type": "markdown",
      "id": "13eb6b6a",
      "metadata": {
        "id": "13eb6b6a"
      },
      "source": [
        "By default, .format() aligns text to the left, numbers to the right. You can pass an optional <,^, or > to set a left, center or right alignment:"
      ]
    },
    {
      "cell_type": "code",
      "execution_count": null,
      "id": "f728407c",
      "metadata": {
        "id": "f728407c",
        "outputId": "e089637a-f458-4dc1-e170-20ef2613b028"
      },
      "outputs": [
        {
          "name": "stdout",
          "output_type": "stream",
          "text": [
            "Left     | Center  |    Right\n",
            "11       |   22    |       33\n"
          ]
        }
      ],
      "source": [
        "print('{0:<8} | {1:^7} | {2:>8}'.format('Left','Center','Right'))\n",
        "print('{0:<8} | {1:^7} | {2:>8}'.format(11,22,33))"
      ]
    },
    {
      "cell_type": "markdown",
      "id": "c598eb02",
      "metadata": {
        "id": "c598eb02"
      },
      "source": [
        "You can precede the aligment operator with a padding character"
      ]
    },
    {
      "cell_type": "code",
      "execution_count": null,
      "id": "85500e53",
      "metadata": {
        "id": "85500e53",
        "outputId": "533ca71c-6d6a-4821-d702-84610cfc33c9"
      },
      "outputs": [
        {
          "name": "stdout",
          "output_type": "stream",
          "text": [
            "Left==== | Center- | ...Right\n",
            "11====== | --22--- | ......33\n"
          ]
        }
      ],
      "source": [
        "print('{0:=<8} | {1:-^7} | {2:.>8}'.format('Left','Center','Right'))\n",
        "print('{0:=<8} | {1:-^7} | {2:.>8}'.format(11,22,33))"
      ]
    },
    {
      "cell_type": "markdown",
      "id": "f5c656b3",
      "metadata": {
        "id": "f5c656b3"
      },
      "source": [
        "Field widths and float precision are handled in a way similar to placeholders. The following two print statements are equivalent:"
      ]
    },
    {
      "cell_type": "code",
      "execution_count": null,
      "id": "8a1777bd",
      "metadata": {
        "id": "8a1777bd",
        "outputId": "b284f70a-4fe6-494b-f1eb-8dcf3090f043"
      },
      "outputs": [
        {
          "name": "stdout",
          "output_type": "stream",
          "text": [
            "This is my ten-character, two-decimal number:     13.58\n",
            "This is my ten-character, two-decimal number:     13.58\n"
          ]
        }
      ],
      "source": [
        "print('This is my ten-character, two-decimal number:%10.2f' %13.579)\n",
        "print('This is my ten-character, two-decimal number:{0:10.2f}'.format(13.579))"
      ]
    },
    {
      "cell_type": "markdown",
      "id": "7555d5a1",
      "metadata": {
        "id": "7555d5a1"
      },
      "source": [
        "Note that there are 5 spaces following the colon, and 5 characters taken up by 13.58, for a total of ten characters."
      ]
    },
    {
      "cell_type": "markdown",
      "id": "fd3fd1b1",
      "metadata": {
        "id": "fd3fd1b1"
      },
      "source": [
        "## Formatted String Literals (f-strings) "
      ]
    },
    {
      "cell_type": "markdown",
      "id": "8ecf8e75",
      "metadata": {
        "id": "8ecf8e75"
      },
      "source": [
        "Introduced in Python 3.6, f-strings offer several benefits over the older .format() string method described above. For one, you can bring outside variables immediately into to the string rather than pass them as arguments through .format(var)."
      ]
    },
    {
      "cell_type": "code",
      "execution_count": null,
      "id": "83512082",
      "metadata": {
        "id": "83512082",
        "outputId": "dcd7c41e-8b3e-48ec-f397-33b6a2f75d7b"
      },
      "outputs": [
        {
          "name": "stdout",
          "output_type": "stream",
          "text": [
            "He said his name is Fred.\n"
          ]
        }
      ],
      "source": [
        "name = 'Fred'\n",
        "\n",
        "print(f\"He said his name is {name}.\")"
      ]
    },
    {
      "cell_type": "markdown",
      "id": "acb45160",
      "metadata": {
        "id": "acb45160"
      },
      "source": [
        "Pass !r to get the string representation:"
      ]
    },
    {
      "cell_type": "code",
      "execution_count": null,
      "id": "de131646",
      "metadata": {
        "id": "de131646",
        "outputId": "49c36b38-57be-466e-a8d8-7a108229dbb1"
      },
      "outputs": [
        {
          "name": "stdout",
          "output_type": "stream",
          "text": [
            "He said his name is 'Fred'\n"
          ]
        }
      ],
      "source": [
        "print(f\"He said his name is {name!r}\")"
      ]
    },
    {
      "cell_type": "code",
      "execution_count": null,
      "id": "f9bbfc85",
      "metadata": {
        "id": "f9bbfc85"
      },
      "outputs": [],
      "source": [
        ""
      ]
    },
    {
      "cell_type": "markdown",
      "id": "8b5e682a",
      "metadata": {
        "id": "8b5e682a"
      },
      "source": [
        "## Float formatting follows \"result: {value:{width}.{precision}}\""
      ]
    },
    {
      "cell_type": "markdown",
      "id": "97e7a534",
      "metadata": {
        "id": "97e7a534"
      },
      "source": [
        "\n",
        "Where with the .format() method you might see {value:10.4f}, with f-strings this can become {value:{10}.{6}}"
      ]
    },
    {
      "cell_type": "code",
      "execution_count": null,
      "id": "82ea36b3",
      "metadata": {
        "id": "82ea36b3",
        "outputId": "53b157e0-98eb-4a45-a5a6-64f49ae611e3"
      },
      "outputs": [
        {
          "name": "stdout",
          "output_type": "stream",
          "text": [
            "My 10 character, four decimal number is:   23.4568\n",
            "My 10 character, four decimal number is:    23.457\n"
          ]
        }
      ],
      "source": [
        "num = 23.45678\n",
        "print(\"My 10 character, four decimal number is:{0:10.4f}\".format(num))\n",
        "print(f\"My 10 character, four decimal number is:{num:{10}.{5}}\")"
      ]
    },
    {
      "cell_type": "markdown",
      "id": "bcc2c138",
      "metadata": {
        "id": "bcc2c138"
      },
      "source": [
        "Note that with f-strings, precision refers to the total number of digits, not just those following the decimal. This fits more closely with scientific notation and statistical analysis. Unfortunately, f-strings do not pad to the right of the decimal, even if precision allows it:"
      ]
    },
    {
      "cell_type": "code",
      "execution_count": null,
      "id": "662e6bba",
      "metadata": {
        "id": "662e6bba",
        "outputId": "3d4fc5e4-ea10-4489-93dd-4062cc3da085"
      },
      "outputs": [
        {
          "name": "stdout",
          "output_type": "stream",
          "text": [
            "My 10 character, four decimal number is:   23.4500\n",
            "My 10 character, four decimal number is:     23.45\n"
          ]
        }
      ],
      "source": [
        "num = 23.45\n",
        "print(\"My 10 character, four decimal number is:{0:10.4f}\".format(num))\n",
        "print(f\"My 10 character, four decimal number is:{num:{10}.{6}}\")"
      ]
    },
    {
      "cell_type": "markdown",
      "id": "966d3b8c",
      "metadata": {
        "id": "966d3b8c"
      },
      "source": [
        "If this becomes important, you can always use .format() method syntax inside an f-string:"
      ]
    },
    {
      "cell_type": "code",
      "execution_count": null,
      "id": "440bb4de",
      "metadata": {
        "id": "440bb4de",
        "outputId": "a79739ce-cd0e-4aa5-ce83-bc09a97d42db"
      },
      "outputs": [
        {
          "name": "stdout",
          "output_type": "stream",
          "text": [
            "My 10 character, four decimal number is:   23.4500\n",
            "My 10 character, four decimal number is:   23.4500\n"
          ]
        }
      ],
      "source": [
        "num = 23.45\n",
        "print(\"My 10 character, four decimal number is:{0:10.4f}\".format(num))\n",
        "print(f\"My 10 character, four decimal number is:{num:10.4f}\")"
      ]
    },
    {
      "cell_type": "code",
      "execution_count": null,
      "id": "3723be56",
      "metadata": {
        "id": "3723be56"
      },
      "outputs": [],
      "source": [
        ""
      ]
    },
    {
      "cell_type": "code",
      "execution_count": null,
      "id": "ca62b3c2",
      "metadata": {
        "id": "ca62b3c2"
      },
      "outputs": [],
      "source": [
        ""
      ]
    }
  ],
  "metadata": {
    "kernelspec": {
      "display_name": "Python 3 (ipykernel)",
      "language": "python",
      "name": "python3"
    },
    "language_info": {
      "codemirror_mode": {
        "name": "ipython",
        "version": 3
      },
      "file_extension": ".py",
      "mimetype": "text/x-python",
      "name": "python",
      "nbconvert_exporter": "python",
      "pygments_lexer": "ipython3",
      "version": "3.8.12"
    },
    "colab": {
      "name": "6. Print Formatting with Strings.ipynb",
      "provenance": [],
      "include_colab_link": true
    }
  },
  "nbformat": 4,
  "nbformat_minor": 5
}