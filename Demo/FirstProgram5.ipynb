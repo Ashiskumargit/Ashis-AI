{
  "cells": [
    {
      "cell_type": "markdown",
      "metadata": {
        "id": "view-in-github",
        "colab_type": "text"
      },
      "source": [
        "<a href=\"https://colab.research.google.com/github/Ashiskumargit/Ashis-AI/blob/main/Demo/FirstProgram5.ipynb\" target=\"_parent\"><img src=\"https://colab.research.google.com/assets/colab-badge.svg\" alt=\"Open In Colab\"/></a>"
      ]
    },
    {
      "cell_type": "code",
      "execution_count": null,
      "id": "4436ef1a",
      "metadata": {
        "id": "4436ef1a",
        "outputId": "3d5b3423-2b1e-4734-e2b0-ef23cd70b9f5"
      },
      "outputs": [
        {
          "name": "stdout",
          "output_type": "stream",
          "text": [
            "Tuesday Morning\n"
          ]
        }
      ],
      "source": [
        "import os\n",
        "print(\"Tuesday Morning\")"
      ]
    },
    {
      "cell_type": "code",
      "execution_count": null,
      "id": "2865d970",
      "metadata": {
        "id": "2865d970",
        "outputId": "01fa53c0-6408-4980-a1c5-285f7dd0490a"
      },
      "outputs": [
        {
          "data": {
            "text/plain": [
              "9"
            ]
          },
          "execution_count": 2,
          "metadata": {},
          "output_type": "execute_result"
        }
      ],
      "source": [
        "1*9"
      ]
    },
    {
      "cell_type": "code",
      "execution_count": null,
      "id": "6d2abfa6",
      "metadata": {
        "id": "6d2abfa6",
        "outputId": "a5f4c9d5-e647-479d-b82d-955285e782b2"
      },
      "outputs": [
        {
          "data": {
            "text/plain": [
              "11"
            ]
          },
          "execution_count": 3,
          "metadata": {},
          "output_type": "execute_result"
        }
      ],
      "source": [
        "5+6"
      ]
    },
    {
      "cell_type": "code",
      "execution_count": null,
      "id": "accb6ef9",
      "metadata": {
        "id": "accb6ef9",
        "outputId": "a11598ff-dc31-4bb8-83a6-ac64810fde22"
      },
      "outputs": [
        {
          "name": "stdout",
          "output_type": "stream",
          "text": [
            "Hi+World\n"
          ]
        }
      ],
      "source": [
        "print(\"Hi+World\")"
      ]
    },
    {
      "cell_type": "code",
      "execution_count": null,
      "id": "b82056bf",
      "metadata": {
        "id": "b82056bf",
        "outputId": "3c30e4bc-8994-4e22-9bfb-32d92e95a22a"
      },
      "outputs": [
        {
          "data": {
            "text/plain": [
              "25"
            ]
          },
          "execution_count": 5,
          "metadata": {},
          "output_type": "execute_result"
        }
      ],
      "source": [
        "x=5\n",
        "x*x\n"
      ]
    },
    {
      "cell_type": "code",
      "execution_count": null,
      "id": "079eecdd",
      "metadata": {
        "colab": {
          "base_uri": "https://localhost:8080/"
        },
        "id": "079eecdd",
        "outputId": "c3bcf0fc-70b4-4661-ad7c-91dd37df932d"
      },
      "outputs": [
        {
          "output_type": "execute_result",
          "data": {
            "text/plain": [
              "25"
            ]
          },
          "metadata": {},
          "execution_count": 1
        }
      ],
      "source": [
        "a=5\n",
        "a*a"
      ]
    },
    {
      "cell_type": "code",
      "source": [
        ""
      ],
      "metadata": {
        "id": "2YJJhyfNf0DG"
      },
      "id": "2YJJhyfNf0DG",
      "execution_count": null,
      "outputs": []
    }
  ],
  "metadata": {
    "kernelspec": {
      "display_name": "Python 3 (ipykernel)",
      "language": "python",
      "name": "python3"
    },
    "language_info": {
      "codemirror_mode": {
        "name": "ipython",
        "version": 3
      },
      "file_extension": ".py",
      "mimetype": "text/x-python",
      "name": "python",
      "nbconvert_exporter": "python",
      "pygments_lexer": "ipython3",
      "version": "3.8.12"
    },
    "colab": {
      "name": "Copy of FirstProgram5.ipynb",
      "provenance": [],
      "include_colab_link": true
    },
    "accelerator": "GPU"
  },
  "nbformat": 4,
  "nbformat_minor": 5
}