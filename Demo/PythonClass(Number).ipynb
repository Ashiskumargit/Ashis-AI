{
  "cells": [
    {
      "cell_type": "markdown",
      "metadata": {
        "id": "view-in-github",
        "colab_type": "text"
      },
      "source": [
        "<a href=\"https://colab.research.google.com/github/Ashiskumargit/Divine-AI-Data-Science/blob/main/Demo/PythonClass(Number).ipynb\" target=\"_parent\"><img src=\"https://colab.research.google.com/assets/colab-badge.svg\" alt=\"Open In Colab\"/></a>"
      ]
    },
    {
      "cell_type": "markdown",
      "id": "cc568684",
      "metadata": {
        "id": "cc568684"
      },
      "source": [
        "# Python is very easy \n",
        "        \n",
        "   Number by Assignment Operator"
      ]
    },
    {
      "cell_type": "code",
      "execution_count": null,
      "id": "c5e4727f",
      "metadata": {
        "id": "c5e4727f",
        "outputId": "cc9741e0-ebcb-4c08-f704-13f9ef7ced98"
      },
      "outputs": [
        {
          "data": {
            "text/plain": [
              "7"
            ]
          },
          "execution_count": 1,
          "metadata": {},
          "output_type": "execute_result"
        }
      ],
      "source": [
        "1+6"
      ]
    },
    {
      "cell_type": "code",
      "execution_count": null,
      "id": "f48cf03c",
      "metadata": {
        "id": "f48cf03c",
        "outputId": "04cd688d-443d-4b00-a5f6-2acb0b6f7ccb"
      },
      "outputs": [
        {
          "data": {
            "text/plain": [
              "2"
            ]
          },
          "execution_count": 2,
          "metadata": {},
          "output_type": "execute_result"
        }
      ],
      "source": [
        "5-3"
      ]
    },
    {
      "cell_type": "code",
      "execution_count": null,
      "id": "a7e2169d",
      "metadata": {
        "id": "a7e2169d",
        "outputId": "bdc5282d-ad29-4bbc-f0e2-be46455ebc26"
      },
      "outputs": [
        {
          "data": {
            "text/plain": [
              "18"
            ]
          },
          "execution_count": 3,
          "metadata": {},
          "output_type": "execute_result"
        }
      ],
      "source": [
        "3*6"
      ]
    },
    {
      "cell_type": "code",
      "execution_count": null,
      "id": "1b177d35",
      "metadata": {
        "id": "1b177d35",
        "outputId": "166e6624-bbf2-4cf0-c07b-2120059f3eca"
      },
      "outputs": [
        {
          "data": {
            "text/plain": [
              "2.5"
            ]
          },
          "execution_count": 4,
          "metadata": {},
          "output_type": "execute_result"
        }
      ],
      "source": [
        "5/2"
      ]
    },
    {
      "cell_type": "code",
      "execution_count": null,
      "id": "1f892970",
      "metadata": {
        "id": "1f892970",
        "outputId": "83d8b057-f5e6-4cca-ba07-f8a1016867bf"
      },
      "outputs": [
        {
          "data": {
            "text/plain": [
              "6"
            ]
          },
          "execution_count": 5,
          "metadata": {},
          "output_type": "execute_result"
        }
      ],
      "source": [
        "13//2"
      ]
    },
    {
      "cell_type": "code",
      "execution_count": null,
      "id": "5265cbe5",
      "metadata": {
        "id": "5265cbe5",
        "outputId": "20666139-0ad5-4552-a5c3-bdbf2c27a2aa"
      },
      "outputs": [
        {
          "data": {
            "text/plain": [
              "2"
            ]
          },
          "execution_count": 6,
          "metadata": {},
          "output_type": "execute_result"
        }
      ],
      "source": [
        "7%5"
      ]
    },
    {
      "cell_type": "code",
      "execution_count": null,
      "id": "d531ac5a",
      "metadata": {
        "id": "d531ac5a",
        "outputId": "746e3fd4-ce45-4812-be9f-bf02d1c6c37e"
      },
      "outputs": [
        {
          "data": {
            "text/plain": [
              "125"
            ]
          },
          "execution_count": 7,
          "metadata": {},
          "output_type": "execute_result"
        }
      ],
      "source": [
        "x=5\n",
        "y=3\n",
        "x**y"
      ]
    },
    {
      "cell_type": "code",
      "execution_count": null,
      "id": "90369c2c",
      "metadata": {
        "id": "90369c2c",
        "outputId": "9ec7d8d4-5760-4a39-cd46-3ae419da479d"
      },
      "outputs": [
        {
          "data": {
            "text/plain": [
              "15"
            ]
          },
          "execution_count": 8,
          "metadata": {},
          "output_type": "execute_result"
        }
      ],
      "source": [
        "x*y"
      ]
    },
    {
      "cell_type": "markdown",
      "id": "4eed3aa0",
      "metadata": {
        "id": "4eed3aa0"
      },
      "source": [
        "#\n",
        "Arithmatic Continue"
      ]
    },
    {
      "cell_type": "code",
      "execution_count": null,
      "id": "8cf40183",
      "metadata": {
        "id": "8cf40183",
        "outputId": "a453539f-1c9f-469f-a242-b89827b5fa2c"
      },
      "outputs": [
        {
          "data": {
            "text/plain": [
              "64"
            ]
          },
          "execution_count": 9,
          "metadata": {},
          "output_type": "execute_result"
        }
      ],
      "source": [
        "2**6"
      ]
    },
    {
      "cell_type": "code",
      "execution_count": null,
      "id": "22aaa726",
      "metadata": {
        "id": "22aaa726",
        "outputId": "5527fc39-0cf1-43b5-a109-07b575aa4eea"
      },
      "outputs": [
        {
          "data": {
            "text/plain": [
              "0.03125"
            ]
          },
          "execution_count": 10,
          "metadata": {},
          "output_type": "execute_result"
        }
      ],
      "source": [
        "2**-5"
      ]
    },
    {
      "cell_type": "code",
      "execution_count": null,
      "id": "d188097d",
      "metadata": {
        "id": "d188097d",
        "outputId": "ffec3dea-e89a-4b0e-83c6-1b35bb201000"
      },
      "outputs": [
        {
          "data": {
            "text/plain": [
              "0.03125"
            ]
          },
          "execution_count": 11,
          "metadata": {},
          "output_type": "execute_result"
        }
      ],
      "source": [
        "1/32"
      ]
    },
    {
      "cell_type": "code",
      "execution_count": null,
      "id": "52dd7d43",
      "metadata": {
        "id": "52dd7d43",
        "outputId": "5222181a-cb84-4405-cdf2-4f87e878014b"
      },
      "outputs": [
        {
          "data": {
            "text/plain": [
              "14"
            ]
          },
          "execution_count": 12,
          "metadata": {},
          "output_type": "execute_result"
        }
      ],
      "source": [
        "4-10*2+30"
      ]
    },
    {
      "cell_type": "code",
      "execution_count": null,
      "id": "31268377",
      "metadata": {
        "id": "31268377",
        "outputId": "314d28a3-697a-4701-8b63-6c019e010475"
      },
      "outputs": [
        {
          "data": {
            "text/plain": [
              "20"
            ]
          },
          "execution_count": 13,
          "metadata": {},
          "output_type": "execute_result"
        }
      ],
      "source": [
        "(1+3)*(6-1)"
      ]
    },
    {
      "cell_type": "code",
      "execution_count": null,
      "id": "122104c5",
      "metadata": {
        "id": "122104c5",
        "outputId": "3a39a2f0-be08-4566-f13a-f430c79b0225"
      },
      "outputs": [
        {
          "data": {
            "text/plain": [
              "0.3333333333333333"
            ]
          },
          "execution_count": 14,
          "metadata": {},
          "output_type": "execute_result"
        }
      ],
      "source": [
        "1/3"
      ]
    },
    {
      "cell_type": "code",
      "execution_count": null,
      "id": "cf4e3e3f",
      "metadata": {
        "id": "cf4e3e3f",
        "outputId": "e3aa4e5c-be2f-4549-cec4-8208bd6805b4"
      },
      "outputs": [
        {
          "data": {
            "text/plain": [
              "2.0"
            ]
          },
          "execution_count": 15,
          "metadata": {},
          "output_type": "execute_result"
        }
      ],
      "source": [
        "4**0.5"
      ]
    },
    {
      "cell_type": "code",
      "execution_count": null,
      "id": "646b42b9",
      "metadata": {
        "id": "646b42b9",
        "outputId": "1e777167-070a-4769-c725-456fe59eec1d"
      },
      "outputs": [
        {
          "data": {
            "text/plain": [
              "1.5874010519681994"
            ]
          },
          "execution_count": 16,
          "metadata": {},
          "output_type": "execute_result"
        }
      ],
      "source": [
        "4**0.3333333333333333"
      ]
    },
    {
      "cell_type": "code",
      "execution_count": null,
      "id": "905e1081",
      "metadata": {
        "id": "905e1081",
        "outputId": "23ddd101-42da-4900-9dce-791f7a801b10"
      },
      "outputs": [
        {
          "data": {
            "text/plain": [
              "0.25"
            ]
          },
          "execution_count": 17,
          "metadata": {},
          "output_type": "execute_result"
        }
      ],
      "source": [
        "1/4"
      ]
    },
    {
      "cell_type": "code",
      "execution_count": null,
      "id": "a5710195",
      "metadata": {
        "id": "a5710195",
        "outputId": "8e17047a-8eed-4042-a118-72513d5b6788"
      },
      "outputs": [
        {
          "data": {
            "text/plain": [
              "1.3160740129524924"
            ]
          },
          "execution_count": 18,
          "metadata": {},
          "output_type": "execute_result"
        }
      ],
      "source": [
        "3**0.25"
      ]
    },
    {
      "cell_type": "markdown",
      "id": "b7f4418a",
      "metadata": {
        "id": "b7f4418a"
      },
      "source": [
        "Variable Assignment"
      ]
    },
    {
      "cell_type": "code",
      "execution_count": null,
      "id": "4ca47f56",
      "metadata": {
        "id": "4ca47f56"
      },
      "outputs": [],
      "source": [
        "a = 3"
      ]
    },
    {
      "cell_type": "code",
      "execution_count": null,
      "id": "560ec696",
      "metadata": {
        "id": "560ec696",
        "outputId": "711858dc-983d-4f54-8fa4-9bc09a45a98d"
      },
      "outputs": [
        {
          "data": {
            "text/plain": [
              "6"
            ]
          },
          "execution_count": 20,
          "metadata": {},
          "output_type": "execute_result"
        }
      ],
      "source": [
        "# add the object\n",
        "a+a"
      ]
    },
    {
      "cell_type": "code",
      "execution_count": null,
      "id": "5cf0f85a",
      "metadata": {
        "id": "5cf0f85a",
        "outputId": "e00029ae-c420-4ddc-b045-352434cde666"
      },
      "outputs": [
        {
          "data": {
            "text/plain": [
              "6"
            ]
          },
          "execution_count": 21,
          "metadata": {},
          "output_type": "execute_result"
        }
      ],
      "source": [
        "#\n",
        "a+a"
      ]
    },
    {
      "cell_type": "code",
      "execution_count": null,
      "id": "c0982287",
      "metadata": {
        "id": "c0982287",
        "outputId": "9da879ec-0bb6-4dc1-fb2b-3148a7d81fa5"
      },
      "outputs": [
        {
          "data": {
            "text/plain": [
              "3"
            ]
          },
          "execution_count": 22,
          "metadata": {},
          "output_type": "execute_result"
        }
      ],
      "source": [
        "a"
      ]
    },
    {
      "cell_type": "code",
      "execution_count": null,
      "id": "a75badc0",
      "metadata": {
        "id": "a75badc0"
      },
      "outputs": [],
      "source": [
        "a=a+a"
      ]
    },
    {
      "cell_type": "code",
      "execution_count": null,
      "id": "341116ad",
      "metadata": {
        "id": "341116ad",
        "outputId": "a6247199-e4d2-48df-833d-ec60777ed8d2"
      },
      "outputs": [
        {
          "data": {
            "text/plain": [
              "6"
            ]
          },
          "execution_count": 24,
          "metadata": {},
          "output_type": "execute_result"
        }
      ],
      "source": [
        "a"
      ]
    },
    {
      "cell_type": "code",
      "execution_count": null,
      "id": "7df286df",
      "metadata": {
        "id": "7df286df"
      },
      "outputs": [],
      "source": [
        "my_income =10\n",
        "tax_rate =0.1\n",
        "my_income=my_income*tax_rate"
      ]
    },
    {
      "cell_type": "code",
      "execution_count": null,
      "id": "a3dab345",
      "metadata": {
        "id": "a3dab345",
        "outputId": "431b87ed-1443-4f88-ea8b-109490111528"
      },
      "outputs": [
        {
          "data": {
            "text/plain": [
              "1.0"
            ]
          },
          "execution_count": 26,
          "metadata": {},
          "output_type": "execute_result"
        }
      ],
      "source": [
        "my_income"
      ]
    },
    {
      "cell_type": "code",
      "execution_count": null,
      "id": "316318c2",
      "metadata": {
        "id": "316318c2"
      },
      "outputs": [],
      "source": [
        "we_dance=30\n",
        "we_rest=2\n",
        "we_rest=we_rest-we_dance"
      ]
    },
    {
      "cell_type": "code",
      "execution_count": null,
      "id": "7ac1ff49",
      "metadata": {
        "id": "7ac1ff49",
        "outputId": "72952e1b-826a-4552-c053-48d80687102c"
      },
      "outputs": [
        {
          "data": {
            "text/plain": [
              "-28"
            ]
          },
          "execution_count": 28,
          "metadata": {},
          "output_type": "execute_result"
        }
      ],
      "source": [
        "we_rest"
      ]
    },
    {
      "cell_type": "code",
      "execution_count": null,
      "id": "c94363d0",
      "metadata": {
        "id": "c94363d0"
      },
      "outputs": [],
      "source": [
        ""
      ]
    }
  ],
  "metadata": {
    "kernelspec": {
      "display_name": "Python 3 (ipykernel)",
      "language": "python",
      "name": "python3"
    },
    "language_info": {
      "codemirror_mode": {
        "name": "ipython",
        "version": 3
      },
      "file_extension": ".py",
      "mimetype": "text/x-python",
      "name": "python",
      "nbconvert_exporter": "python",
      "pygments_lexer": "ipython3",
      "version": "3.8.12"
    },
    "colab": {
      "name": "PythonClass(Number).ipynb",
      "provenance": [],
      "include_colab_link": true
    }
  },
  "nbformat": 4,
  "nbformat_minor": 5
}