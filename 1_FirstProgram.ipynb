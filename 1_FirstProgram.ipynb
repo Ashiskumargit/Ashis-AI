{
  "cells": [
    {
      "cell_type": "markdown",
      "metadata": {
        "id": "view-in-github",
        "colab_type": "text"
      },
      "source": [
        "<a href=\"https://colab.research.google.com/github/Ashiskumargit/Divine-AI-Data-Science/blob/main/1_FirstProgram.ipynb\" target=\"_parent\"><img src=\"https://colab.research.google.com/assets/colab-badge.svg\" alt=\"Open In Colab\"/></a>"
      ]
    },
    {
      "cell_type": "code",
      "execution_count": null,
      "id": "f3997da8",
      "metadata": {
        "id": "f3997da8",
        "outputId": "9dd26ef1-028a-4dd2-ac13-83a68c7d9fa7"
      },
      "outputs": [
        {
          "name": "stdout",
          "output_type": "stream",
          "text": [
            "C:\\Users\\BHAGAT\\Desktop\\Ashis Divine AI\\Python\n"
          ]
        }
      ],
      "source": [
        "import os\n",
        "print(os.getcwd())"
      ]
    },
    {
      "cell_type": "code",
      "execution_count": null,
      "id": "1db37b4b",
      "metadata": {
        "id": "1db37b4b",
        "outputId": "8c424542-fd0b-4070-e14c-a08ffbadeef2"
      },
      "outputs": [
        {
          "name": "stdout",
          "output_type": "stream",
          "text": [
            "Good morning\n"
          ]
        }
      ],
      "source": [
        "print(\"Good morning\")      #print() it pre-definded or in-built function\n"
      ]
    },
    {
      "cell_type": "markdown",
      "id": "655f723a",
      "metadata": {
        "id": "655f723a"
      },
      "source": [
        "# This is the First Program "
      ]
    },
    {
      "cell_type": "code",
      "execution_count": null,
      "id": "0ad0355b",
      "metadata": {
        "id": "0ad0355b",
        "outputId": "4c9adafb-e10a-41b2-bba5-dad6af692f21"
      },
      "outputs": [
        {
          "data": {
            "text/plain": [
              "2"
            ]
          },
          "execution_count": 3,
          "metadata": {},
          "output_type": "execute_result"
        }
      ],
      "source": [
        "1 + 1"
      ]
    },
    {
      "cell_type": "code",
      "execution_count": null,
      "id": "339d57b7",
      "metadata": {
        "id": "339d57b7",
        "outputId": "71b73839-ed9c-426e-e1e2-1accf0227024"
      },
      "outputs": [
        {
          "data": {
            "text/plain": [
              "'hi there'"
            ]
          },
          "execution_count": 4,
          "metadata": {},
          "output_type": "execute_result"
        }
      ],
      "source": [
        "\"hi\" + \" there\""
      ]
    },
    {
      "cell_type": "code",
      "execution_count": null,
      "id": "wrong-amino",
      "metadata": {
        "id": "wrong-amino",
        "outputId": "1b33f408-87b0-4f99-c290-3e4fb4e5d436"
      },
      "outputs": [
        {
          "data": {
            "text/plain": [
              "'5 there'"
            ]
          },
          "execution_count": 5,
          "metadata": {},
          "output_type": "execute_result"
        }
      ],
      "source": [
        "str(5) + \" there\""
      ]
    },
    {
      "cell_type": "code",
      "execution_count": null,
      "id": "45bbc3f6",
      "metadata": {
        "id": "45bbc3f6",
        "outputId": "a3d95023-c4ef-4240-8295-ca50700a2546"
      },
      "outputs": [
        {
          "data": {
            "text/plain": [
              "'5there'"
            ]
          },
          "execution_count": 6,
          "metadata": {},
          "output_type": "execute_result"
        }
      ],
      "source": [
        "'5' + 'there'"
      ]
    },
    {
      "cell_type": "code",
      "execution_count": null,
      "id": "aboriginal-kazakhstan",
      "metadata": {
        "id": "aboriginal-kazakhstan",
        "outputId": "ebacb94a-9947-430b-ea65-dac30d7eeec1"
      },
      "outputs": [
        {
          "name": "stdout",
          "output_type": "stream",
          "text": [
            "25\n"
          ]
        }
      ],
      "source": [
        "a = 5*5\n",
        "print(a)"
      ]
    },
    {
      "cell_type": "code",
      "execution_count": null,
      "id": "brazilian-player",
      "metadata": {
        "id": "brazilian-player",
        "outputId": "2aaa208c-261a-4756-9161-a5386b7a6ec2"
      },
      "outputs": [
        {
          "data": {
            "text/plain": [
              "int"
            ]
          },
          "execution_count": 8,
          "metadata": {},
          "output_type": "execute_result"
        }
      ],
      "source": [
        "type(a)"
      ]
    },
    {
      "cell_type": "code",
      "execution_count": null,
      "id": "elder-pitch",
      "metadata": {
        "id": "elder-pitch",
        "outputId": "26b2613a-868f-483e-af8e-21afe0e99aa5"
      },
      "outputs": [
        {
          "name": "stdout",
          "output_type": "stream",
          "text": [
            "hi\n"
          ]
        }
      ],
      "source": [
        "a = 'hi'\n",
        "print(a)"
      ]
    },
    {
      "cell_type": "code",
      "execution_count": null,
      "id": "romance-found",
      "metadata": {
        "id": "romance-found",
        "outputId": "ed0b6079-96b9-469f-fa72-a58fdd50a282"
      },
      "outputs": [
        {
          "data": {
            "text/plain": [
              "str"
            ]
          },
          "execution_count": 10,
          "metadata": {},
          "output_type": "execute_result"
        }
      ],
      "source": [
        "type(a)"
      ]
    },
    {
      "cell_type": "code",
      "execution_count": null,
      "id": "revolutionary-anchor",
      "metadata": {
        "id": "revolutionary-anchor",
        "outputId": "867c8d20-b0dc-4a10-8ccd-08d6379e1c61"
      },
      "outputs": [
        {
          "name": "stdout",
          "output_type": "stream",
          "text": [
            "111\n"
          ]
        }
      ],
      "source": [
        "A = '10'\n",
        "B = A +'1'\n",
        "C= int(A) + int(B)\n",
        "print(C)"
      ]
    },
    {
      "cell_type": "code",
      "execution_count": null,
      "id": "determined-reservoir",
      "metadata": {
        "id": "determined-reservoir"
      },
      "outputs": [],
      "source": [
        ""
      ]
    }
  ],
  "metadata": {
    "kernelspec": {
      "display_name": "Python 3 (ipykernel)",
      "language": "python",
      "name": "python3"
    },
    "language_info": {
      "codemirror_mode": {
        "name": "ipython",
        "version": 3
      },
      "file_extension": ".py",
      "mimetype": "text/x-python",
      "name": "python",
      "nbconvert_exporter": "python",
      "pygments_lexer": "ipython3",
      "version": "3.8.12"
    },
    "colab": {
      "name": "1. FirstProgram.ipynb",
      "provenance": [],
      "include_colab_link": true
    }
  },
  "nbformat": 4,
  "nbformat_minor": 5
}