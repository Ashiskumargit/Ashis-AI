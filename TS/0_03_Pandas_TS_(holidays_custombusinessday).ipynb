{
  "cells": [
    {
      "cell_type": "markdown",
      "metadata": {
        "id": "view-in-github",
        "colab_type": "text"
      },
      "source": [
        "<a href=\"https://colab.research.google.com/github/Ashiskumargit/Divine-AI-Data-Science/blob/main/TS/0_03_Pandas_TS_(holidays_custombusinessday).ipynb\" target=\"_parent\"><img src=\"https://colab.research.google.com/assets/colab-badge.svg\" alt=\"Open In Colab\"/></a>"
      ]
    },
    {
      "cell_type": "markdown",
      "metadata": {
        "id": "aQsbU4d2GG0V"
      },
      "source": [
        "<h1 style=\"color:blue\" align=\"center\">Pandas Time Series Analysis Tutorial: Handling Holidays</h1>"
      ]
    },
    {
      "cell_type": "code",
      "execution_count": null,
      "metadata": {
        "scrolled": false,
        "id": "1263CycRGG0n",
        "outputId": "132d293b-4e4f-49f2-c1a3-5f469f78b194"
      },
      "outputs": [
        {
          "data": {
            "text/html": [
              "<div>\n",
              "<style scoped>\n",
              "    .dataframe tbody tr th:only-of-type {\n",
              "        vertical-align: middle;\n",
              "    }\n",
              "\n",
              "    .dataframe tbody tr th {\n",
              "        vertical-align: top;\n",
              "    }\n",
              "\n",
              "    .dataframe thead th {\n",
              "        text-align: right;\n",
              "    }\n",
              "</style>\n",
              "<table border=\"1\" class=\"dataframe\">\n",
              "  <thead>\n",
              "    <tr style=\"text-align: right;\">\n",
              "      <th></th>\n",
              "      <th>Open</th>\n",
              "      <th>High</th>\n",
              "      <th>Low</th>\n",
              "      <th>Close</th>\n",
              "      <th>Adj Close</th>\n",
              "      <th>Volume</th>\n",
              "    </tr>\n",
              "  </thead>\n",
              "  <tbody>\n",
              "    <tr>\n",
              "      <th>0</th>\n",
              "      <td>36.220001</td>\n",
              "      <td>36.325001</td>\n",
              "      <td>35.775002</td>\n",
              "      <td>35.875000</td>\n",
              "      <td>34.054874</td>\n",
              "      <td>57111200</td>\n",
              "    </tr>\n",
              "    <tr>\n",
              "      <th>1</th>\n",
              "      <td>35.922501</td>\n",
              "      <td>36.197498</td>\n",
              "      <td>35.680000</td>\n",
              "      <td>36.022499</td>\n",
              "      <td>34.194893</td>\n",
              "      <td>86278400</td>\n",
              "    </tr>\n",
              "    <tr>\n",
              "      <th>2</th>\n",
              "      <td>35.755001</td>\n",
              "      <td>35.875000</td>\n",
              "      <td>35.602501</td>\n",
              "      <td>35.682499</td>\n",
              "      <td>33.872147</td>\n",
              "      <td>96515200</td>\n",
              "    </tr>\n",
              "    <tr>\n",
              "      <th>3</th>\n",
              "      <td>35.724998</td>\n",
              "      <td>36.187500</td>\n",
              "      <td>35.724998</td>\n",
              "      <td>36.044998</td>\n",
              "      <td>34.216255</td>\n",
              "      <td>76806800</td>\n",
              "    </tr>\n",
              "    <tr>\n",
              "      <th>4</th>\n",
              "      <td>36.027500</td>\n",
              "      <td>36.487499</td>\n",
              "      <td>35.842499</td>\n",
              "      <td>36.264999</td>\n",
              "      <td>34.425087</td>\n",
              "      <td>84362400</td>\n",
              "    </tr>\n",
              "  </tbody>\n",
              "</table>\n",
              "</div>"
            ],
            "text/plain": [
              "        Open       High        Low      Close  Adj Close    Volume\n",
              "0  36.220001  36.325001  35.775002  35.875000  34.054874  57111200\n",
              "1  35.922501  36.197498  35.680000  36.022499  34.194893  86278400\n",
              "2  35.755001  35.875000  35.602501  35.682499  33.872147  96515200\n",
              "3  35.724998  36.187500  35.724998  36.044998  34.216255  76806800\n",
              "4  36.027500  36.487499  35.842499  36.264999  34.425087  84362400"
            ]
          },
          "execution_count": 1,
          "metadata": {},
          "output_type": "execute_result"
        }
      ],
      "source": [
        "import pandas as pd\n",
        "df = pd.read_csv(\"aapl_no_dates3.csv\")\n",
        "df.head()"
      ]
    },
    {
      "cell_type": "code",
      "execution_count": null,
      "metadata": {
        "id": "n4hoH-F-GG0w",
        "outputId": "aebdcb3e-d832-4808-dffa-1d03fb41bb2e"
      },
      "outputs": [
        {
          "data": {
            "text/plain": [
              "DatetimeIndex(['2017-07-03', '2017-07-04', '2017-07-05', '2017-07-06',\n",
              "               '2017-07-07', '2017-07-10', '2017-07-11', '2017-07-12',\n",
              "               '2017-07-13', '2017-07-14', '2017-07-17', '2017-07-18',\n",
              "               '2017-07-19', '2017-07-20', '2017-07-21'],\n",
              "              dtype='datetime64[ns]', freq='B')"
            ]
          },
          "execution_count": 5,
          "metadata": {},
          "output_type": "execute_result"
        }
      ],
      "source": [
        "rng = pd.date_range(start=\"7/1/2017\", end=\"7/21/2017\", freq='B')\n",
        "rng"
      ]
    },
    {
      "cell_type": "markdown",
      "metadata": {
        "id": "ItHbf2MvGG0z"
      },
      "source": [
        "**Using 'B' frequency is not going to help because 4th July was holiday and 'B' is not taking that into account. \n",
        "It only accounts for weekends**"
      ]
    },
    {
      "cell_type": "markdown",
      "metadata": {
        "id": "GflUGDLQGG01"
      },
      "source": [
        "<h3 style=\"color:purple\">Using CustomBusinessDay to generate US holidays calendar frequency</h3>"
      ]
    },
    {
      "cell_type": "code",
      "execution_count": null,
      "metadata": {
        "id": "TR8rsSe5GG03",
        "outputId": "c955c5bd-025a-4ffb-b01f-17eb08a32836"
      },
      "outputs": [
        {
          "data": {
            "text/plain": [
              "DatetimeIndex(['2017-07-03', '2017-07-05', '2017-07-06', '2017-07-07',\n",
              "               '2017-07-10', '2017-07-11', '2017-07-12', '2017-07-13',\n",
              "               '2017-07-14', '2017-07-17', '2017-07-18', '2017-07-19',\n",
              "               '2017-07-20', '2017-07-21', '2017-07-24', '2017-07-25',\n",
              "               '2017-07-26', '2017-07-27', '2017-07-28', '2017-07-31'],\n",
              "              dtype='datetime64[ns]', freq='C')"
            ]
          },
          "execution_count": 8,
          "metadata": {},
          "output_type": "execute_result"
        }
      ],
      "source": [
        "from pandas.tseries.holiday import USFederalHolidayCalendar     #4th july close due to Independent Day\n",
        "from pandas.tseries.offsets import CustomBusinessDay\n",
        "\n",
        "us_cal = CustomBusinessDay(calendar=USFederalHolidayCalendar())\n",
        "\n",
        "rng = pd.date_range(start=\"7/1/2017\",end=\"7/31/2017\", freq=us_cal)\n",
        "rng"
      ]
    },
    {
      "cell_type": "code",
      "execution_count": null,
      "metadata": {
        "scrolled": false,
        "id": "0SmI9xXlGG06",
        "outputId": "98d0f48e-39a7-432f-b605-43035d701acb"
      },
      "outputs": [
        {
          "data": {
            "text/html": [
              "<div>\n",
              "<style scoped>\n",
              "    .dataframe tbody tr th:only-of-type {\n",
              "        vertical-align: middle;\n",
              "    }\n",
              "\n",
              "    .dataframe tbody tr th {\n",
              "        vertical-align: top;\n",
              "    }\n",
              "\n",
              "    .dataframe thead th {\n",
              "        text-align: right;\n",
              "    }\n",
              "</style>\n",
              "<table border=\"1\" class=\"dataframe\">\n",
              "  <thead>\n",
              "    <tr style=\"text-align: right;\">\n",
              "      <th></th>\n",
              "      <th>Open</th>\n",
              "      <th>High</th>\n",
              "      <th>Low</th>\n",
              "      <th>Close</th>\n",
              "      <th>Adj Close</th>\n",
              "      <th>Volume</th>\n",
              "    </tr>\n",
              "  </thead>\n",
              "  <tbody>\n",
              "    <tr>\n",
              "      <th>2017-07-03</th>\n",
              "      <td>36.220001</td>\n",
              "      <td>36.325001</td>\n",
              "      <td>35.775002</td>\n",
              "      <td>35.875000</td>\n",
              "      <td>34.054874</td>\n",
              "      <td>57111200</td>\n",
              "    </tr>\n",
              "    <tr>\n",
              "      <th>2017-07-05</th>\n",
              "      <td>35.922501</td>\n",
              "      <td>36.197498</td>\n",
              "      <td>35.680000</td>\n",
              "      <td>36.022499</td>\n",
              "      <td>34.194893</td>\n",
              "      <td>86278400</td>\n",
              "    </tr>\n",
              "    <tr>\n",
              "      <th>2017-07-06</th>\n",
              "      <td>35.755001</td>\n",
              "      <td>35.875000</td>\n",
              "      <td>35.602501</td>\n",
              "      <td>35.682499</td>\n",
              "      <td>33.872147</td>\n",
              "      <td>96515200</td>\n",
              "    </tr>\n",
              "    <tr>\n",
              "      <th>2017-07-07</th>\n",
              "      <td>35.724998</td>\n",
              "      <td>36.187500</td>\n",
              "      <td>35.724998</td>\n",
              "      <td>36.044998</td>\n",
              "      <td>34.216255</td>\n",
              "      <td>76806800</td>\n",
              "    </tr>\n",
              "    <tr>\n",
              "      <th>2017-07-10</th>\n",
              "      <td>36.027500</td>\n",
              "      <td>36.487499</td>\n",
              "      <td>35.842499</td>\n",
              "      <td>36.264999</td>\n",
              "      <td>34.425087</td>\n",
              "      <td>84362400</td>\n",
              "    </tr>\n",
              "  </tbody>\n",
              "</table>\n",
              "</div>"
            ],
            "text/plain": [
              "                 Open       High        Low      Close  Adj Close    Volume\n",
              "2017-07-03  36.220001  36.325001  35.775002  35.875000  34.054874  57111200\n",
              "2017-07-05  35.922501  36.197498  35.680000  36.022499  34.194893  86278400\n",
              "2017-07-06  35.755001  35.875000  35.602501  35.682499  33.872147  96515200\n",
              "2017-07-07  35.724998  36.187500  35.724998  36.044998  34.216255  76806800\n",
              "2017-07-10  36.027500  36.487499  35.842499  36.264999  34.425087  84362400"
            ]
          },
          "execution_count": 9,
          "metadata": {},
          "output_type": "execute_result"
        }
      ],
      "source": [
        "df.set_index(rng,inplace=True)\n",
        "df.head()"
      ]
    },
    {
      "cell_type": "markdown",
      "metadata": {
        "id": "lGBc8Ng7GG0-"
      },
      "source": [
        "**You can define your own calendar using AbstractHolidayCalendar as shown below. USFederalHolidayCalendar is the only calendar available in pandas library and it serves as an example for those who want to write their own custom calendars. Here is the link for USFederalHolidayCalendar implementation** https://github.com/pandas-dev/pandas/blob/master/pandas/tseries/holiday.py"
      ]
    },
    {
      "cell_type": "markdown",
      "metadata": {
        "id": "d5DDcKxNGG1B"
      },
      "source": [
        "<h3 style=\"color:purple\">AbstractHolidayCalendar</h3>"
      ]
    },
    {
      "cell_type": "code",
      "execution_count": null,
      "metadata": {
        "id": "-_f8izKJGG1E",
        "outputId": "4d8eaf31-bef3-42db-fb89-84cf77844536"
      },
      "outputs": [
        {
          "data": {
            "text/plain": [
              "DatetimeIndex(['2017-04-03', '2017-04-04', '2017-04-05', '2017-04-06',\n",
              "               '2017-04-07', '2017-04-10', '2017-04-11', '2017-04-12',\n",
              "               '2017-04-13', '2017-04-14', '2017-04-18', '2017-04-19',\n",
              "               '2017-04-20', '2017-04-21', '2017-04-24', '2017-04-25',\n",
              "               '2017-04-26', '2017-04-27', '2017-04-28'],\n",
              "              dtype='datetime64[ns]', freq='C')"
            ]
          },
          "execution_count": 20,
          "metadata": {},
          "output_type": "execute_result"
        }
      ],
      "source": [
        "from pandas.tseries.holiday import AbstractHolidayCalendar, nearest_workday, Holiday\n",
        "class myCalendar(AbstractHolidayCalendar):\n",
        "    rules = [\n",
        "        Holiday('My Birth Day', month=4, day=17),#, observance=nearest_workday),\n",
        "    ]\n",
        "    \n",
        "my_bday = CustomBusinessDay(calendar=myCalendar())\n",
        "rng3 = pd.date_range('4/1/2017','4/30/2017',freq=my_bday)\n",
        "rng3"
      ]
    },
    {
      "cell_type": "code",
      "execution_count": null,
      "metadata": {
        "id": "R2fUmpa9GG1H"
      },
      "outputs": [],
      "source": [
        "#df.set_index(rng3, inplace=True)\n",
        "#df.head()"
      ]
    },
    {
      "cell_type": "markdown",
      "metadata": {
        "id": "Qcg7yoLZGG1J"
      },
      "source": [
        "<h3 style=\"color:purple\">CustomBusinessDay</h3>"
      ]
    },
    {
      "cell_type": "markdown",
      "metadata": {
        "id": "GcHsGOdSGG1L"
      },
      "source": [
        "**Weekend in egypt is Friday and Saturday. Sunday is just a normal weekday and you can handle this custom week schedule using\n",
        "CystomBysinessDay with weekmask as shown below**"
      ]
    },
    {
      "cell_type": "code",
      "execution_count": null,
      "metadata": {
        "scrolled": true,
        "id": "H8BEJFUNGG1M",
        "outputId": "fdcbc6dd-b8ab-42e8-9d9d-f87ace1b755f"
      },
      "outputs": [
        {
          "data": {
            "text/plain": [
              "DatetimeIndex(['2017-07-02', '2017-07-03', '2017-07-04', '2017-07-05',\n",
              "               '2017-07-06', '2017-07-09', '2017-07-10', '2017-07-11',\n",
              "               '2017-07-12', '2017-07-13', '2017-07-16', '2017-07-17',\n",
              "               '2017-07-18', '2017-07-19', '2017-07-20', '2017-07-23',\n",
              "               '2017-07-24', '2017-07-25', '2017-07-26', '2017-07-27'],\n",
              "              dtype='datetime64[ns]', freq='C')"
            ]
          },
          "execution_count": 25,
          "metadata": {},
          "output_type": "execute_result"
        }
      ],
      "source": [
        "egypt_weekdays = \"Sun Mon Tue Wed Thu\"\n",
        "\n",
        "b = CustomBusinessDay(weekmask=egypt_weekdays)\n",
        "\n",
        "pd.date_range(start=\"7/1/2017\",periods=20,freq=b)"
      ]
    },
    {
      "cell_type": "markdown",
      "metadata": {
        "id": "UP2p353PGG1O"
      },
      "source": [
        "**You can also add holidays to this custom business day frequency**"
      ]
    },
    {
      "cell_type": "code",
      "execution_count": null,
      "metadata": {
        "id": "ZEkhSA3bGG1P",
        "outputId": "779765eb-9261-4450-b520-8be21c49389b"
      },
      "outputs": [
        {
          "data": {
            "text/plain": [
              "DatetimeIndex(['2017-07-02', '2017-07-03', '2017-07-05', '2017-07-06',\n",
              "               '2017-07-09', '2017-07-11', '2017-07-12', '2017-07-13',\n",
              "               '2017-07-16', '2017-07-17', '2017-07-18', '2017-07-19',\n",
              "               '2017-07-20', '2017-07-23', '2017-07-24', '2017-07-25',\n",
              "               '2017-07-26', '2017-07-27', '2017-07-30', '2017-07-31'],\n",
              "              dtype='datetime64[ns]', freq='C')"
            ]
          },
          "execution_count": 26,
          "metadata": {},
          "output_type": "execute_result"
        }
      ],
      "source": [
        "b = CustomBusinessDay(holidays=['2017-07-04', '2017-07-10'], weekmask=egypt_weekdays)\n",
        "\n",
        "pd.date_range(start=\"7/1/2017\",periods=20,freq=b)"
      ]
    },
    {
      "cell_type": "markdown",
      "metadata": {
        "id": "dhCld6OFGG1S"
      },
      "source": [
        "**Mathematical operations on date object using custom business day**"
      ]
    },
    {
      "cell_type": "code",
      "execution_count": null,
      "metadata": {
        "scrolled": true,
        "id": "kojqSZu5GG1T",
        "outputId": "7bfeb15d-3563-49e4-91da-6ffd59a2a4ae"
      },
      "outputs": [
        {
          "data": {
            "text/plain": [
              "datetime.datetime(2017, 7, 9, 0, 0)"
            ]
          },
          "execution_count": 27,
          "metadata": {},
          "output_type": "execute_result"
        }
      ],
      "source": [
        "from datetime import datetime\n",
        "dt = datetime(2017,7,9)\n",
        "dt"
      ]
    },
    {
      "cell_type": "code",
      "execution_count": null,
      "metadata": {
        "id": "lZzNUVVzGG1U",
        "outputId": "a051ab77-4343-4eed-f9f6-8e5c8cdf5753"
      },
      "outputs": [
        {
          "data": {
            "text/plain": [
              "Timestamp('2017-07-11 00:00:00')"
            ]
          },
          "execution_count": 28,
          "metadata": {},
          "output_type": "execute_result"
        }
      ],
      "source": [
        "dt + 1*b"
      ]
    },
    {
      "cell_type": "code",
      "execution_count": null,
      "metadata": {
        "id": "liU6cnVmGG1W"
      },
      "outputs": [],
      "source": [
        ""
      ]
    }
  ],
  "metadata": {
    "anaconda-cloud": {},
    "kernelspec": {
      "display_name": "Python 3 (ipykernel)",
      "language": "python",
      "name": "python3"
    },
    "language_info": {
      "codemirror_mode": {
        "name": "ipython",
        "version": 3
      },
      "file_extension": ".py",
      "mimetype": "text/x-python",
      "name": "python",
      "nbconvert_exporter": "python",
      "pygments_lexer": "ipython3",
      "version": "3.8.12"
    },
    "colab": {
      "name": "0.03 Pandas_TS (holidays_custombusinessday).ipynb",
      "provenance": [],
      "include_colab_link": true
    }
  },
  "nbformat": 4,
  "nbformat_minor": 0
}