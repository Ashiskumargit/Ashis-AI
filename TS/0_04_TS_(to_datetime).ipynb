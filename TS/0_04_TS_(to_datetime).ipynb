{
  "cells": [
    {
      "cell_type": "markdown",
      "metadata": {
        "id": "view-in-github",
        "colab_type": "text"
      },
      "source": [
        "<a href=\"https://colab.research.google.com/github/Ashiskumargit/Divine-AI-Data-Science/blob/main/TS/0_04_TS_(to_datetime).ipynb\" target=\"_parent\"><img src=\"https://colab.research.google.com/assets/colab-badge.svg\" alt=\"Open In Colab\"/></a>"
      ]
    },
    {
      "cell_type": "markdown",
      "metadata": {
        "id": "yG0bqNiv8Uzh"
      },
      "source": [
        "<h1 style=\"color:blue\" align=\"center\">Pandas Time Series Analysis Tutorial: to_datetime</h1>"
      ]
    },
    {
      "cell_type": "code",
      "execution_count": null,
      "metadata": {
        "scrolled": true,
        "id": "N-s8wmmK8Uzm",
        "outputId": "2f2c5d3b-a8e6-4420-deec-73d026c7f90f"
      },
      "outputs": [
        {
          "data": {
            "text/plain": [
              "DatetimeIndex(['2017-01-05', '2017-01-05', '2017-01-05', '2017-01-05',\n",
              "               '2017-01-05', '2017-01-05'],\n",
              "              dtype='datetime64[ns]', freq=None)"
            ]
          },
          "execution_count": 2,
          "metadata": {},
          "output_type": "execute_result"
        }
      ],
      "source": [
        "# to_datetime() function convert DatetimeIndex  by pandas\n",
        "import pandas as pd\n",
        "dates = ['Jan 5, 2017','2017-01-05', '01/05/2017', '2017.01.05', '2017/01/05','20170105']\n",
        "pd.to_datetime(dates)"
      ]
    },
    {
      "cell_type": "code",
      "execution_count": null,
      "metadata": {
        "id": "tMYqH-eB8Uzo",
        "outputId": "0d5ecf6d-8ac9-483c-abdf-4a5fe2b0ee41"
      },
      "outputs": [
        {
          "data": {
            "text/plain": [
              "DatetimeIndex(['2017-01-05 14:30:00', '2017-01-05 14:30:00',\n",
              "               '2017-01-05 00:00:00', '2017-01-05 00:00:00',\n",
              "               '2017-01-05 00:00:00', '2017-01-05 00:00:00'],\n",
              "              dtype='datetime64[ns]', freq=None)"
            ]
          },
          "execution_count": 3,
          "metadata": {},
          "output_type": "execute_result"
        }
      ],
      "source": [
        "dt = ['2017-01-05 2:30:00 PM', 'Jan 5, 2017 14:30:00', '01/05/2017', '2017.01.05', '2017/01/05','20170105']\n",
        "pd.to_datetime(dt)"
      ]
    },
    {
      "cell_type": "markdown",
      "metadata": {
        "id": "c2sn-zdw8Uzp"
      },
      "source": [
        "<h3 style=\"color:purple\">European style dates with day first</h3>"
      ]
    },
    {
      "cell_type": "code",
      "execution_count": null,
      "metadata": {
        "scrolled": true,
        "id": "Kag5jepB8Uzq",
        "outputId": "5afff431-5d16-4a84-94a0-18b05bb3417c"
      },
      "outputs": [
        {
          "data": {
            "text/plain": [
              "Timestamp('2016-12-30 00:00:00')"
            ]
          },
          "execution_count": 4,
          "metadata": {},
          "output_type": "execute_result"
        }
      ],
      "source": [
        "pd.to_datetime('30-12-2016')"
      ]
    },
    {
      "cell_type": "code",
      "execution_count": null,
      "metadata": {
        "id": "k0O3EpHA8Uzr",
        "outputId": "baa31e2d-8e0a-484a-bcfe-bdd104240069"
      },
      "outputs": [
        {
          "data": {
            "text/plain": [
              "Timestamp('2016-01-05 00:00:00')"
            ]
          },
          "execution_count": 5,
          "metadata": {},
          "output_type": "execute_result"
        }
      ],
      "source": [
        "pd.to_datetime('5-1-2016', dayfirst=True)"
      ]
    },
    {
      "cell_type": "markdown",
      "metadata": {
        "id": "Ly_pcJ1a8Uzr"
      },
      "source": [
        "<h3 style=\"color:purple\">Custom date time format</h3>"
      ]
    },
    {
      "cell_type": "code",
      "execution_count": null,
      "metadata": {
        "id": "mxVJp1dN8Uzs",
        "outputId": "88cfc22f-c256-4bee-a3e0-cbfea2c2a5db"
      },
      "outputs": [
        {
          "data": {
            "text/plain": [
              "Timestamp('2017-01-05 00:00:00')"
            ]
          },
          "execution_count": 6,
          "metadata": {},
          "output_type": "execute_result"
        }
      ],
      "source": [
        "pd.to_datetime('2017$01$05', format='%Y$%m$%d')"
      ]
    },
    {
      "cell_type": "code",
      "execution_count": null,
      "metadata": {
        "id": "nRdFnrZX8Uzt",
        "outputId": "af601d7a-605c-456b-b66d-cfb6d6e4a70a"
      },
      "outputs": [
        {
          "data": {
            "text/plain": [
              "Timestamp('2017-01-05 00:00:00')"
            ]
          },
          "execution_count": 7,
          "metadata": {},
          "output_type": "execute_result"
        }
      ],
      "source": [
        "pd.to_datetime('2017#01#05', format='%Y#%m#%d')"
      ]
    },
    {
      "cell_type": "code",
      "execution_count": null,
      "metadata": {
        "id": "7hoeBuRV8Uzv",
        "outputId": "3ef52c7b-c694-4b42-f154-be1ae5e17b67"
      },
      "outputs": [
        {
          "data": {
            "text/plain": [
              "Timestamp('2022-01-28 00:00:00')"
            ]
          },
          "execution_count": 8,
          "metadata": {},
          "output_type": "execute_result"
        }
      ],
      "source": [
        "pd.to_datetime('2022&01&28', format='%Y&%m&%d')"
      ]
    },
    {
      "cell_type": "markdown",
      "metadata": {
        "id": "AWden5ou8Uzw"
      },
      "source": [
        "<h3 style=\"color:purple\">Handling invalid dates</h3>"
      ]
    },
    {
      "cell_type": "code",
      "execution_count": null,
      "metadata": {
        "id": "j81Pa2CS8Uzw",
        "outputId": "e22f50c6-b228-459a-c955-5e6dfd45c658"
      },
      "outputs": [
        {
          "data": {
            "text/plain": [
              "Index(['2017-01-05', 'Jan 6, 2017', 'abc'], dtype='object')"
            ]
          },
          "execution_count": 11,
          "metadata": {},
          "output_type": "execute_result"
        }
      ],
      "source": [
        "pd.to_datetime(['2017-01-05', 'Jan 6, 2017', 'abc'], errors='ignore')"
      ]
    },
    {
      "cell_type": "code",
      "execution_count": null,
      "metadata": {
        "scrolled": true,
        "id": "AupM4l0z8Uzx",
        "outputId": "2bfde694-00c6-45b7-daed-d5761e513d48"
      },
      "outputs": [
        {
          "data": {
            "text/plain": [
              "DatetimeIndex(['2017-01-05', '2017-01-06', 'NaT'], dtype='datetime64[ns]', freq=None)"
            ]
          },
          "execution_count": 17,
          "metadata": {},
          "output_type": "execute_result"
        }
      ],
      "source": [
        "pd.to_datetime(['2017-01-05', 'Jan 6, 2017', 'abc'], errors='coerce' )"
      ]
    },
    {
      "cell_type": "markdown",
      "metadata": {
        "id": "PeGZH3DY8Uzy"
      },
      "source": [
        "<h3 style=\"color:purple\">Epoch</h3>"
      ]
    },
    {
      "cell_type": "markdown",
      "metadata": {
        "id": "r4xKgzEZ8Uzy"
      },
      "source": [
        "**Epoch or Unix time means number of seconds that have passed since Jan 1, 1970 00:00:00 UTC time**"
      ]
    },
    {
      "cell_type": "code",
      "execution_count": null,
      "metadata": {
        "id": "oujzZIj08Uzz",
        "outputId": "17d522fa-afe0-4547-c884-dba13f2bf16a"
      },
      "outputs": [
        {
          "data": {
            "text/plain": [
              "1643351054.8509674"
            ]
          },
          "execution_count": 35,
          "metadata": {},
          "output_type": "execute_result"
        }
      ],
      "source": [
        "# for current time or search Epoch or Unix time on Google\n",
        "import time\n",
        "time.time() \n"
      ]
    },
    {
      "cell_type": "code",
      "execution_count": null,
      "metadata": {
        "id": "qrViKA2N8Uzz",
        "outputId": "0e6e2269-bdb1-43cc-a2a8-2bb3b15c8d0c"
      },
      "outputs": [
        {
          "data": {
            "text/plain": [
              "Timestamp('2022-01-28 06:24:14')"
            ]
          },
          "execution_count": 38,
          "metadata": {},
          "output_type": "execute_result"
        }
      ],
      "source": [
        "current_epoch = 1643351054\n",
        "pd.to_datetime(current_epoch, unit='s')"
      ]
    },
    {
      "cell_type": "code",
      "execution_count": null,
      "metadata": {
        "id": "F3hdy4li8Uz0"
      },
      "outputs": [],
      "source": [
        ""
      ]
    },
    {
      "cell_type": "code",
      "execution_count": null,
      "metadata": {
        "scrolled": true,
        "id": "9_2R9JQR8Uz0",
        "outputId": "b30e43b7-3ffa-46db-b694-fc70504e2b81"
      },
      "outputs": [
        {
          "data": {
            "text/plain": [
              "Timestamp('2017-07-29 10:34:38')"
            ]
          },
          "execution_count": 29,
          "metadata": {},
          "output_type": "execute_result"
        }
      ],
      "source": [
        "current_epoch = 1501324478\n",
        "pd.to_datetime(current_epoch, unit='s')"
      ]
    },
    {
      "cell_type": "code",
      "execution_count": null,
      "metadata": {
        "scrolled": true,
        "id": "0HIGRJ5l8Uz1",
        "outputId": "40e20cde-cc7f-496a-ea96-93e9814fdfe7"
      },
      "outputs": [
        {
          "data": {
            "text/plain": [
              "Timestamp('2017-07-29 10:34:38')"
            ]
          },
          "execution_count": 19,
          "metadata": {},
          "output_type": "execute_result"
        }
      ],
      "source": [
        "pd.to_datetime(current_epoch*1000, unit='ms')"
      ]
    },
    {
      "cell_type": "code",
      "execution_count": null,
      "metadata": {
        "id": "0yi1G5Mo8Uz1",
        "outputId": "59abe66f-b536-433e-f177-c10979c9f6a2"
      },
      "outputs": [
        {
          "data": {
            "text/plain": [
              "DatetimeIndex(['2022-01-28 06:24:14'], dtype='datetime64[ns]', freq=None)"
            ]
          },
          "execution_count": 39,
          "metadata": {},
          "output_type": "execute_result"
        }
      ],
      "source": [
        "t = pd.to_datetime([current_epoch], unit='s')\n",
        "t"
      ]
    },
    {
      "cell_type": "code",
      "execution_count": null,
      "metadata": {
        "id": "22hu15M_8Uz2",
        "outputId": "7a33ae8a-2697-477c-d489-de729e046ce9"
      },
      "outputs": [
        {
          "data": {
            "text/plain": [
              "array([1643351054000000000], dtype=int64)"
            ]
          },
          "execution_count": 40,
          "metadata": {},
          "output_type": "execute_result"
        }
      ],
      "source": [
        "t.view('int64')"
      ]
    },
    {
      "cell_type": "code",
      "execution_count": null,
      "metadata": {
        "id": "YhJ7gKV68Uz2"
      },
      "outputs": [],
      "source": [
        ""
      ]
    }
  ],
  "metadata": {
    "anaconda-cloud": {},
    "kernelspec": {
      "display_name": "Python 3 (ipykernel)",
      "language": "python",
      "name": "python3"
    },
    "language_info": {
      "codemirror_mode": {
        "name": "ipython",
        "version": 3
      },
      "file_extension": ".py",
      "mimetype": "text/x-python",
      "name": "python",
      "nbconvert_exporter": "python",
      "pygments_lexer": "ipython3",
      "version": "3.8.12"
    },
    "colab": {
      "name": "0.04 TS (to_datetime).ipynb",
      "provenance": [],
      "include_colab_link": true
    }
  },
  "nbformat": 4,
  "nbformat_minor": 0
}