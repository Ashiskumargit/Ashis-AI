{
  "cells": [
    {
      "cell_type": "markdown",
      "metadata": {
        "id": "view-in-github",
        "colab_type": "text"
      },
      "source": [
        "<a href=\"https://colab.research.google.com/github/Ashiskumargit/Divine-AI-Data-Science/blob/main/TS/0_02_Pandas_TS_(date_range).ipynb\" target=\"_parent\"><img src=\"https://colab.research.google.com/assets/colab-badge.svg\" alt=\"Open In Colab\"/></a>"
      ]
    },
    {
      "cell_type": "markdown",
      "id": "d69feab8",
      "metadata": {
        "id": "d69feab8"
      },
      "source": [
        "# Pandas Time Series Analysis Tutorial: date_range"
      ]
    },
    {
      "cell_type": "code",
      "execution_count": null,
      "id": "0efb2ae7",
      "metadata": {
        "id": "0efb2ae7"
      },
      "outputs": [],
      "source": [
        "import pandas as pd"
      ]
    },
    {
      "cell_type": "code",
      "execution_count": null,
      "id": "30c823bb",
      "metadata": {
        "id": "30c823bb",
        "outputId": "704a12dc-16b8-4324-d513-51ce4265487d"
      },
      "outputs": [
        {
          "data": {
            "text/html": [
              "<div>\n",
              "<style scoped>\n",
              "    .dataframe tbody tr th:only-of-type {\n",
              "        vertical-align: middle;\n",
              "    }\n",
              "\n",
              "    .dataframe tbody tr th {\n",
              "        vertical-align: top;\n",
              "    }\n",
              "\n",
              "    .dataframe thead th {\n",
              "        text-align: right;\n",
              "    }\n",
              "</style>\n",
              "<table border=\"1\" class=\"dataframe\">\n",
              "  <thead>\n",
              "    <tr style=\"text-align: right;\">\n",
              "      <th></th>\n",
              "      <th>Open</th>\n",
              "      <th>High</th>\n",
              "      <th>Low</th>\n",
              "      <th>Close</th>\n",
              "      <th>Adj Close</th>\n",
              "      <th>Volume</th>\n",
              "    </tr>\n",
              "  </thead>\n",
              "  <tbody>\n",
              "    <tr>\n",
              "      <th>16</th>\n",
              "      <td>148.679993</td>\n",
              "      <td>149.369995</td>\n",
              "      <td>147.619995</td>\n",
              "      <td>148.639999</td>\n",
              "      <td>148.423386</td>\n",
              "      <td>50720600</td>\n",
              "    </tr>\n",
              "    <tr>\n",
              "      <th>17</th>\n",
              "      <td>149.330002</td>\n",
              "      <td>150.839996</td>\n",
              "      <td>149.009995</td>\n",
              "      <td>149.320007</td>\n",
              "      <td>149.102402</td>\n",
              "      <td>60893400</td>\n",
              "    </tr>\n",
              "    <tr>\n",
              "      <th>18</th>\n",
              "      <td>149.360001</td>\n",
              "      <td>149.729996</td>\n",
              "      <td>148.490005</td>\n",
              "      <td>148.850006</td>\n",
              "      <td>148.633087</td>\n",
              "      <td>56094900</td>\n",
              "    </tr>\n",
              "    <tr>\n",
              "      <th>19</th>\n",
              "      <td>149.820007</td>\n",
              "      <td>153.169998</td>\n",
              "      <td>149.720001</td>\n",
              "      <td>152.570007</td>\n",
              "      <td>152.347656</td>\n",
              "      <td>100077900</td>\n",
              "    </tr>\n",
              "    <tr>\n",
              "      <th>20</th>\n",
              "      <td>147.220001</td>\n",
              "      <td>149.940002</td>\n",
              "      <td>146.410004</td>\n",
              "      <td>149.800003</td>\n",
              "      <td>149.581696</td>\n",
              "      <td>124850400</td>\n",
              "    </tr>\n",
              "  </tbody>\n",
              "</table>\n",
              "</div>"
            ],
            "text/plain": [
              "          Open        High         Low       Close   Adj Close     Volume\n",
              "16  148.679993  149.369995  147.619995  148.639999  148.423386   50720600\n",
              "17  149.330002  150.839996  149.009995  149.320007  149.102402   60893400\n",
              "18  149.360001  149.729996  148.490005  148.850006  148.633087   56094900\n",
              "19  149.820007  153.169998  149.720001  152.570007  152.347656  100077900\n",
              "20  147.220001  149.940002  146.410004  149.800003  149.581696  124850400"
            ]
          },
          "execution_count": 37,
          "metadata": {},
          "output_type": "execute_result"
        }
      ],
      "source": [
        "df = pd.read_csv(\"AAPL_NO_DATES2.csv\")\n",
        "df.head()\n",
        "df.tail()"
      ]
    },
    {
      "cell_type": "code",
      "execution_count": null,
      "id": "34a126d8",
      "metadata": {
        "scrolled": true,
        "id": "34a126d8",
        "outputId": "86dbc97b-3040-4d03-9120-83320ed49ff4"
      },
      "outputs": [
        {
          "data": {
            "text/plain": [
              "DatetimeIndex(['2021-10-01', '2021-10-04', '2021-10-05', '2021-10-06',\n",
              "               '2021-10-07', '2021-10-08', '2021-10-11', '2021-10-12',\n",
              "               '2021-10-13', '2021-10-14', '2021-10-15', '2021-10-18',\n",
              "               '2021-10-19', '2021-10-20', '2021-10-21', '2021-10-22',\n",
              "               '2021-10-25', '2021-10-26', '2021-10-27', '2021-10-28',\n",
              "               '2021-10-29'],\n",
              "              dtype='datetime64[ns]', freq='B')"
            ]
          },
          "execution_count": 38,
          "metadata": {},
          "output_type": "execute_result"
        }
      ],
      "source": [
        "rng = pd.date_range(start=\"10/1/2021\",end=\"10/31/2021\",freq='B')\n",
        "rng"
      ]
    },
    {
      "cell_type": "code",
      "execution_count": null,
      "id": "78a77961",
      "metadata": {
        "id": "78a77961",
        "outputId": "6324d462-acc2-4d34-afd1-46b9e204c968"
      },
      "outputs": [
        {
          "data": {
            "text/html": [
              "<div>\n",
              "<style scoped>\n",
              "    .dataframe tbody tr th:only-of-type {\n",
              "        vertical-align: middle;\n",
              "    }\n",
              "\n",
              "    .dataframe tbody tr th {\n",
              "        vertical-align: top;\n",
              "    }\n",
              "\n",
              "    .dataframe thead th {\n",
              "        text-align: right;\n",
              "    }\n",
              "</style>\n",
              "<table border=\"1\" class=\"dataframe\">\n",
              "  <thead>\n",
              "    <tr style=\"text-align: right;\">\n",
              "      <th></th>\n",
              "      <th>Open</th>\n",
              "      <th>High</th>\n",
              "      <th>Low</th>\n",
              "      <th>Close</th>\n",
              "      <th>Adj Close</th>\n",
              "      <th>Volume</th>\n",
              "    </tr>\n",
              "  </thead>\n",
              "  <tbody>\n",
              "    <tr>\n",
              "      <th>2021-10-01</th>\n",
              "      <td>141.899994</td>\n",
              "      <td>142.919998</td>\n",
              "      <td>139.110001</td>\n",
              "      <td>142.649994</td>\n",
              "      <td>142.442108</td>\n",
              "      <td>94639600</td>\n",
              "    </tr>\n",
              "    <tr>\n",
              "      <th>2021-10-04</th>\n",
              "      <td>141.759995</td>\n",
              "      <td>142.210007</td>\n",
              "      <td>138.270004</td>\n",
              "      <td>139.139999</td>\n",
              "      <td>138.937225</td>\n",
              "      <td>98322000</td>\n",
              "    </tr>\n",
              "    <tr>\n",
              "      <th>2021-10-05</th>\n",
              "      <td>139.490005</td>\n",
              "      <td>142.240005</td>\n",
              "      <td>139.360001</td>\n",
              "      <td>141.110001</td>\n",
              "      <td>140.904358</td>\n",
              "      <td>80861100</td>\n",
              "    </tr>\n",
              "    <tr>\n",
              "      <th>2021-10-06</th>\n",
              "      <td>139.470001</td>\n",
              "      <td>142.149994</td>\n",
              "      <td>138.369995</td>\n",
              "      <td>142.000000</td>\n",
              "      <td>141.793060</td>\n",
              "      <td>83221100</td>\n",
              "    </tr>\n",
              "    <tr>\n",
              "      <th>2021-10-07</th>\n",
              "      <td>143.059998</td>\n",
              "      <td>144.220001</td>\n",
              "      <td>142.720001</td>\n",
              "      <td>143.289993</td>\n",
              "      <td>143.081177</td>\n",
              "      <td>61732700</td>\n",
              "    </tr>\n",
              "  </tbody>\n",
              "</table>\n",
              "</div>"
            ],
            "text/plain": [
              "                  Open        High         Low       Close   Adj Close  \\\n",
              "2021-10-01  141.899994  142.919998  139.110001  142.649994  142.442108   \n",
              "2021-10-04  141.759995  142.210007  138.270004  139.139999  138.937225   \n",
              "2021-10-05  139.490005  142.240005  139.360001  141.110001  140.904358   \n",
              "2021-10-06  139.470001  142.149994  138.369995  142.000000  141.793060   \n",
              "2021-10-07  143.059998  144.220001  142.720001  143.289993  143.081177   \n",
              "\n",
              "              Volume  \n",
              "2021-10-01  94639600  \n",
              "2021-10-04  98322000  \n",
              "2021-10-05  80861100  \n",
              "2021-10-06  83221100  \n",
              "2021-10-07  61732700  "
            ]
          },
          "execution_count": 39,
          "metadata": {},
          "output_type": "execute_result"
        }
      ],
      "source": [
        "df.set_index(rng, inplace=True)\n",
        "df.head()"
      ]
    },
    {
      "cell_type": "markdown",
      "id": "c8c604bb",
      "metadata": {
        "id": "c8c604bb"
      },
      "source": [
        "## Finding missing dates from datetimeindex"
      ]
    },
    {
      "cell_type": "code",
      "execution_count": null,
      "id": "2350eebb",
      "metadata": {
        "id": "2350eebb",
        "outputId": "fd5c8655-ac90-49d1-97b7-acfcbe939917"
      },
      "outputs": [
        {
          "data": {
            "text/plain": [
              "DatetimeIndex(['2016-06-01', '2016-06-02', '2016-06-03', '2016-06-04',\n",
              "               '2016-06-05', '2016-06-06', '2016-06-07', '2016-06-08',\n",
              "               '2016-06-09', '2016-06-10', '2016-06-11', '2016-06-12',\n",
              "               '2016-06-13', '2016-06-14', '2016-06-15', '2016-06-16',\n",
              "               '2016-06-17', '2016-06-18', '2016-06-19', '2016-06-20',\n",
              "               '2016-06-21', '2016-06-22', '2016-06-23', '2016-06-24',\n",
              "               '2016-06-25', '2016-06-26', '2016-06-27', '2016-06-28',\n",
              "               '2016-06-29', '2016-06-30'],\n",
              "              dtype='datetime64[ns]', freq='D')"
            ]
          },
          "execution_count": 40,
          "metadata": {},
          "output_type": "execute_result"
        }
      ],
      "source": [
        "daily_index = pd.date_range(start=\"6/1/2016\",end=\"6/30/2016\",freq='D')\n",
        "daily_index"
      ]
    },
    {
      "cell_type": "code",
      "execution_count": null,
      "id": "0988cf14",
      "metadata": {
        "id": "0988cf14",
        "outputId": "b7d4bf98-984b-4312-d9d4-eb38a521f066"
      },
      "outputs": [
        {
          "data": {
            "text/plain": [
              "DatetimeIndex(['2016-06-01', '2016-06-02', '2016-06-03', '2016-06-04',\n",
              "               '2016-06-05', '2016-06-06', '2016-06-07', '2016-06-08',\n",
              "               '2016-06-09', '2016-06-10', '2016-06-11', '2016-06-12',\n",
              "               '2016-06-13', '2016-06-14', '2016-06-15', '2016-06-16',\n",
              "               '2016-06-17', '2016-06-18', '2016-06-19', '2016-06-20',\n",
              "               '2016-06-21', '2016-06-22', '2016-06-23', '2016-06-24',\n",
              "               '2016-06-25', '2016-06-26', '2016-06-27', '2016-06-28',\n",
              "               '2016-06-29', '2016-06-30'],\n",
              "              dtype='datetime64[ns]', freq=None)"
            ]
          },
          "execution_count": 41,
          "metadata": {},
          "output_type": "execute_result"
        }
      ],
      "source": [
        "daily_index.difference(df.index)"
      ]
    },
    {
      "cell_type": "markdown",
      "id": "70f160cc",
      "metadata": {
        "id": "70f160cc"
      },
      "source": [
        "## Benefits of having DatetimeIndex"
      ]
    },
    {
      "cell_type": "code",
      "execution_count": null,
      "id": "2e7e583e",
      "metadata": {
        "id": "2e7e583e",
        "outputId": "6b9262c7-d6bb-4c43-e643-a8722462231e"
      },
      "outputs": [
        {
          "data": {
            "text/plain": [
              "<AxesSubplot:>"
            ]
          },
          "execution_count": 42,
          "metadata": {},
          "output_type": "execute_result"
        },
        {
          "data": {
            "image/png": "[encoded data removed]",
            "text/plain": [
              "<Figure size 432x288 with 1 Axes>"
            ]
          },
          "metadata": {
            "needs_background": "light"
          },
          "output_type": "display_data"
        }
      ],
      "source": [
        "%matplotlib inline\n",
        "df.Close.plot()"
      ]
    },
    {
      "cell_type": "code",
      "execution_count": null,
      "id": "647f36f9",
      "metadata": {
        "id": "647f36f9",
        "outputId": "b80c53a6-ab77-4bea-a8b3-ac52b2707e75"
      },
      "outputs": [
        {
          "data": {
            "text/plain": [
              "141.84833016666667"
            ]
          },
          "execution_count": 46,
          "metadata": {},
          "output_type": "execute_result"
        }
      ],
      "source": [
        "df[\"2021-10-01\":\"2021-10-10\"].Close.mean()"
      ]
    },
    {
      "cell_type": "markdown",
      "id": "a6fb1199",
      "metadata": {
        "id": "a6fb1199"
      },
      "source": [
        "## asfreq :"
      ]
    },
    {
      "cell_type": "code",
      "execution_count": null,
      "id": "244ade79",
      "metadata": {
        "id": "244ade79",
        "outputId": "acff364d-eaa1-4c2e-b96f-077bb367056e"
      },
      "outputs": [
        {
          "data": {
            "text/plain": [
              "DatetimeIndex(['2021-10-01', '2021-10-04', '2021-10-05', '2021-10-06',\n",
              "               '2021-10-07', '2021-10-08', '2021-10-11', '2021-10-12',\n",
              "               '2021-10-13', '2021-10-14', '2021-10-15', '2021-10-18',\n",
              "               '2021-10-19', '2021-10-20', '2021-10-21', '2021-10-22',\n",
              "               '2021-10-25', '2021-10-26', '2021-10-27', '2021-10-28',\n",
              "               '2021-10-29'],\n",
              "              dtype='datetime64[ns]', freq='B')"
            ]
          },
          "execution_count": 47,
          "metadata": {},
          "output_type": "execute_result"
        }
      ],
      "source": [
        "df.index"
      ]
    },
    {
      "cell_type": "code",
      "execution_count": null,
      "id": "a5d4da52",
      "metadata": {
        "id": "a5d4da52",
        "outputId": "84eaccc7-a4bd-444f-be7c-692ef9516961"
      },
      "outputs": [
        {
          "data": {
            "text/html": [
              "<div>\n",
              "<style scoped>\n",
              "    .dataframe tbody tr th:only-of-type {\n",
              "        vertical-align: middle;\n",
              "    }\n",
              "\n",
              "    .dataframe tbody tr th {\n",
              "        vertical-align: top;\n",
              "    }\n",
              "\n",
              "    .dataframe thead th {\n",
              "        text-align: right;\n",
              "    }\n",
              "</style>\n",
              "<table border=\"1\" class=\"dataframe\">\n",
              "  <thead>\n",
              "    <tr style=\"text-align: right;\">\n",
              "      <th></th>\n",
              "      <th>Open</th>\n",
              "      <th>High</th>\n",
              "      <th>Low</th>\n",
              "      <th>Close</th>\n",
              "      <th>Adj Close</th>\n",
              "      <th>Volume</th>\n",
              "    </tr>\n",
              "  </thead>\n",
              "  <tbody>\n",
              "    <tr>\n",
              "      <th>2021-10-01 00:00:00</th>\n",
              "      <td>141.899994</td>\n",
              "      <td>142.919998</td>\n",
              "      <td>139.110001</td>\n",
              "      <td>142.649994</td>\n",
              "      <td>142.442108</td>\n",
              "      <td>94639600</td>\n",
              "    </tr>\n",
              "    <tr>\n",
              "      <th>2021-10-01 01:00:00</th>\n",
              "      <td>141.899994</td>\n",
              "      <td>142.919998</td>\n",
              "      <td>139.110001</td>\n",
              "      <td>142.649994</td>\n",
              "      <td>142.442108</td>\n",
              "      <td>94639600</td>\n",
              "    </tr>\n",
              "    <tr>\n",
              "      <th>2021-10-01 02:00:00</th>\n",
              "      <td>141.899994</td>\n",
              "      <td>142.919998</td>\n",
              "      <td>139.110001</td>\n",
              "      <td>142.649994</td>\n",
              "      <td>142.442108</td>\n",
              "      <td>94639600</td>\n",
              "    </tr>\n",
              "    <tr>\n",
              "      <th>2021-10-01 03:00:00</th>\n",
              "      <td>141.899994</td>\n",
              "      <td>142.919998</td>\n",
              "      <td>139.110001</td>\n",
              "      <td>142.649994</td>\n",
              "      <td>142.442108</td>\n",
              "      <td>94639600</td>\n",
              "    </tr>\n",
              "    <tr>\n",
              "      <th>2021-10-01 04:00:00</th>\n",
              "      <td>141.899994</td>\n",
              "      <td>142.919998</td>\n",
              "      <td>139.110001</td>\n",
              "      <td>142.649994</td>\n",
              "      <td>142.442108</td>\n",
              "      <td>94639600</td>\n",
              "    </tr>\n",
              "    <tr>\n",
              "      <th>...</th>\n",
              "      <td>...</td>\n",
              "      <td>...</td>\n",
              "      <td>...</td>\n",
              "      <td>...</td>\n",
              "      <td>...</td>\n",
              "      <td>...</td>\n",
              "    </tr>\n",
              "    <tr>\n",
              "      <th>2021-10-28 20:00:00</th>\n",
              "      <td>149.820007</td>\n",
              "      <td>153.169998</td>\n",
              "      <td>149.720001</td>\n",
              "      <td>152.570007</td>\n",
              "      <td>152.347656</td>\n",
              "      <td>100077900</td>\n",
              "    </tr>\n",
              "    <tr>\n",
              "      <th>2021-10-28 21:00:00</th>\n",
              "      <td>149.820007</td>\n",
              "      <td>153.169998</td>\n",
              "      <td>149.720001</td>\n",
              "      <td>152.570007</td>\n",
              "      <td>152.347656</td>\n",
              "      <td>100077900</td>\n",
              "    </tr>\n",
              "    <tr>\n",
              "      <th>2021-10-28 22:00:00</th>\n",
              "      <td>149.820007</td>\n",
              "      <td>153.169998</td>\n",
              "      <td>149.720001</td>\n",
              "      <td>152.570007</td>\n",
              "      <td>152.347656</td>\n",
              "      <td>100077900</td>\n",
              "    </tr>\n",
              "    <tr>\n",
              "      <th>2021-10-28 23:00:00</th>\n",
              "      <td>149.820007</td>\n",
              "      <td>153.169998</td>\n",
              "      <td>149.720001</td>\n",
              "      <td>152.570007</td>\n",
              "      <td>152.347656</td>\n",
              "      <td>100077900</td>\n",
              "    </tr>\n",
              "    <tr>\n",
              "      <th>2021-10-29 00:00:00</th>\n",
              "      <td>147.220001</td>\n",
              "      <td>149.940002</td>\n",
              "      <td>146.410004</td>\n",
              "      <td>149.800003</td>\n",
              "      <td>149.581696</td>\n",
              "      <td>124850400</td>\n",
              "    </tr>\n",
              "  </tbody>\n",
              "</table>\n",
              "<p>673 rows × 6 columns</p>\n",
              "</div>"
            ],
            "text/plain": [
              "                           Open        High         Low       Close  \\\n",
              "2021-10-01 00:00:00  141.899994  142.919998  139.110001  142.649994   \n",
              "2021-10-01 01:00:00  141.899994  142.919998  139.110001  142.649994   \n",
              "2021-10-01 02:00:00  141.899994  142.919998  139.110001  142.649994   \n",
              "2021-10-01 03:00:00  141.899994  142.919998  139.110001  142.649994   \n",
              "2021-10-01 04:00:00  141.899994  142.919998  139.110001  142.649994   \n",
              "...                         ...         ...         ...         ...   \n",
              "2021-10-28 20:00:00  149.820007  153.169998  149.720001  152.570007   \n",
              "2021-10-28 21:00:00  149.820007  153.169998  149.720001  152.570007   \n",
              "2021-10-28 22:00:00  149.820007  153.169998  149.720001  152.570007   \n",
              "2021-10-28 23:00:00  149.820007  153.169998  149.720001  152.570007   \n",
              "2021-10-29 00:00:00  147.220001  149.940002  146.410004  149.800003   \n",
              "\n",
              "                      Adj Close     Volume  \n",
              "2021-10-01 00:00:00  142.442108   94639600  \n",
              "2021-10-01 01:00:00  142.442108   94639600  \n",
              "2021-10-01 02:00:00  142.442108   94639600  \n",
              "2021-10-01 03:00:00  142.442108   94639600  \n",
              "2021-10-01 04:00:00  142.442108   94639600  \n",
              "...                         ...        ...  \n",
              "2021-10-28 20:00:00  152.347656  100077900  \n",
              "2021-10-28 21:00:00  152.347656  100077900  \n",
              "2021-10-28 22:00:00  152.347656  100077900  \n",
              "2021-10-28 23:00:00  152.347656  100077900  \n",
              "2021-10-29 00:00:00  149.581696  124850400  \n",
              "\n",
              "[673 rows x 6 columns]"
            ]
          },
          "execution_count": 48,
          "metadata": {},
          "output_type": "execute_result"
        }
      ],
      "source": [
        "df.asfreq('H',method='pad')"
      ]
    },
    {
      "cell_type": "code",
      "execution_count": null,
      "id": "1097fa92",
      "metadata": {
        "id": "1097fa92",
        "outputId": "c55fa6a3-a757-4ee0-ef43-48e1b57fb722"
      },
      "outputs": [
        {
          "data": {
            "text/html": [
              "<div>\n",
              "<style scoped>\n",
              "    .dataframe tbody tr th:only-of-type {\n",
              "        vertical-align: middle;\n",
              "    }\n",
              "\n",
              "    .dataframe tbody tr th {\n",
              "        vertical-align: top;\n",
              "    }\n",
              "\n",
              "    .dataframe thead th {\n",
              "        text-align: right;\n",
              "    }\n",
              "</style>\n",
              "<table border=\"1\" class=\"dataframe\">\n",
              "  <thead>\n",
              "    <tr style=\"text-align: right;\">\n",
              "      <th></th>\n",
              "      <th>Open</th>\n",
              "      <th>High</th>\n",
              "      <th>Low</th>\n",
              "      <th>Close</th>\n",
              "      <th>Adj Close</th>\n",
              "      <th>Volume</th>\n",
              "    </tr>\n",
              "  </thead>\n",
              "  <tbody>\n",
              "    <tr>\n",
              "      <th>2021-10-01</th>\n",
              "      <td>141.899994</td>\n",
              "      <td>142.919998</td>\n",
              "      <td>139.110001</td>\n",
              "      <td>142.649994</td>\n",
              "      <td>142.442108</td>\n",
              "      <td>94639600.0</td>\n",
              "    </tr>\n",
              "    <tr>\n",
              "      <th>2021-10-02</th>\n",
              "      <td>NaN</td>\n",
              "      <td>NaN</td>\n",
              "      <td>NaN</td>\n",
              "      <td>NaN</td>\n",
              "      <td>NaN</td>\n",
              "      <td>NaN</td>\n",
              "    </tr>\n",
              "    <tr>\n",
              "      <th>2021-10-03</th>\n",
              "      <td>NaN</td>\n",
              "      <td>NaN</td>\n",
              "      <td>NaN</td>\n",
              "      <td>NaN</td>\n",
              "      <td>NaN</td>\n",
              "      <td>NaN</td>\n",
              "    </tr>\n",
              "    <tr>\n",
              "      <th>2021-10-04</th>\n",
              "      <td>141.759995</td>\n",
              "      <td>142.210007</td>\n",
              "      <td>138.270004</td>\n",
              "      <td>139.139999</td>\n",
              "      <td>138.937225</td>\n",
              "      <td>98322000.0</td>\n",
              "    </tr>\n",
              "    <tr>\n",
              "      <th>2021-10-05</th>\n",
              "      <td>139.490005</td>\n",
              "      <td>142.240005</td>\n",
              "      <td>139.360001</td>\n",
              "      <td>141.110001</td>\n",
              "      <td>140.904358</td>\n",
              "      <td>80861100.0</td>\n",
              "    </tr>\n",
              "    <tr>\n",
              "      <th>2021-10-06</th>\n",
              "      <td>139.470001</td>\n",
              "      <td>142.149994</td>\n",
              "      <td>138.369995</td>\n",
              "      <td>142.000000</td>\n",
              "      <td>141.793060</td>\n",
              "      <td>83221100.0</td>\n",
              "    </tr>\n",
              "    <tr>\n",
              "      <th>2021-10-07</th>\n",
              "      <td>143.059998</td>\n",
              "      <td>144.220001</td>\n",
              "      <td>142.720001</td>\n",
              "      <td>143.289993</td>\n",
              "      <td>143.081177</td>\n",
              "      <td>61732700.0</td>\n",
              "    </tr>\n",
              "    <tr>\n",
              "      <th>2021-10-08</th>\n",
              "      <td>144.029999</td>\n",
              "      <td>144.179993</td>\n",
              "      <td>142.559998</td>\n",
              "      <td>142.899994</td>\n",
              "      <td>142.691742</td>\n",
              "      <td>58718700.0</td>\n",
              "    </tr>\n",
              "    <tr>\n",
              "      <th>2021-10-09</th>\n",
              "      <td>NaN</td>\n",
              "      <td>NaN</td>\n",
              "      <td>NaN</td>\n",
              "      <td>NaN</td>\n",
              "      <td>NaN</td>\n",
              "      <td>NaN</td>\n",
              "    </tr>\n",
              "    <tr>\n",
              "      <th>2021-10-10</th>\n",
              "      <td>NaN</td>\n",
              "      <td>NaN</td>\n",
              "      <td>NaN</td>\n",
              "      <td>NaN</td>\n",
              "      <td>NaN</td>\n",
              "      <td>NaN</td>\n",
              "    </tr>\n",
              "    <tr>\n",
              "      <th>2021-10-11</th>\n",
              "      <td>142.270004</td>\n",
              "      <td>144.809998</td>\n",
              "      <td>141.809998</td>\n",
              "      <td>142.809998</td>\n",
              "      <td>142.601883</td>\n",
              "      <td>64452200.0</td>\n",
              "    </tr>\n",
              "    <tr>\n",
              "      <th>2021-10-12</th>\n",
              "      <td>143.229996</td>\n",
              "      <td>143.250000</td>\n",
              "      <td>141.039993</td>\n",
              "      <td>141.509995</td>\n",
              "      <td>141.303772</td>\n",
              "      <td>73035900.0</td>\n",
              "    </tr>\n",
              "    <tr>\n",
              "      <th>2021-10-13</th>\n",
              "      <td>141.240005</td>\n",
              "      <td>141.399994</td>\n",
              "      <td>139.199997</td>\n",
              "      <td>140.910004</td>\n",
              "      <td>140.704651</td>\n",
              "      <td>78762700.0</td>\n",
              "    </tr>\n",
              "    <tr>\n",
              "      <th>2021-10-14</th>\n",
              "      <td>142.110001</td>\n",
              "      <td>143.880005</td>\n",
              "      <td>141.509995</td>\n",
              "      <td>143.759995</td>\n",
              "      <td>143.550491</td>\n",
              "      <td>69907100.0</td>\n",
              "    </tr>\n",
              "    <tr>\n",
              "      <th>2021-10-15</th>\n",
              "      <td>143.770004</td>\n",
              "      <td>144.899994</td>\n",
              "      <td>143.509995</td>\n",
              "      <td>144.839996</td>\n",
              "      <td>144.628922</td>\n",
              "      <td>67885200.0</td>\n",
              "    </tr>\n",
              "    <tr>\n",
              "      <th>2021-10-16</th>\n",
              "      <td>NaN</td>\n",
              "      <td>NaN</td>\n",
              "      <td>NaN</td>\n",
              "      <td>NaN</td>\n",
              "      <td>NaN</td>\n",
              "      <td>NaN</td>\n",
              "    </tr>\n",
              "    <tr>\n",
              "      <th>2021-10-17</th>\n",
              "      <td>NaN</td>\n",
              "      <td>NaN</td>\n",
              "      <td>NaN</td>\n",
              "      <td>NaN</td>\n",
              "      <td>NaN</td>\n",
              "      <td>NaN</td>\n",
              "    </tr>\n",
              "    <tr>\n",
              "      <th>2021-10-18</th>\n",
              "      <td>143.449997</td>\n",
              "      <td>146.839996</td>\n",
              "      <td>143.160004</td>\n",
              "      <td>146.550003</td>\n",
              "      <td>146.336426</td>\n",
              "      <td>85589200.0</td>\n",
              "    </tr>\n",
              "    <tr>\n",
              "      <th>2021-10-19</th>\n",
              "      <td>147.009995</td>\n",
              "      <td>149.169998</td>\n",
              "      <td>146.550003</td>\n",
              "      <td>148.759995</td>\n",
              "      <td>148.543198</td>\n",
              "      <td>76378900.0</td>\n",
              "    </tr>\n",
              "    <tr>\n",
              "      <th>2021-10-20</th>\n",
              "      <td>148.699997</td>\n",
              "      <td>149.750000</td>\n",
              "      <td>148.119995</td>\n",
              "      <td>149.259995</td>\n",
              "      <td>149.042480</td>\n",
              "      <td>58418800.0</td>\n",
              "    </tr>\n",
              "    <tr>\n",
              "      <th>2021-10-21</th>\n",
              "      <td>148.809998</td>\n",
              "      <td>149.639999</td>\n",
              "      <td>147.869995</td>\n",
              "      <td>149.479996</td>\n",
              "      <td>149.262146</td>\n",
              "      <td>61421000.0</td>\n",
              "    </tr>\n",
              "    <tr>\n",
              "      <th>2021-10-22</th>\n",
              "      <td>149.690002</td>\n",
              "      <td>150.179993</td>\n",
              "      <td>148.639999</td>\n",
              "      <td>148.690002</td>\n",
              "      <td>148.473312</td>\n",
              "      <td>58883400.0</td>\n",
              "    </tr>\n",
              "    <tr>\n",
              "      <th>2021-10-23</th>\n",
              "      <td>NaN</td>\n",
              "      <td>NaN</td>\n",
              "      <td>NaN</td>\n",
              "      <td>NaN</td>\n",
              "      <td>NaN</td>\n",
              "      <td>NaN</td>\n",
              "    </tr>\n",
              "    <tr>\n",
              "      <th>2021-10-24</th>\n",
              "      <td>NaN</td>\n",
              "      <td>NaN</td>\n",
              "      <td>NaN</td>\n",
              "      <td>NaN</td>\n",
              "      <td>NaN</td>\n",
              "      <td>NaN</td>\n",
              "    </tr>\n",
              "    <tr>\n",
              "      <th>2021-10-25</th>\n",
              "      <td>148.679993</td>\n",
              "      <td>149.369995</td>\n",
              "      <td>147.619995</td>\n",
              "      <td>148.639999</td>\n",
              "      <td>148.423386</td>\n",
              "      <td>50720600.0</td>\n",
              "    </tr>\n",
              "    <tr>\n",
              "      <th>2021-10-26</th>\n",
              "      <td>149.330002</td>\n",
              "      <td>150.839996</td>\n",
              "      <td>149.009995</td>\n",
              "      <td>149.320007</td>\n",
              "      <td>149.102402</td>\n",
              "      <td>60893400.0</td>\n",
              "    </tr>\n",
              "    <tr>\n",
              "      <th>2021-10-27</th>\n",
              "      <td>149.360001</td>\n",
              "      <td>149.729996</td>\n",
              "      <td>148.490005</td>\n",
              "      <td>148.850006</td>\n",
              "      <td>148.633087</td>\n",
              "      <td>56094900.0</td>\n",
              "    </tr>\n",
              "    <tr>\n",
              "      <th>2021-10-28</th>\n",
              "      <td>149.820007</td>\n",
              "      <td>153.169998</td>\n",
              "      <td>149.720001</td>\n",
              "      <td>152.570007</td>\n",
              "      <td>152.347656</td>\n",
              "      <td>100077900.0</td>\n",
              "    </tr>\n",
              "    <tr>\n",
              "      <th>2021-10-29</th>\n",
              "      <td>147.220001</td>\n",
              "      <td>149.940002</td>\n",
              "      <td>146.410004</td>\n",
              "      <td>149.800003</td>\n",
              "      <td>149.581696</td>\n",
              "      <td>124850400.0</td>\n",
              "    </tr>\n",
              "  </tbody>\n",
              "</table>\n",
              "</div>"
            ],
            "text/plain": [
              "                  Open        High         Low       Close   Adj Close  \\\n",
              "2021-10-01  141.899994  142.919998  139.110001  142.649994  142.442108   \n",
              "2021-10-02         NaN         NaN         NaN         NaN         NaN   \n",
              "2021-10-03         NaN         NaN         NaN         NaN         NaN   \n",
              "2021-10-04  141.759995  142.210007  138.270004  139.139999  138.937225   \n",
              "2021-10-05  139.490005  142.240005  139.360001  141.110001  140.904358   \n",
              "2021-10-06  139.470001  142.149994  138.369995  142.000000  141.793060   \n",
              "2021-10-07  143.059998  144.220001  142.720001  143.289993  143.081177   \n",
              "2021-10-08  144.029999  144.179993  142.559998  142.899994  142.691742   \n",
              "2021-10-09         NaN         NaN         NaN         NaN         NaN   \n",
              "2021-10-10         NaN         NaN         NaN         NaN         NaN   \n",
              "2021-10-11  142.270004  144.809998  141.809998  142.809998  142.601883   \n",
              "2021-10-12  143.229996  143.250000  141.039993  141.509995  141.303772   \n",
              "2021-10-13  141.240005  141.399994  139.199997  140.910004  140.704651   \n",
              "2021-10-14  142.110001  143.880005  141.509995  143.759995  143.550491   \n",
              "2021-10-15  143.770004  144.899994  143.509995  144.839996  144.628922   \n",
              "2021-10-16         NaN         NaN         NaN         NaN         NaN   \n",
              "2021-10-17         NaN         NaN         NaN         NaN         NaN   \n",
              "2021-10-18  143.449997  146.839996  143.160004  146.550003  146.336426   \n",
              "2021-10-19  147.009995  149.169998  146.550003  148.759995  148.543198   \n",
              "2021-10-20  148.699997  149.750000  148.119995  149.259995  149.042480   \n",
              "2021-10-21  148.809998  149.639999  147.869995  149.479996  149.262146   \n",
              "2021-10-22  149.690002  150.179993  148.639999  148.690002  148.473312   \n",
              "2021-10-23         NaN         NaN         NaN         NaN         NaN   \n",
              "2021-10-24         NaN         NaN         NaN         NaN         NaN   \n",
              "2021-10-25  148.679993  149.369995  147.619995  148.639999  148.423386   \n",
              "2021-10-26  149.330002  150.839996  149.009995  149.320007  149.102402   \n",
              "2021-10-27  149.360001  149.729996  148.490005  148.850006  148.633087   \n",
              "2021-10-28  149.820007  153.169998  149.720001  152.570007  152.347656   \n",
              "2021-10-29  147.220001  149.940002  146.410004  149.800003  149.581696   \n",
              "\n",
              "                 Volume  \n",
              "2021-10-01   94639600.0  \n",
              "2021-10-02          NaN  \n",
              "2021-10-03          NaN  \n",
              "2021-10-04   98322000.0  \n",
              "2021-10-05   80861100.0  \n",
              "2021-10-06   83221100.0  \n",
              "2021-10-07   61732700.0  \n",
              "2021-10-08   58718700.0  \n",
              "2021-10-09          NaN  \n",
              "2021-10-10          NaN  \n",
              "2021-10-11   64452200.0  \n",
              "2021-10-12   73035900.0  \n",
              "2021-10-13   78762700.0  \n",
              "2021-10-14   69907100.0  \n",
              "2021-10-15   67885200.0  \n",
              "2021-10-16          NaN  \n",
              "2021-10-17          NaN  \n",
              "2021-10-18   85589200.0  \n",
              "2021-10-19   76378900.0  \n",
              "2021-10-20   58418800.0  \n",
              "2021-10-21   61421000.0  \n",
              "2021-10-22   58883400.0  \n",
              "2021-10-23          NaN  \n",
              "2021-10-24          NaN  \n",
              "2021-10-25   50720600.0  \n",
              "2021-10-26   60893400.0  \n",
              "2021-10-27   56094900.0  \n",
              "2021-10-28  100077900.0  \n",
              "2021-10-29  124850400.0  "
            ]
          },
          "execution_count": 50,
          "metadata": {},
          "output_type": "execute_result"
        }
      ],
      "source": [
        "df.asfreq('D')"
      ]
    },
    {
      "cell_type": "code",
      "execution_count": null,
      "id": "b3246165",
      "metadata": {
        "id": "b3246165",
        "outputId": "308aa7f5-555a-440c-81b4-2f262bb3415b"
      },
      "outputs": [
        {
          "data": {
            "text/html": [
              "<div>\n",
              "<style scoped>\n",
              "    .dataframe tbody tr th:only-of-type {\n",
              "        vertical-align: middle;\n",
              "    }\n",
              "\n",
              "    .dataframe tbody tr th {\n",
              "        vertical-align: top;\n",
              "    }\n",
              "\n",
              "    .dataframe thead th {\n",
              "        text-align: right;\n",
              "    }\n",
              "</style>\n",
              "<table border=\"1\" class=\"dataframe\">\n",
              "  <thead>\n",
              "    <tr style=\"text-align: right;\">\n",
              "      <th></th>\n",
              "      <th>Open</th>\n",
              "      <th>High</th>\n",
              "      <th>Low</th>\n",
              "      <th>Close</th>\n",
              "      <th>Adj Close</th>\n",
              "      <th>Volume</th>\n",
              "    </tr>\n",
              "  </thead>\n",
              "  <tbody>\n",
              "    <tr>\n",
              "      <th>2021-10-03</th>\n",
              "      <td>141.899994</td>\n",
              "      <td>142.919998</td>\n",
              "      <td>139.110001</td>\n",
              "      <td>142.649994</td>\n",
              "      <td>142.442108</td>\n",
              "      <td>94639600</td>\n",
              "    </tr>\n",
              "    <tr>\n",
              "      <th>2021-10-10</th>\n",
              "      <td>144.029999</td>\n",
              "      <td>144.179993</td>\n",
              "      <td>142.559998</td>\n",
              "      <td>142.899994</td>\n",
              "      <td>142.691742</td>\n",
              "      <td>58718700</td>\n",
              "    </tr>\n",
              "    <tr>\n",
              "      <th>2021-10-17</th>\n",
              "      <td>143.770004</td>\n",
              "      <td>144.899994</td>\n",
              "      <td>143.509995</td>\n",
              "      <td>144.839996</td>\n",
              "      <td>144.628922</td>\n",
              "      <td>67885200</td>\n",
              "    </tr>\n",
              "    <tr>\n",
              "      <th>2021-10-24</th>\n",
              "      <td>149.690002</td>\n",
              "      <td>150.179993</td>\n",
              "      <td>148.639999</td>\n",
              "      <td>148.690002</td>\n",
              "      <td>148.473312</td>\n",
              "      <td>58883400</td>\n",
              "    </tr>\n",
              "  </tbody>\n",
              "</table>\n",
              "</div>"
            ],
            "text/plain": [
              "                  Open        High         Low       Close   Adj Close  \\\n",
              "2021-10-03  141.899994  142.919998  139.110001  142.649994  142.442108   \n",
              "2021-10-10  144.029999  144.179993  142.559998  142.899994  142.691742   \n",
              "2021-10-17  143.770004  144.899994  143.509995  144.839996  144.628922   \n",
              "2021-10-24  149.690002  150.179993  148.639999  148.690002  148.473312   \n",
              "\n",
              "              Volume  \n",
              "2021-10-03  94639600  \n",
              "2021-10-10  58718700  \n",
              "2021-10-17  67885200  \n",
              "2021-10-24  58883400  "
            ]
          },
          "execution_count": 52,
          "metadata": {},
          "output_type": "execute_result"
        }
      ],
      "source": [
        "df.asfreq('W',method='pad')"
      ]
    },
    {
      "cell_type": "code",
      "execution_count": null,
      "id": "d60b9877",
      "metadata": {
        "id": "d60b9877",
        "outputId": "7e2ef57a-edee-4fd8-e160-f259d92a2ebd"
      },
      "outputs": [
        {
          "data": {
            "text/html": [
              "<div>\n",
              "<style scoped>\n",
              "    .dataframe tbody tr th:only-of-type {\n",
              "        vertical-align: middle;\n",
              "    }\n",
              "\n",
              "    .dataframe tbody tr th {\n",
              "        vertical-align: top;\n",
              "    }\n",
              "\n",
              "    .dataframe thead th {\n",
              "        text-align: right;\n",
              "    }\n",
              "</style>\n",
              "<table border=\"1\" class=\"dataframe\">\n",
              "  <thead>\n",
              "    <tr style=\"text-align: right;\">\n",
              "      <th></th>\n",
              "      <th>Open</th>\n",
              "      <th>High</th>\n",
              "      <th>Low</th>\n",
              "      <th>Close</th>\n",
              "      <th>Adj Close</th>\n",
              "      <th>Volume</th>\n",
              "    </tr>\n",
              "  </thead>\n",
              "  <tbody>\n",
              "  </tbody>\n",
              "</table>\n",
              "</div>"
            ],
            "text/plain": [
              "Empty DataFrame\n",
              "Columns: [Open, High, Low, Close, Adj Close, Volume]\n",
              "Index: []"
            ]
          },
          "execution_count": 53,
          "metadata": {},
          "output_type": "execute_result"
        }
      ],
      "source": [
        "df.asfreq('M',method='pad')"
      ]
    },
    {
      "cell_type": "markdown",
      "id": "e323c42a",
      "metadata": {
        "id": "e323c42a"
      },
      "source": [
        "## generating DatetimeIndex with periods argument"
      ]
    },
    {
      "cell_type": "code",
      "execution_count": null,
      "id": "cf9816e6",
      "metadata": {
        "id": "cf9816e6",
        "outputId": "e6406406-f1d5-4a0c-d84c-d28c59c73421"
      },
      "outputs": [
        {
          "data": {
            "text/plain": [
              "DatetimeIndex(['2021-10-01 00:00:00', '2021-10-01 01:00:00',\n",
              "               '2021-10-01 02:00:00', '2021-10-01 03:00:00',\n",
              "               '2021-10-01 04:00:00', '2021-10-01 05:00:00',\n",
              "               '2021-10-01 06:00:00', '2021-10-01 07:00:00',\n",
              "               '2021-10-01 08:00:00', '2021-10-01 09:00:00',\n",
              "               '2021-10-01 10:00:00', '2021-10-01 11:00:00',\n",
              "               '2021-10-01 12:00:00', '2021-10-01 13:00:00',\n",
              "               '2021-10-01 14:00:00', '2021-10-01 15:00:00',\n",
              "               '2021-10-01 16:00:00', '2021-10-01 17:00:00',\n",
              "               '2021-10-01 18:00:00', '2021-10-01 19:00:00',\n",
              "               '2021-10-01 20:00:00', '2021-10-01 21:00:00',\n",
              "               '2021-10-01 22:00:00', '2021-10-01 23:00:00',\n",
              "               '2021-10-02 00:00:00', '2021-10-02 01:00:00',\n",
              "               '2021-10-02 02:00:00', '2021-10-02 03:00:00',\n",
              "               '2021-10-02 04:00:00', '2021-10-02 05:00:00',\n",
              "               '2021-10-02 06:00:00', '2021-10-02 07:00:00',\n",
              "               '2021-10-02 08:00:00', '2021-10-02 09:00:00',\n",
              "               '2021-10-02 10:00:00', '2021-10-02 11:00:00',\n",
              "               '2021-10-02 12:00:00', '2021-10-02 13:00:00',\n",
              "               '2021-10-02 14:00:00', '2021-10-02 15:00:00',\n",
              "               '2021-10-02 16:00:00', '2021-10-02 17:00:00',\n",
              "               '2021-10-02 18:00:00', '2021-10-02 19:00:00',\n",
              "               '2021-10-02 20:00:00', '2021-10-02 21:00:00',\n",
              "               '2021-10-02 22:00:00', '2021-10-02 23:00:00',\n",
              "               '2021-10-03 00:00:00', '2021-10-03 01:00:00',\n",
              "               '2021-10-03 02:00:00', '2021-10-03 03:00:00',\n",
              "               '2021-10-03 04:00:00', '2021-10-03 05:00:00',\n",
              "               '2021-10-03 06:00:00', '2021-10-03 07:00:00',\n",
              "               '2021-10-03 08:00:00', '2021-10-03 09:00:00',\n",
              "               '2021-10-03 10:00:00', '2021-10-03 11:00:00',\n",
              "               '2021-10-03 12:00:00', '2021-10-03 13:00:00',\n",
              "               '2021-10-03 14:00:00', '2021-10-03 15:00:00',\n",
              "               '2021-10-03 16:00:00', '2021-10-03 17:00:00',\n",
              "               '2021-10-03 18:00:00', '2021-10-03 19:00:00',\n",
              "               '2021-10-03 20:00:00', '2021-10-03 21:00:00',\n",
              "               '2021-10-03 22:00:00', '2021-10-03 23:00:00'],\n",
              "              dtype='datetime64[ns]', freq='H')"
            ]
          },
          "execution_count": 54,
          "metadata": {},
          "output_type": "execute_result"
        }
      ],
      "source": [
        "rng = pd.date_range('10/01/2021', periods=72, freq='H')\n",
        "rng"
      ]
    },
    {
      "cell_type": "code",
      "execution_count": null,
      "id": "9d80a75e",
      "metadata": {
        "id": "9d80a75e",
        "outputId": "ed3a7453-1320-495c-c70b-9c786ab16dae"
      },
      "outputs": [
        {
          "data": {
            "text/plain": [
              "2021-10-01 00:00:00    0\n",
              "2021-10-01 01:00:00    6\n",
              "2021-10-01 02:00:00    6\n",
              "2021-10-01 03:00:00    4\n",
              "2021-10-01 04:00:00    2\n",
              "2021-10-01 05:00:00    9\n",
              "2021-10-01 06:00:00    4\n",
              "2021-10-01 07:00:00    3\n",
              "2021-10-01 08:00:00    9\n",
              "2021-10-01 09:00:00    8\n",
              "Freq: H, dtype: int32"
            ]
          },
          "execution_count": 57,
          "metadata": {},
          "output_type": "execute_result"
        }
      ],
      "source": [
        "import numpy as np\n",
        "ts = pd.Series(np.random.randint(0,10,len(rng)), index=rng)\n",
        "ts.head(10)"
      ]
    },
    {
      "cell_type": "code",
      "execution_count": null,
      "id": "4c33d53b",
      "metadata": {
        "id": "4c33d53b"
      },
      "outputs": [],
      "source": [
        ""
      ]
    },
    {
      "cell_type": "code",
      "execution_count": null,
      "id": "c4c3168c",
      "metadata": {
        "id": "c4c3168c"
      },
      "outputs": [],
      "source": [
        ""
      ]
    },
    {
      "cell_type": "code",
      "execution_count": null,
      "id": "d9d88725",
      "metadata": {
        "id": "d9d88725"
      },
      "outputs": [],
      "source": [
        ""
      ]
    },
    {
      "cell_type": "code",
      "execution_count": null,
      "id": "b98e2981",
      "metadata": {
        "id": "b98e2981"
      },
      "outputs": [],
      "source": [
        ""
      ]
    }
  ],
  "metadata": {
    "kernelspec": {
      "display_name": "Python 3 (ipykernel)",
      "language": "python",
      "name": "python3"
    },
    "language_info": {
      "codemirror_mode": {
        "name": "ipython",
        "version": 3
      },
      "file_extension": ".py",
      "mimetype": "text/x-python",
      "name": "python",
      "nbconvert_exporter": "python",
      "pygments_lexer": "ipython3",
      "version": "3.8.12"
    },
    "colab": {
      "name": "0.02 Pandas_TS (date_range).ipynb",
      "provenance": [],
      "include_colab_link": true
    }
  },
  "nbformat": 4,
  "nbformat_minor": 5
}