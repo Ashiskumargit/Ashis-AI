{
  "cells": [
    {
      "cell_type": "markdown",
      "metadata": {
        "id": "view-in-github",
        "colab_type": "text"
      },
      "source": [
        "<a href=\"https://colab.research.google.com/github/Ashiskumargit/Divine-AI-Data-Science/blob/main/TS/0_05_TS(_Period_%26_PeriodIndex_).ipynb\" target=\"_parent\"><img src=\"https://colab.research.google.com/assets/colab-badge.svg\" alt=\"Open In Colab\"/></a>"
      ]
    },
    {
      "cell_type": "markdown",
      "metadata": {
        "id": "kum8lzdO8qM6"
      },
      "source": [
        "<h1 style=\"color:blue\" align=\"center\">Pandas Time Series Analysis: Period and PeriodIndex</h1>"
      ]
    },
    {
      "cell_type": "markdown",
      "metadata": {
        "id": "H1m0sY4B8qNO"
      },
      "source": [
        "<h3 style=\"color:purple\">Yearly Period</h3>"
      ]
    },
    {
      "cell_type": "code",
      "execution_count": null,
      "metadata": {
        "scrolled": true,
        "id": "yjoyHTWo8qNR",
        "outputId": "d42f3a86-f4dc-43e4-c639-faa6fe8cc8e1"
      },
      "outputs": [
        {
          "data": {
            "text/plain": [
              "Period('2016', 'A-DEC')"
            ]
          },
          "execution_count": 1,
          "metadata": {},
          "output_type": "execute_result"
        }
      ],
      "source": [
        "import pandas as pd\n",
        "y = pd.Period('2016')\n",
        "y"
      ]
    },
    {
      "cell_type": "code",
      "execution_count": null,
      "metadata": {
        "id": "cp5SPqxn8qNa",
        "outputId": "26c41033-e15e-48ef-9a94-11e15dfbc19f"
      },
      "outputs": [
        {
          "data": {
            "text/plain": [
              "['__add__',\n",
              " '__class__',\n",
              " '__delattr__',\n",
              " '__dict__',\n",
              " '__dir__',\n",
              " '__doc__',\n",
              " '__eq__',\n",
              " '__format__',\n",
              " '__ge__',\n",
              " '__getattribute__',\n",
              " '__gt__',\n",
              " '__hash__',\n",
              " '__init__',\n",
              " '__init_subclass__',\n",
              " '__le__',\n",
              " '__lt__',\n",
              " '__module__',\n",
              " '__ne__',\n",
              " '__new__',\n",
              " '__pyx_vtable__',\n",
              " '__radd__',\n",
              " '__reduce__',\n",
              " '__reduce_ex__',\n",
              " '__repr__',\n",
              " '__rsub__',\n",
              " '__setattr__',\n",
              " '__setstate__',\n",
              " '__sizeof__',\n",
              " '__str__',\n",
              " '__sub__',\n",
              " '__subclasshook__',\n",
              " '__weakref__',\n",
              " '_add_offset',\n",
              " '_add_timedeltalike_scalar',\n",
              " '_dtype',\n",
              " '_from_ordinal',\n",
              " '_get_to_timestamp_base',\n",
              " '_maybe_convert_freq',\n",
              " '_require_matching_freq',\n",
              " 'asfreq',\n",
              " 'day',\n",
              " 'day_of_week',\n",
              " 'day_of_year',\n",
              " 'dayofweek',\n",
              " 'dayofyear',\n",
              " 'days_in_month',\n",
              " 'daysinmonth',\n",
              " 'end_time',\n",
              " 'freq',\n",
              " 'freqstr',\n",
              " 'hour',\n",
              " 'is_leap_year',\n",
              " 'minute',\n",
              " 'month',\n",
              " 'now',\n",
              " 'ordinal',\n",
              " 'quarter',\n",
              " 'qyear',\n",
              " 'second',\n",
              " 'start_time',\n",
              " 'strftime',\n",
              " 'to_timestamp',\n",
              " 'week',\n",
              " 'weekday',\n",
              " 'weekofyear',\n",
              " 'year']"
            ]
          },
          "execution_count": 2,
          "metadata": {},
          "output_type": "execute_result"
        }
      ],
      "source": [
        "dir(y)"
      ]
    },
    {
      "cell_type": "code",
      "execution_count": null,
      "metadata": {
        "id": "brIXwCZz8qNd",
        "outputId": "1a3dbe00-e168-4fd2-cf7e-fb40cc37bbb2"
      },
      "outputs": [
        {
          "data": {
            "text/plain": [
              "Timestamp('2016-01-01 00:00:00')"
            ]
          },
          "execution_count": 3,
          "metadata": {},
          "output_type": "execute_result"
        }
      ],
      "source": [
        "y.start_time"
      ]
    },
    {
      "cell_type": "code",
      "execution_count": null,
      "metadata": {
        "scrolled": true,
        "id": "i3fN3rp58qNf",
        "outputId": "fa03eff3-21e0-400f-93e7-6ac66b456c5a"
      },
      "outputs": [
        {
          "data": {
            "text/plain": [
              "Timestamp('2016-12-31 23:59:59.999999999')"
            ]
          },
          "execution_count": 5,
          "metadata": {},
          "output_type": "execute_result"
        }
      ],
      "source": [
        "y.end_time"
      ]
    },
    {
      "cell_type": "code",
      "execution_count": null,
      "metadata": {
        "id": "skGQL8Wr8qNh",
        "outputId": "0556f9ff-ada5-4a66-fd14-13264096a0ea"
      },
      "outputs": [
        {
          "data": {
            "text/plain": [
              "True"
            ]
          },
          "execution_count": 6,
          "metadata": {},
          "output_type": "execute_result"
        }
      ],
      "source": [
        "y.is_leap_year"
      ]
    },
    {
      "cell_type": "markdown",
      "metadata": {
        "id": "MIEDPrkM8qNl"
      },
      "source": [
        "<h3 style=\"color:purple\">Monthly Period</h3>"
      ]
    },
    {
      "cell_type": "code",
      "execution_count": null,
      "metadata": {
        "id": "3yQaOLhI8qNo",
        "outputId": "cb002610-5be1-492b-aa96-47222558fe12"
      },
      "outputs": [
        {
          "data": {
            "text/plain": [
              "Period('2017-12', 'M')"
            ]
          },
          "execution_count": 28,
          "metadata": {},
          "output_type": "execute_result"
        }
      ],
      "source": [
        "m = pd.Period('2017-12')\n",
        "m"
      ]
    },
    {
      "cell_type": "code",
      "execution_count": null,
      "metadata": {
        "id": "e10fSop48qNr",
        "outputId": "fb4110d0-16a5-440b-c82b-442b2f7d78d0"
      },
      "outputs": [
        {
          "data": {
            "text/plain": [
              "Timestamp('2017-12-01 00:00:00')"
            ]
          },
          "execution_count": 29,
          "metadata": {},
          "output_type": "execute_result"
        }
      ],
      "source": [
        "m.start_time"
      ]
    },
    {
      "cell_type": "code",
      "execution_count": null,
      "metadata": {
        "scrolled": true,
        "id": "5oGIfenq8qNu",
        "outputId": "c90b5eb2-8e9b-4ba9-aeaf-7830360b431f"
      },
      "outputs": [
        {
          "data": {
            "text/plain": [
              "Timestamp('2017-12-31 23:59:59.999999999')"
            ]
          },
          "execution_count": 54,
          "metadata": {},
          "output_type": "execute_result"
        }
      ],
      "source": [
        "m.end_time"
      ]
    },
    {
      "cell_type": "code",
      "execution_count": null,
      "metadata": {
        "scrolled": true,
        "id": "VT3axc8m8qNw",
        "outputId": "7001d6de-a759-4e61-c70e-6d90d626addd"
      },
      "outputs": [
        {
          "data": {
            "text/plain": [
              "Period('2018-01', 'M')"
            ]
          },
          "execution_count": 55,
          "metadata": {},
          "output_type": "execute_result"
        }
      ],
      "source": [
        "m+1"
      ]
    },
    {
      "cell_type": "markdown",
      "metadata": {
        "id": "pYhMUr2E8qNz"
      },
      "source": [
        "<h3 style=\"color:purple\">Daily Period</h3>"
      ]
    },
    {
      "cell_type": "code",
      "execution_count": null,
      "metadata": {
        "scrolled": true,
        "id": "e5-giufk8qN0",
        "outputId": "557af14b-8ecb-4bf7-dc1d-14b379030e1d"
      },
      "outputs": [
        {
          "data": {
            "text/plain": [
              "Period('2022-01-28', 'D')"
            ]
          },
          "execution_count": 36,
          "metadata": {},
          "output_type": "execute_result"
        }
      ],
      "source": [
        "d = pd.Period('2022-01-28', freq='D')\n",
        "d"
      ]
    },
    {
      "cell_type": "code",
      "execution_count": null,
      "metadata": {
        "scrolled": true,
        "id": "0r7AcAx38qN2",
        "outputId": "3797edaa-4fe8-458f-d731-2844713c04ef"
      },
      "outputs": [
        {
          "data": {
            "text/plain": [
              "Timestamp('2022-01-28 00:00:00')"
            ]
          },
          "execution_count": 37,
          "metadata": {},
          "output_type": "execute_result"
        }
      ],
      "source": [
        "d.start_time"
      ]
    },
    {
      "cell_type": "code",
      "execution_count": null,
      "metadata": {
        "scrolled": false,
        "id": "hz9PSeGt8qN4",
        "outputId": "2786817f-2b36-4798-ab94-e4b52baa0969"
      },
      "outputs": [
        {
          "data": {
            "text/plain": [
              "Timestamp('2022-01-28 23:59:59.999999999')"
            ]
          },
          "execution_count": 38,
          "metadata": {},
          "output_type": "execute_result"
        }
      ],
      "source": [
        "d.end_time"
      ]
    },
    {
      "cell_type": "code",
      "execution_count": null,
      "metadata": {
        "scrolled": true,
        "id": "2ZVCHlLU8qN6",
        "outputId": "7697d5da-72f7-41e5-e2ed-6ed61e8593f8"
      },
      "outputs": [
        {
          "data": {
            "text/plain": [
              "Period('2022-01-29', 'D')"
            ]
          },
          "execution_count": 42,
          "metadata": {},
          "output_type": "execute_result"
        }
      ],
      "source": [
        "d+1 "
      ]
    },
    {
      "cell_type": "code",
      "execution_count": null,
      "metadata": {
        "id": "R3jIxYUd8qN9"
      },
      "outputs": [],
      "source": [
        "#d+pd.offsets.Day(1)"
      ]
    },
    {
      "cell_type": "markdown",
      "metadata": {
        "id": "3kA7ZLoN8qN_"
      },
      "source": [
        "<h3 style=\"color:purple\">Hourly Period</h3>"
      ]
    },
    {
      "cell_type": "code",
      "execution_count": null,
      "metadata": {
        "scrolled": true,
        "id": "UaYAb-5l8qOA",
        "outputId": "1529c268-a343-475d-b0cc-9acb03a8d6bc"
      },
      "outputs": [
        {
          "data": {
            "text/plain": [
              "Period('2022-01-28 23:00', 'H')"
            ]
          },
          "execution_count": 44,
          "metadata": {},
          "output_type": "execute_result"
        }
      ],
      "source": [
        "h = pd.Period('2022-01-28 23:34:00',freq='H')\n",
        "h"
      ]
    },
    {
      "cell_type": "code",
      "execution_count": null,
      "metadata": {
        "scrolled": true,
        "id": "t19PLtk28qOC",
        "outputId": "cd2f12ae-e841-46dc-ea68-5a1945b978b0"
      },
      "outputs": [
        {
          "data": {
            "text/plain": [
              "Period('2022-01-29 00:00', 'H')"
            ]
          },
          "execution_count": 45,
          "metadata": {},
          "output_type": "execute_result"
        }
      ],
      "source": [
        "h+1"
      ]
    },
    {
      "cell_type": "markdown",
      "metadata": {
        "id": "1hen-Oat8qOE"
      },
      "source": [
        "<h4>Achieve same results using pandas offsets hour</h4>"
      ]
    },
    {
      "cell_type": "code",
      "execution_count": null,
      "metadata": {
        "scrolled": true,
        "id": "PmAesLL-8qOF",
        "outputId": "a8451af3-6e52-419d-8b07-c9acbe91bb2d"
      },
      "outputs": [
        {
          "data": {
            "text/plain": [
              "Period('2022-01-29 00:00', 'H')"
            ]
          },
          "execution_count": 46,
          "metadata": {},
          "output_type": "execute_result"
        }
      ],
      "source": [
        "h+pd.offsets.Hour(1)"
      ]
    },
    {
      "cell_type": "markdown",
      "metadata": {
        "id": "_Pc1Q4ya8qOH"
      },
      "source": [
        "<h3 style=\"color:purple\">Quarterly Period</h3>"
      ]
    },
    {
      "cell_type": "code",
      "execution_count": null,
      "metadata": {
        "id": "GACEl8y_8qOI",
        "outputId": "baa5145a-d039-4dec-a52c-08ac1e35c61c"
      },
      "outputs": [
        {
          "data": {
            "text/plain": [
              "Period('2017Q1', 'Q-JAN')"
            ]
          },
          "execution_count": 63,
          "metadata": {},
          "output_type": "execute_result"
        }
      ],
      "source": [
        "q1= pd.Period('2017Q1', freq='Q-JAN')\n",
        "q1"
      ]
    },
    {
      "cell_type": "code",
      "execution_count": null,
      "metadata": {
        "id": "ZG58j1Pu8qOK",
        "outputId": "048f5d70-55d9-47c4-ee11-94339ce91e1d"
      },
      "outputs": [
        {
          "data": {
            "text/plain": [
              "Timestamp('2016-02-01 00:00:00')"
            ]
          },
          "execution_count": 64,
          "metadata": {},
          "output_type": "execute_result"
        }
      ],
      "source": [
        "q1.start_time"
      ]
    },
    {
      "cell_type": "code",
      "execution_count": null,
      "metadata": {
        "scrolled": false,
        "id": "GQ2efByX8qOL",
        "outputId": "fa6de614-7e7f-4ab4-a95c-673aed822aaa"
      },
      "outputs": [
        {
          "data": {
            "text/plain": [
              "Timestamp('2016-04-30 23:59:59.999999999')"
            ]
          },
          "execution_count": 65,
          "metadata": {},
          "output_type": "execute_result"
        }
      ],
      "source": [
        "q1.end_time"
      ]
    },
    {
      "cell_type": "markdown",
      "metadata": {
        "id": "jJR3GAEc8qOM"
      },
      "source": [
        "<h4>Use asfreq to convert period to a different frequency</h4>"
      ]
    },
    {
      "cell_type": "code",
      "execution_count": null,
      "metadata": {
        "scrolled": true,
        "id": "WLVkHGqa8qON",
        "outputId": "cd351924-3d2c-4c53-c398-3301e7636c8e"
      },
      "outputs": [
        {
          "data": {
            "text/plain": [
              "Period('2016-02', 'M')"
            ]
          },
          "execution_count": 66,
          "metadata": {},
          "output_type": "execute_result"
        }
      ],
      "source": [
        "q1.asfreq('M',how='start')"
      ]
    },
    {
      "cell_type": "code",
      "execution_count": null,
      "metadata": {
        "id": "vK_JMTEg8qOP",
        "outputId": "e9cce70b-47af-4a0a-e94a-0c0e41c035d3"
      },
      "outputs": [
        {
          "data": {
            "text/plain": [
              "Period('2016-04', 'M')"
            ]
          },
          "execution_count": 67,
          "metadata": {},
          "output_type": "execute_result"
        }
      ],
      "source": [
        "q1.asfreq('M',how='end')"
      ]
    },
    {
      "cell_type": "markdown",
      "metadata": {
        "id": "SAmyXKL98qOQ"
      },
      "source": [
        "<h3 style=\"color:purple\">Weekly Period</h3>"
      ]
    },
    {
      "cell_type": "code",
      "execution_count": null,
      "metadata": {
        "scrolled": true,
        "id": "XN41BHpm8qOR",
        "outputId": "ea21e760-9db9-41d2-d376-5b0b7afedc70"
      },
      "outputs": [
        {
          "data": {
            "text/plain": [
              "Period('2022-01-24/2022-01-30', 'W-SUN')"
            ]
          },
          "execution_count": 78,
          "metadata": {},
          "output_type": "execute_result"
        }
      ],
      "source": [
        "w = pd.Period('2022-01-27',freq='W')\n",
        "w"
      ]
    },
    {
      "cell_type": "code",
      "execution_count": null,
      "metadata": {
        "id": "q59qINJ-8qOS",
        "outputId": "7787be3f-bad7-4d51-da8a-201748e82600"
      },
      "outputs": [
        {
          "data": {
            "text/plain": [
              "Timestamp('2022-01-24 00:00:00')"
            ]
          },
          "execution_count": 79,
          "metadata": {},
          "output_type": "execute_result"
        }
      ],
      "source": [
        "w.start_time"
      ]
    },
    {
      "cell_type": "code",
      "execution_count": null,
      "metadata": {
        "id": "pbTYI_Os8qOT",
        "outputId": "3dc3960b-9680-4df7-c1fb-da048aa4ead7"
      },
      "outputs": [
        {
          "data": {
            "text/plain": [
              "Timestamp('2022-01-30 23:59:59.999999999')"
            ]
          },
          "execution_count": 80,
          "metadata": {},
          "output_type": "execute_result"
        }
      ],
      "source": [
        "w.end_time"
      ]
    },
    {
      "cell_type": "code",
      "execution_count": null,
      "metadata": {
        "id": "G0TyoKCO8qOU",
        "outputId": "7cdc8700-1178-45c4-90af-f0b91daec859"
      },
      "outputs": [
        {
          "data": {
            "text/plain": [
              "Period('2022-01-17/2022-01-23', 'W-SUN')"
            ]
          },
          "execution_count": 81,
          "metadata": {},
          "output_type": "execute_result"
        }
      ],
      "source": [
        "w-1"
      ]
    },
    {
      "cell_type": "code",
      "execution_count": null,
      "metadata": {
        "scrolled": true,
        "id": "BFY9V9oh8qOV",
        "outputId": "b7ec7141-d373-4965-ed0f-a6c622e73af5"
      },
      "outputs": [
        {
          "data": {
            "text/plain": [
              "Period('2022-01-31/2022-02-06', 'W-SUN')"
            ]
          },
          "execution_count": 82,
          "metadata": {},
          "output_type": "execute_result"
        }
      ],
      "source": [
        "w2 = pd.Period('2022-02-05',freq='W')\n",
        "w2"
      ]
    },
    {
      "cell_type": "code",
      "execution_count": null,
      "metadata": {
        "scrolled": false,
        "id": "lNeFjvW18qOY",
        "outputId": "42371ebd-9bf9-49a7-a91a-257628d3ee74"
      },
      "outputs": [
        {
          "data": {
            "text/plain": [
              "<Week: weekday=6>"
            ]
          },
          "execution_count": 83,
          "metadata": {},
          "output_type": "execute_result"
        }
      ],
      "source": [
        "w2-w"
      ]
    },
    {
      "cell_type": "markdown",
      "metadata": {
        "id": "gBPUuzC68qOZ"
      },
      "source": [
        "<h3 style=\"color:purple\">PeriodIndex and period_range</h3>"
      ]
    },
    {
      "cell_type": "code",
      "execution_count": null,
      "metadata": {
        "scrolled": true,
        "id": "tIrkJr1-8qOa"
      },
      "outputs": [],
      "source": [
        "r = pd.period_range('2011', '2017', freq='q')\n",
        "r"
      ]
    },
    {
      "cell_type": "code",
      "execution_count": null,
      "metadata": {
        "scrolled": true,
        "id": "70ZONFue8qOb"
      },
      "outputs": [],
      "source": [
        "r[0].start_time"
      ]
    },
    {
      "cell_type": "code",
      "execution_count": null,
      "metadata": {
        "id": "0ohIPUbd8qOb"
      },
      "outputs": [],
      "source": [
        "r[0].end_time"
      ]
    },
    {
      "cell_type": "markdown",
      "metadata": {
        "id": "x0iYutMP8qOc"
      },
      "source": [
        "**Walmart's fiscal year ends in Jan, below is how you generate walmart's fiscal quarters between 2011 and 2017**"
      ]
    },
    {
      "cell_type": "code",
      "execution_count": null,
      "metadata": {
        "id": "Ra4UM0mO8qOd"
      },
      "outputs": [],
      "source": [
        "r = pd.period_range('2011', '2017', freq='q-jan')\n",
        "r"
      ]
    },
    {
      "cell_type": "code",
      "execution_count": null,
      "metadata": {
        "id": "U1q8q4Ta8qOe"
      },
      "outputs": [],
      "source": [
        "r[0].start_time"
      ]
    },
    {
      "cell_type": "code",
      "execution_count": null,
      "metadata": {
        "scrolled": true,
        "id": "Vicrp4nX8qOf"
      },
      "outputs": [],
      "source": [
        "r[0].end_time"
      ]
    },
    {
      "cell_type": "code",
      "execution_count": null,
      "metadata": {
        "scrolled": false,
        "id": "Zy7rYPi38qOg"
      },
      "outputs": [],
      "source": [
        "r = pd.PeriodIndex(start='2016-01', freq='3M', periods=10)\n",
        "r"
      ]
    },
    {
      "cell_type": "code",
      "execution_count": null,
      "metadata": {
        "scrolled": false,
        "id": "2-GLqYuE8qOh"
      },
      "outputs": [],
      "source": [
        "import numpy as np\n",
        "ps = pd.Series(np.random.randn(len(idx)), idx)\n",
        "ps"
      ]
    },
    {
      "cell_type": "markdown",
      "metadata": {
        "id": "u27P05Kp8qOi"
      },
      "source": [
        "<h4>Partial Indexing</h4>"
      ]
    },
    {
      "cell_type": "code",
      "execution_count": null,
      "metadata": {
        "scrolled": true,
        "id": "WonXZEyZ8qOj"
      },
      "outputs": [],
      "source": [
        "ps['2016']"
      ]
    },
    {
      "cell_type": "code",
      "execution_count": null,
      "metadata": {
        "scrolled": false,
        "id": "YtaJ5dXy8qOk"
      },
      "outputs": [],
      "source": [
        "ps['2016':'2017']"
      ]
    },
    {
      "cell_type": "markdown",
      "metadata": {
        "id": "-B_Xj_7S8qOl"
      },
      "source": [
        "<h4>Converting between representations</h4>"
      ]
    },
    {
      "cell_type": "code",
      "execution_count": null,
      "metadata": {
        "id": "FLfq01qF8qOm"
      },
      "outputs": [],
      "source": [
        "pst = ps.to_timestamp()\n",
        "pst"
      ]
    },
    {
      "cell_type": "code",
      "execution_count": null,
      "metadata": {
        "id": "NlkNiewt8qOm"
      },
      "outputs": [],
      "source": [
        "pst.index"
      ]
    },
    {
      "cell_type": "code",
      "execution_count": null,
      "metadata": {
        "id": "CnU0zeXF8qOn"
      },
      "outputs": [],
      "source": [
        "ps = pst.to_period()\n",
        "ps"
      ]
    },
    {
      "cell_type": "code",
      "execution_count": null,
      "metadata": {
        "id": "unOqHBzi8qOo"
      },
      "outputs": [],
      "source": [
        "ps.index"
      ]
    },
    {
      "cell_type": "markdown",
      "metadata": {
        "id": "CjQXSSwI8qOp"
      },
      "source": [
        "<h3 style=\"color:purple\">Processing Wal Mart's Financials</h3>"
      ]
    },
    {
      "cell_type": "code",
      "execution_count": null,
      "metadata": {
        "scrolled": true,
        "id": "SMzPYj8K8qOq"
      },
      "outputs": [],
      "source": [
        "import pandas as pd\n",
        "df = pd.read_csv(\"wmt.csv\")\n",
        "df"
      ]
    },
    {
      "cell_type": "code",
      "execution_count": null,
      "metadata": {
        "scrolled": true,
        "id": "VUyGAcF58qOs"
      },
      "outputs": [],
      "source": [
        "df.set_index(\"Line Item\",inplace=True)\n",
        "df = df.T\n",
        "df"
      ]
    },
    {
      "cell_type": "code",
      "execution_count": null,
      "metadata": {
        "scrolled": true,
        "id": "hg5StLQK8qOt"
      },
      "outputs": [],
      "source": [
        "df.index = pd.PeriodIndex(df.index, freq=\"Q-JAN\")\n",
        "df"
      ]
    },
    {
      "cell_type": "code",
      "execution_count": null,
      "metadata": {
        "id": "CeSKmcbx8qOt"
      },
      "outputs": [],
      "source": [
        "df.index"
      ]
    },
    {
      "cell_type": "code",
      "execution_count": null,
      "metadata": {
        "scrolled": false,
        "id": "7rUxJMqE8qOu"
      },
      "outputs": [],
      "source": [
        "df.index[0].start_time"
      ]
    },
    {
      "cell_type": "markdown",
      "metadata": {
        "id": "FP5D4W2E8qOv"
      },
      "source": [
        "<h4 style=\"color:green\">Add start date end date columns to dataframe</h4>"
      ]
    },
    {
      "cell_type": "code",
      "execution_count": null,
      "metadata": {
        "id": "BO-5qVDd8qOw"
      },
      "outputs": [],
      "source": [
        "df[\"Start Date\"]=df.index.map(lambda x: x.start_time)\n",
        "df"
      ]
    },
    {
      "cell_type": "code",
      "execution_count": null,
      "metadata": {
        "id": "wbPaRusj8qOx"
      },
      "outputs": [],
      "source": [
        "df[\"End Date\"]=df.index.map(lambda x: x.end_time)\n",
        "df"
      ]
    }
  ],
  "metadata": {
    "anaconda-cloud": {},
    "kernelspec": {
      "display_name": "Python 3 (ipykernel)",
      "language": "python",
      "name": "python3"
    },
    "language_info": {
      "codemirror_mode": {
        "name": "ipython",
        "version": 3
      },
      "file_extension": ".py",
      "mimetype": "text/x-python",
      "name": "python",
      "nbconvert_exporter": "python",
      "pygments_lexer": "ipython3",
      "version": "3.8.12"
    },
    "colab": {
      "name": "0.05 TS( Period & PeriodIndex ).ipynb",
      "provenance": [],
      "include_colab_link": true
    }
  },
  "nbformat": 4,
  "nbformat_minor": 0
}