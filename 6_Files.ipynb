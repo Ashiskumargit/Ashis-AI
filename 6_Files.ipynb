{
  "cells": [
    {
      "cell_type": "markdown",
      "metadata": {
        "id": "view-in-github",
        "colab_type": "text"
      },
      "source": [
        "<a href=\"https://colab.research.google.com/github/Ashiskumargit/Divine-AI-Data-Science/blob/main/6_Files.ipynb\" target=\"_parent\"><img src=\"https://colab.research.google.com/assets/colab-badge.svg\" alt=\"Open In Colab\"/></a>"
      ]
    },
    {
      "cell_type": "markdown",
      "id": "fd62023e",
      "metadata": {
        "id": "fd62023e"
      },
      "source": [
        "# File Handling in Python "
      ]
    },
    {
      "cell_type": "code",
      "execution_count": null,
      "id": "57142da4",
      "metadata": {
        "id": "57142da4"
      },
      "outputs": [],
      "source": [
        "import os\n",
        "print(os.getcwd())"
      ]
    },
    {
      "cell_type": "markdown",
      "id": "47150693",
      "metadata": {
        "id": "47150693"
      },
      "source": [
        "### Working of open() function\n",
        "\n",
        "Before performing any operation on the file like read or write, first we have to open that file. For this, we should use Python’s inbuilt function open()"
      ]
    },
    {
      "cell_type": "code",
      "execution_count": null,
      "id": "4b3e502d",
      "metadata": {
        "id": "4b3e502d"
      },
      "outputs": [],
      "source": [
        "path = \"test.txt\"\n",
        "fhand = open( path )"
      ]
    },
    {
      "cell_type": "code",
      "execution_count": null,
      "id": "64a2ecb1",
      "metadata": {
        "id": "64a2ecb1"
      },
      "outputs": [],
      "source": [
        "fhand = open('test.txt')\n",
        "count = 0\n",
        "for line in fhand: \n",
        "    count = count + 1\n",
        "print('Line Count:', count)"
      ]
    },
    {
      "cell_type": "raw",
      "id": "2bff0cff",
      "metadata": {
        "id": "2bff0cff"
      },
      "source": [
        "But at the time of opening, we have to specify the mode, which represents the purpose of the opening file.\n",
        "\n",
        "f = open(filename, mode)\n",
        "\n",
        "Where the following mode is supported:"
      ]
    },
    {
      "cell_type": "code",
      "execution_count": null,
      "id": "79ad0db9",
      "metadata": {
        "id": "79ad0db9"
      },
      "outputs": [],
      "source": [
        " # open for reading, default\n",
        "fhand = open('test.txt','r')\n",
        "print(fhand.read())\n",
        "fhand.close()"
      ]
    },
    {
      "cell_type": "markdown",
      "id": "4e1dac1c",
      "metadata": {
        "id": "4e1dac1c"
      },
      "source": [
        "Another way to read a file is to call a certain number of characters like in the following code the interpreter will read the first five characters of stored data and return it as a string: "
      ]
    },
    {
      "cell_type": "code",
      "execution_count": null,
      "id": "883ba82b",
      "metadata": {
        "id": "883ba82b"
      },
      "outputs": [],
      "source": [
        "fhand = open('test.txt','r')\n",
        "print(fhand.read(12))\n",
        "fhand.close()"
      ]
    },
    {
      "cell_type": "code",
      "execution_count": null,
      "id": "1838508a",
      "metadata": {
        "id": "1838508a"
      },
      "outputs": [],
      "source": [
        " # open for writing (existing files will be overwritten)\n",
        "fhand = open( \"test.txt\", \"w\" )\n",
        "fhand.write(\"the file is reset,\\n resulting\\n in delection of any data\\n \")\n",
        "fhand.write(\"already present in file....\")\n",
        "fhand.close()"
      ]
    },
    {
      "cell_type": "code",
      "execution_count": null,
      "id": "2bfda709",
      "metadata": {
        "id": "2bfda709"
      },
      "outputs": [],
      "source": [
        "# open for appending\n",
        "fhand = open( \"test.txt\", \"a\" )\n",
        "fhand.write(\"\\n Append or add data \\n to the existing data of file, if any...\")\n",
        "fhand.close()"
      ]
    },
    {
      "cell_type": "code",
      "execution_count": null,
      "id": "5b163dbf",
      "metadata": {
        "id": "5b163dbf"
      },
      "outputs": [],
      "source": [
        ""
      ]
    },
    {
      "cell_type": "code",
      "execution_count": null,
      "id": "24debb10",
      "metadata": {
        "id": "24debb10"
      },
      "outputs": [],
      "source": [
        "# everything\n",
        "fhand = open( \"test.txt\" )\n",
        "print(fhand.read())\n",
        "fhand.close()"
      ]
    },
    {
      "cell_type": "code",
      "execution_count": null,
      "id": "01060a2a",
      "metadata": {
        "id": "01060a2a"
      },
      "outputs": [],
      "source": [
        "# one line at a time\n",
        "fhand = open( \"test.txt\" )\n",
        "print(\"1st line:\", fhand.readline())\n",
        "print(\"2nd line:\", fhand.readline())\n",
        "print(\"3rd line:\", fhand.readline())\n",
        "print(\"4th line:\", fhand.readline())\n",
        "print(\"5th line:\", fhand.readline())\n",
        "print(\"6th line:\", fhand.readline())\n",
        "print(\"7th line:\", fhand.readline())\n",
        "fhand.close()"
      ]
    },
    {
      "cell_type": "code",
      "execution_count": null,
      "id": "b5f5e2ae",
      "metadata": {
        "id": "b5f5e2ae"
      },
      "outputs": [],
      "source": [
        "# all lines\n",
        "fhand = open( \"test.txt\" )\n",
        "\n",
        "lines = fhand.readlines()\n",
        "print(type(lines))\n",
        "\n",
        "print(\"The file has\", len(lines), \"lines\")\n",
        "\n",
        "fileObj.close()"
      ]
    },
    {
      "cell_type": "code",
      "execution_count": null,
      "id": "35b4f097",
      "metadata": {
        "id": "35b4f097"
      },
      "outputs": [],
      "source": [
        "# as an iterable\n",
        "fileObj = open( \"test.txt\" )\n",
        "lines = fileObj.readlines()\n",
        "print(type(lines))\n",
        "for line in lines:\n",
        "    print(line.lstrip().upper())\n",
        "fileObj.close()\n"
      ]
    },
    {
      "cell_type": "code",
      "execution_count": null,
      "id": "d0a023ff",
      "metadata": {
        "id": "d0a023ff"
      },
      "outputs": [],
      "source": [
        "# as an iterable\n",
        "fileObj = open( \"test.txt\" )\n",
        "lines = fileObj.readlines()\n",
        "print(type(lines))\n",
        "for line in lines:\n",
        "    print(line.rstrip().upper())\n",
        "fileObj.close()"
      ]
    },
    {
      "cell_type": "code",
      "execution_count": null,
      "id": "8c657728",
      "metadata": {
        "id": "8c657728"
      },
      "outputs": [],
      "source": [
        "\n",
        "# WAP to print only \"S\" in \"RESULTING\"\n",
        "# WAP to print only \"I\" in \"I AM FINE\""
      ]
    },
    {
      "cell_type": "code",
      "execution_count": null,
      "id": "5d4a8826",
      "metadata": {
        "id": "5d4a8826"
      },
      "outputs": [],
      "source": [
        "fileObj = open( \"test.txt\" )\n",
        "print(\"1st line:\", fileObj.readline())\n",
        "print(\"2nd line:\", fileObj.readline(4).upper())\n",
        "fileObj.close()"
      ]
    },
    {
      "cell_type": "code",
      "execution_count": null,
      "id": "02cab14a",
      "metadata": {
        "id": "02cab14a"
      },
      "outputs": [],
      "source": [
        ""
      ]
    },
    {
      "cell_type": "code",
      "execution_count": null,
      "id": "62f46999",
      "metadata": {
        "id": "62f46999",
        "outputId": "800b929d-f2fb-418a-fc21-958a7b6f332a"
      },
      "outputs": [
        {
          "name": "stdout",
          "output_type": "stream",
          "text": [
            " 1 : 'the file is reset,\\n' \n",
            " 2 : ' resulting\\n' \n",
            " 3 : ' in delection of any data\\n' \n",
            " 4 : ' already present in file....\\n' \n",
            " 5 : ' Append or add data \\n' \n",
            " 6 : ' to the existing data of file, if any...' \n"
          ]
        }
      ],
      "source": [
        "# fileObj will be closed when leaving the block # enumerate= pariganana bibarani\n",
        "with open( \"test.txt\" ) as fileObj:\n",
        "    for ( i, line ) in enumerate( fileObj, start = 1 ):\n",
        "        print(\" %s : %r \" % ( i, line ))"
      ]
    },
    {
      "cell_type": "code",
      "execution_count": null,
      "id": "39c4a239",
      "metadata": {
        "id": "39c4a239"
      },
      "outputs": [],
      "source": [
        "marks = {\n",
        "    'Luttapi': 43,\n",
        "    'Dagini': 32,\n",
        "    'Mayavi': 34\n",
        "}\n",
        "\n",
        "with open( \"out.txt\", \"w\" ) as output:\n",
        "    output.write(\"Name\\tMark\\n\")\n",
        "\n",
        "    for mark in marks:\n",
        "        line = \"\\t\".join( [ mark , str(marks[mark]) ] )\n",
        "        output.write(line + \"\\n\")"
      ]
    },
    {
      "cell_type": "code",
      "execution_count": null,
      "id": "f0b584c9",
      "metadata": {
        "id": "f0b584c9"
      },
      "outputs": [],
      "source": [
        "results = []\n",
        "\n",
        "with open(\"test.txt\", \"r\") as data:\n",
        "    header = data.readline()\n",
        "    for line in data:\n",
        "        line = line.strip()\n",
        "        results.append(line.split(\" \"))\n",
        "        \n",
        "print(results)"
      ]
    },
    {
      "cell_type": "code",
      "execution_count": null,
      "id": "f1a42233",
      "metadata": {
        "id": "f1a42233"
      },
      "outputs": [],
      "source": [
        "import math\n",
        "print(math.pi, math.e)"
      ]
    },
    {
      "cell_type": "code",
      "execution_count": null,
      "id": "97a2ec8c",
      "metadata": {
        "id": "97a2ec8c"
      },
      "outputs": [],
      "source": [
        "import math as m\n",
        "print(m.pi, m.e)"
      ]
    },
    {
      "cell_type": "code",
      "execution_count": null,
      "id": "cebaaa0e",
      "metadata": {
        "id": "cebaaa0e"
      },
      "outputs": [],
      "source": [
        "from math import pi, e\n",
        "print(pi, e)"
      ]
    },
    {
      "cell_type": "code",
      "execution_count": null,
      "id": "8f92cfa4",
      "metadata": {
        "id": "8f92cfa4"
      },
      "outputs": [],
      "source": [
        "from math import pi\n",
        "from math import e\n",
        "print(pi,e)"
      ]
    },
    {
      "cell_type": "code",
      "execution_count": null,
      "id": "8978866f",
      "metadata": {
        "id": "8978866f"
      },
      "outputs": [],
      "source": [
        "import math\n",
        "dir(math)"
      ]
    },
    {
      "cell_type": "code",
      "execution_count": null,
      "id": "b3534f7e",
      "metadata": {
        "id": "b3534f7e"
      },
      "outputs": [],
      "source": [
        "print(math.floor(-6.4))"
      ]
    },
    {
      "cell_type": "code",
      "execution_count": null,
      "id": "a2be2fd0",
      "metadata": {
        "id": "a2be2fd0"
      },
      "outputs": [],
      "source": [
        "print(math.ceil(-6.4))"
      ]
    },
    {
      "cell_type": "code",
      "execution_count": null,
      "id": "6c2f3363",
      "metadata": {
        "id": "6c2f3363"
      },
      "outputs": [],
      "source": [
        "print(round(4.5))"
      ]
    },
    {
      "cell_type": "code",
      "execution_count": null,
      "id": "eda808d6",
      "metadata": {
        "id": "eda808d6"
      },
      "outputs": [],
      "source": [
        "dir(\"ram\")"
      ]
    },
    {
      "cell_type": "code",
      "execution_count": null,
      "id": "563f75b3",
      "metadata": {
        "id": "563f75b3"
      },
      "outputs": [],
      "source": [
        "dir(\"mystring\")"
      ]
    },
    {
      "cell_type": "code",
      "execution_count": null,
      "id": "b3c583a6",
      "metadata": {
        "id": "b3c583a6"
      },
      "outputs": [],
      "source": [
        "dir(str)"
      ]
    },
    {
      "cell_type": "code",
      "execution_count": null,
      "id": "d71e352b",
      "metadata": {
        "id": "d71e352b"
      },
      "outputs": [],
      "source": [
        "help(str.title)"
      ]
    },
    {
      "cell_type": "code",
      "execution_count": null,
      "id": "45821815",
      "metadata": {
        "id": "45821815"
      },
      "outputs": [],
      "source": [
        "dir(list)"
      ]
    },
    {
      "cell_type": "code",
      "execution_count": null,
      "id": "22af665a",
      "metadata": {
        "id": "22af665a"
      },
      "outputs": [],
      "source": [
        "dir(dict)"
      ]
    },
    {
      "cell_type": "markdown",
      "id": "6ec396b2",
      "metadata": {
        "id": "6ec396b2"
      },
      "source": [
        "## csv file  "
      ]
    },
    {
      "cell_type": "code",
      "execution_count": null,
      "id": "ed997c35",
      "metadata": {
        "id": "ed997c35"
      },
      "outputs": [],
      "source": [
        "mydata = [{'Organism': 'Human', 'Index': 1, 'Score': 1.076}, \n",
        "          {'Organism': 'Mouse', 'Index': 2, 'Score': 1.202}, \n",
        "          {'Organism': 'Frog', 'Index': 3, 'Score': 2.2362}, \n",
        "          {'Organism': 'Fly', 'Index': 4, 'Score': 0.9853}]\n",
        "\n",
        "with open('mydata.csv', 'w') as output:\n",
        "    # write a header\n",
        "    header = \",\".join(['Index', 'Organism', 'Score'])\n",
        "    output.write(header + \"\\n\")\n",
        "    for row in mydata:\n",
        "        line = \",\".join([str(row['Index']), row['Organism'], str(row['Score'])])\n",
        "        output.write(line + \"\\n\")"
      ]
    },
    {
      "cell_type": "code",
      "execution_count": null,
      "id": "ea3a044b",
      "metadata": {
        "id": "ea3a044b",
        "outputId": "97585f65-b74b-4415-a6aa-b93192ea53eb"
      },
      "outputs": [
        {
          "name": "stdout",
          "output_type": "stream",
          "text": [
            "['Index,Organism,Score']\n",
            "['1,Human,1.076']\n",
            "['2,Mouse,1.202']\n",
            "['3,Frog,2.2362']\n",
            "['4,Fly,0.9853']\n"
          ]
        }
      ],
      "source": [
        "import csv\n",
        "with open(\"mydata.csv\") as f:\n",
        "    reader = csv.reader(f, delimiter = \" \") # default delimiter is \",\"\n",
        "    for row in reader:\n",
        "        print(row)"
      ]
    },
    {
      "cell_type": "code",
      "execution_count": null,
      "id": "dbe6cedd",
      "metadata": {
        "id": "dbe6cedd",
        "outputId": "ff305582-9b4c-46b0-acb7-2091e7edfa2f"
      },
      "outputs": [
        {
          "name": "stdout",
          "output_type": "stream",
          "text": [
            "{'the': '', 'file': 'resulting', 'is': None, 'reset,': None}\n",
            "{'the': '', 'file': 'in', 'is': 'delection', 'reset,': 'of', None: ['any', 'data']}\n",
            "{'the': '', 'file': 'already', 'is': 'present', 'reset,': 'in', None: ['file....']}\n",
            "{'the': '', 'file': 'Append', 'is': 'or', 'reset,': 'add', None: ['data', '']}\n",
            "{'the': '', 'file': 'to', 'is': 'the', 'reset,': 'existing', None: ['data', 'of', 'file,', 'if', 'any...']}\n"
          ]
        }
      ],
      "source": [
        "with open(\"test.txt\") as f:\n",
        "    reader = csv.DictReader(f, delimiter = \" \")\n",
        "    for row in reader:\n",
        "        print(row)"
      ]
    },
    {
      "cell_type": "code",
      "execution_count": null,
      "id": "80c47aed",
      "metadata": {
        "id": "80c47aed",
        "outputId": "4fdc568d-6ea1-4c0f-e2da-29bc3feb5732"
      },
      "outputs": [
        {
          "name": "stdout",
          "output_type": "stream",
          "text": [
            "Index\tOrganism\tScore\n",
            "\n",
            "1\tHuman\t1.076\n",
            "\n",
            "2\tMouse\t1.202\n",
            "\n",
            "3\tFrog\t2.2362\n",
            "\n",
            "4\tFly\t0.9853\n",
            "\n",
            "\n"
          ]
        }
      ],
      "source": [
        "mydata = [\n",
        "    ['1', 'Human', '1.076'], \n",
        "    ['2', 'Mouse', '1.202'], \n",
        "    ['3', 'Frog', '2.2362'], \n",
        "    ['4', 'Fly', '0.9853']\n",
        "]\n",
        "\n",
        "with open(\"csvdata.tsv\", \"w\") as f:\n",
        "    writer = csv.writer(f, delimiter='\\t' )\n",
        "    writer.writerow( [ \"Index\", \"Organism\",\"Score\" ] ) # write header\n",
        "    for record in mydata:\n",
        "        writer.writerow( record )\n",
        "\n",
        "# Open the output file and print out its content\n",
        "with open(\"csvdata.tsv\") as f:\n",
        "    print(f.read())"
      ]
    },
    {
      "cell_type": "code",
      "execution_count": null,
      "id": "4e193044",
      "metadata": {
        "id": "4e193044",
        "outputId": "f4f4de64-4f3f-4254-932b-7b2e64977c1d"
      },
      "outputs": [
        {
          "name": "stdout",
          "output_type": "stream",
          "text": [
            "Index\tScore\tOrganism\n",
            "\n",
            "1\t1.076\tHuman\n",
            "\n",
            "2\t1.202\tMouse\n",
            "\n",
            "3\t2.2362\tFrog\n",
            "\n",
            "4\t0.9853\tFly\n",
            "\n",
            "\n"
          ]
        }
      ],
      "source": [
        "mydata = [\n",
        "    {'Index': '1', 'Score': '1.076', 'Organism': 'Human'}, \n",
        "    {'Index': '2', 'Score': '1.202', 'Organism': 'Mouse'}, \n",
        "    {'Index': '3', 'Score': '2.2362', 'Organism': 'Frog'}, \n",
        "    {'Index': '4', 'Score': '0.9853', 'Organism': 'Fly'}\n",
        "]\n",
        "\n",
        "with open(\"csvdictdata.tsv\", \"w\") as f:\n",
        "    writer = csv.DictWriter(f, mydata[3].keys(), delimiter='\\t')\n",
        "    writer.writeheader() # write header\n",
        "\n",
        "    for record in mydata:\n",
        "        writer.writerow( record )\n",
        "\n",
        "# Open the output file and print out its content\n",
        "with open(\"csvdictdata.tsv\") as f:\n",
        "    print(f.read())"
      ]
    },
    {
      "cell_type": "code",
      "execution_count": null,
      "id": "a3b0af6b",
      "metadata": {
        "id": "a3b0af6b",
        "outputId": "b79b8502-91ee-41aa-f119-783e2ccec062"
      },
      "outputs": [
        {
          "data": {
            "text/plain": [
              "'data\\\\mydata.txt'"
            ]
          },
          "execution_count": 24,
          "metadata": {},
          "output_type": "execute_result"
        }
      ],
      "source": [
        "import os.path\n",
        "os.path.join(\"data\", \"mydata.txt\")\n",
        "# data/mydata.txt - Unix\n",
        "# data\\mydata.txt - Window"
      ]
    },
    {
      "cell_type": "code",
      "execution_count": null,
      "id": "6878c558",
      "metadata": {
        "id": "6878c558",
        "outputId": "785eb95e-957a-434b-a6a4-58a331c06c75"
      },
      "outputs": [
        {
          "name": "stdout",
          "output_type": "stream",
          "text": [
            "file data , mydata.txt not found!\n"
          ]
        }
      ],
      "source": [
        "import os.path\n",
        "data_file = os.path.join(\"data , mydata.txt\")\n",
        "if os.path.exists(data_file):\n",
        "    print(\"file\", data_file, \"exists\")\n",
        "    with open(data_file) as f:\n",
        "        print(f.read())\n",
        "else:\n",
        "    print(\"file\", data_file, \"not found!\")"
      ]
    },
    {
      "cell_type": "code",
      "execution_count": null,
      "id": "a99f3e3e",
      "metadata": {
        "id": "a99f3e3e"
      },
      "outputs": [],
      "source": [
        ""
      ]
    },
    {
      "cell_type": "code",
      "execution_count": null,
      "id": "a0c48263",
      "metadata": {
        "id": "a0c48263"
      },
      "outputs": [],
      "source": [
        ""
      ]
    }
  ],
  "metadata": {
    "kernelspec": {
      "display_name": "Python 3 (ipykernel)",
      "language": "python",
      "name": "python3"
    },
    "language_info": {
      "codemirror_mode": {
        "name": "ipython",
        "version": 3
      },
      "file_extension": ".py",
      "mimetype": "text/x-python",
      "name": "python",
      "nbconvert_exporter": "python",
      "pygments_lexer": "ipython3",
      "version": "3.8.12"
    },
    "colab": {
      "name": "6. Files.ipynb",
      "provenance": [],
      "include_colab_link": true
    }
  },
  "nbformat": 4,
  "nbformat_minor": 5
}